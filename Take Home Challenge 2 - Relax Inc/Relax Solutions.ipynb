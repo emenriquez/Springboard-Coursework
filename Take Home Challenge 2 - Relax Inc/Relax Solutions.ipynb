{
 "cells": [
  {
   "cell_type": "markdown",
   "metadata": {},
   "source": [
    "Defining an \"adopted user\" as a user who has logged into the product on three separate days in at least one sevenday period , **identify which factors predict future user adoption**.\n",
    "\n",
    "We suggest spending 12 hours on this, but you're welcome to spend more or less. Please send us a brief writeup of your findings (the more concise, the better no more than one page), along with any summary tables, graphs, code, or queries that can help us understand your approach. Please note any factors you considered or investigation you did, even if they did not pan out. Feel free to identify any further research or data you think would be valuable."
   ]
  },
  {
   "cell_type": "code",
   "execution_count": 1,
   "metadata": {
    "collapsed": true
   },
   "outputs": [],
   "source": [
    "# Packages for working with data\n",
    "import pandas as pd\n",
    "\n",
    "# Tools for visualization\n",
    "import matplotlib.pyplot as plt\n",
    "import seaborn as sns\n",
    "sns.set(font_scale=1.5)\n",
    "\n",
    "# Tools for model building\n",
    "from sklearn.ensemble import RandomForestClassifier"
   ]
  },
  {
   "cell_type": "code",
   "execution_count": 2,
   "metadata": {
    "collapsed": true
   },
   "outputs": [],
   "source": [
    "# Load the datasets\n",
    "user_data = pd.read_csv('takehome_users.csv', encoding='mbcs', index_col='object_id',\n",
    "                        parse_dates=['creation_time'], infer_datetime_format=True)\n",
    "engagement_data = pd.read_csv('takehome_user_engagement.csv', encoding='mbcs', index_col='time_stamp',\n",
    "                              parse_dates=True, infer_datetime_format=True)"
   ]
  },
  {
   "cell_type": "code",
   "execution_count": 3,
   "metadata": {
    "scrolled": false
   },
   "outputs": [
    {
     "name": "stdout",
     "output_type": "stream",
     "text": [
      "<class 'pandas.core.frame.DataFrame'>\n",
      "Int64Index: 12000 entries, 1 to 12000\n",
      "Data columns (total 9 columns):\n",
      "creation_time                 12000 non-null datetime64[ns]\n",
      "name                          12000 non-null object\n",
      "email                         12000 non-null object\n",
      "creation_source               12000 non-null object\n",
      "last_session_creation_time    8823 non-null float64\n",
      "opted_in_to_mailing_list      12000 non-null int64\n",
      "enabled_for_marketing_drip    12000 non-null int64\n",
      "org_id                        12000 non-null int64\n",
      "invited_by_user_id            6417 non-null float64\n",
      "dtypes: datetime64[ns](1), float64(2), int64(3), object(3)\n",
      "memory usage: 937.5+ KB\n"
     ]
    },
    {
     "data": {
      "text/html": [
       "<div>\n",
       "<style>\n",
       "    .dataframe thead tr:only-child th {\n",
       "        text-align: right;\n",
       "    }\n",
       "\n",
       "    .dataframe thead th {\n",
       "        text-align: left;\n",
       "    }\n",
       "\n",
       "    .dataframe tbody tr th {\n",
       "        vertical-align: top;\n",
       "    }\n",
       "</style>\n",
       "<table border=\"1\" class=\"dataframe\">\n",
       "  <thead>\n",
       "    <tr style=\"text-align: right;\">\n",
       "      <th></th>\n",
       "      <th>creation_time</th>\n",
       "      <th>name</th>\n",
       "      <th>email</th>\n",
       "      <th>creation_source</th>\n",
       "      <th>last_session_creation_time</th>\n",
       "      <th>opted_in_to_mailing_list</th>\n",
       "      <th>enabled_for_marketing_drip</th>\n",
       "      <th>org_id</th>\n",
       "      <th>invited_by_user_id</th>\n",
       "    </tr>\n",
       "    <tr>\n",
       "      <th>object_id</th>\n",
       "      <th></th>\n",
       "      <th></th>\n",
       "      <th></th>\n",
       "      <th></th>\n",
       "      <th></th>\n",
       "      <th></th>\n",
       "      <th></th>\n",
       "      <th></th>\n",
       "      <th></th>\n",
       "    </tr>\n",
       "  </thead>\n",
       "  <tbody>\n",
       "    <tr>\n",
       "      <th>1</th>\n",
       "      <td>2014-04-22 03:53:30</td>\n",
       "      <td>Clausen August</td>\n",
       "      <td>AugustCClausen@yahoo.com</td>\n",
       "      <td>GUEST_INVITE</td>\n",
       "      <td>1.398139e+09</td>\n",
       "      <td>1</td>\n",
       "      <td>0</td>\n",
       "      <td>11</td>\n",
       "      <td>10803.0</td>\n",
       "    </tr>\n",
       "    <tr>\n",
       "      <th>2</th>\n",
       "      <td>2013-11-15 03:45:04</td>\n",
       "      <td>Poole Matthew</td>\n",
       "      <td>MatthewPoole@gustr.com</td>\n",
       "      <td>ORG_INVITE</td>\n",
       "      <td>1.396238e+09</td>\n",
       "      <td>0</td>\n",
       "      <td>0</td>\n",
       "      <td>1</td>\n",
       "      <td>316.0</td>\n",
       "    </tr>\n",
       "    <tr>\n",
       "      <th>3</th>\n",
       "      <td>2013-03-19 23:14:52</td>\n",
       "      <td>Bottrill Mitchell</td>\n",
       "      <td>MitchellBottrill@gustr.com</td>\n",
       "      <td>ORG_INVITE</td>\n",
       "      <td>1.363735e+09</td>\n",
       "      <td>0</td>\n",
       "      <td>0</td>\n",
       "      <td>94</td>\n",
       "      <td>1525.0</td>\n",
       "    </tr>\n",
       "    <tr>\n",
       "      <th>4</th>\n",
       "      <td>2013-05-21 08:09:28</td>\n",
       "      <td>Clausen Nicklas</td>\n",
       "      <td>NicklasSClausen@yahoo.com</td>\n",
       "      <td>GUEST_INVITE</td>\n",
       "      <td>1.369210e+09</td>\n",
       "      <td>0</td>\n",
       "      <td>0</td>\n",
       "      <td>1</td>\n",
       "      <td>5151.0</td>\n",
       "    </tr>\n",
       "    <tr>\n",
       "      <th>5</th>\n",
       "      <td>2013-01-17 10:14:20</td>\n",
       "      <td>Raw Grace</td>\n",
       "      <td>GraceRaw@yahoo.com</td>\n",
       "      <td>GUEST_INVITE</td>\n",
       "      <td>1.358850e+09</td>\n",
       "      <td>0</td>\n",
       "      <td>0</td>\n",
       "      <td>193</td>\n",
       "      <td>5240.0</td>\n",
       "    </tr>\n",
       "    <tr>\n",
       "      <th>6</th>\n",
       "      <td>2013-12-17 03:37:06</td>\n",
       "      <td>Cunha Eduardo</td>\n",
       "      <td>EduardoPereiraCunha@yahoo.com</td>\n",
       "      <td>GUEST_INVITE</td>\n",
       "      <td>1.387424e+09</td>\n",
       "      <td>0</td>\n",
       "      <td>0</td>\n",
       "      <td>197</td>\n",
       "      <td>11241.0</td>\n",
       "    </tr>\n",
       "    <tr>\n",
       "      <th>7</th>\n",
       "      <td>2012-12-16 13:24:32</td>\n",
       "      <td>Sewell Tyler</td>\n",
       "      <td>TylerSewell@jourrapide.com</td>\n",
       "      <td>SIGNUP</td>\n",
       "      <td>1.356010e+09</td>\n",
       "      <td>0</td>\n",
       "      <td>1</td>\n",
       "      <td>37</td>\n",
       "      <td>NaN</td>\n",
       "    </tr>\n",
       "    <tr>\n",
       "      <th>8</th>\n",
       "      <td>2013-07-31 05:34:02</td>\n",
       "      <td>Hamilton Danielle</td>\n",
       "      <td>DanielleHamilton@yahoo.com</td>\n",
       "      <td>PERSONAL_PROJECTS</td>\n",
       "      <td>NaN</td>\n",
       "      <td>1</td>\n",
       "      <td>1</td>\n",
       "      <td>74</td>\n",
       "      <td>NaN</td>\n",
       "    </tr>\n",
       "    <tr>\n",
       "      <th>9</th>\n",
       "      <td>2013-11-05 04:04:24</td>\n",
       "      <td>Amsel Paul</td>\n",
       "      <td>PaulAmsel@hotmail.com</td>\n",
       "      <td>PERSONAL_PROJECTS</td>\n",
       "      <td>NaN</td>\n",
       "      <td>0</td>\n",
       "      <td>0</td>\n",
       "      <td>302</td>\n",
       "      <td>NaN</td>\n",
       "    </tr>\n",
       "    <tr>\n",
       "      <th>10</th>\n",
       "      <td>2013-01-16 22:08:03</td>\n",
       "      <td>Santos Carla</td>\n",
       "      <td>CarlaFerreiraSantos@gustr.com</td>\n",
       "      <td>ORG_INVITE</td>\n",
       "      <td>1.401833e+09</td>\n",
       "      <td>1</td>\n",
       "      <td>1</td>\n",
       "      <td>318</td>\n",
       "      <td>4143.0</td>\n",
       "    </tr>\n",
       "  </tbody>\n",
       "</table>\n",
       "</div>"
      ],
      "text/plain": [
       "                creation_time               name  \\\n",
       "object_id                                          \n",
       "1         2014-04-22 03:53:30     Clausen August   \n",
       "2         2013-11-15 03:45:04      Poole Matthew   \n",
       "3         2013-03-19 23:14:52  Bottrill Mitchell   \n",
       "4         2013-05-21 08:09:28    Clausen Nicklas   \n",
       "5         2013-01-17 10:14:20          Raw Grace   \n",
       "6         2013-12-17 03:37:06      Cunha Eduardo   \n",
       "7         2012-12-16 13:24:32       Sewell Tyler   \n",
       "8         2013-07-31 05:34:02  Hamilton Danielle   \n",
       "9         2013-11-05 04:04:24         Amsel Paul   \n",
       "10        2013-01-16 22:08:03       Santos Carla   \n",
       "\n",
       "                                   email    creation_source  \\\n",
       "object_id                                                     \n",
       "1               AugustCClausen@yahoo.com       GUEST_INVITE   \n",
       "2                 MatthewPoole@gustr.com         ORG_INVITE   \n",
       "3             MitchellBottrill@gustr.com         ORG_INVITE   \n",
       "4              NicklasSClausen@yahoo.com       GUEST_INVITE   \n",
       "5                     GraceRaw@yahoo.com       GUEST_INVITE   \n",
       "6          EduardoPereiraCunha@yahoo.com       GUEST_INVITE   \n",
       "7             TylerSewell@jourrapide.com             SIGNUP   \n",
       "8             DanielleHamilton@yahoo.com  PERSONAL_PROJECTS   \n",
       "9                  PaulAmsel@hotmail.com  PERSONAL_PROJECTS   \n",
       "10         CarlaFerreiraSantos@gustr.com         ORG_INVITE   \n",
       "\n",
       "           last_session_creation_time  opted_in_to_mailing_list  \\\n",
       "object_id                                                         \n",
       "1                        1.398139e+09                         1   \n",
       "2                        1.396238e+09                         0   \n",
       "3                        1.363735e+09                         0   \n",
       "4                        1.369210e+09                         0   \n",
       "5                        1.358850e+09                         0   \n",
       "6                        1.387424e+09                         0   \n",
       "7                        1.356010e+09                         0   \n",
       "8                                 NaN                         1   \n",
       "9                                 NaN                         0   \n",
       "10                       1.401833e+09                         1   \n",
       "\n",
       "           enabled_for_marketing_drip  org_id  invited_by_user_id  \n",
       "object_id                                                          \n",
       "1                                   0      11             10803.0  \n",
       "2                                   0       1               316.0  \n",
       "3                                   0      94              1525.0  \n",
       "4                                   0       1              5151.0  \n",
       "5                                   0     193              5240.0  \n",
       "6                                   0     197             11241.0  \n",
       "7                                   1      37                 NaN  \n",
       "8                                   1      74                 NaN  \n",
       "9                                   0     302                 NaN  \n",
       "10                                  1     318              4143.0  "
      ]
     },
     "execution_count": 3,
     "metadata": {},
     "output_type": "execute_result"
    }
   ],
   "source": [
    "# Display information on users dataset\n",
    "user_data.info()\n",
    "user_data.head(10)"
   ]
  },
  {
   "cell_type": "code",
   "execution_count": 4,
   "metadata": {},
   "outputs": [
    {
     "data": {
      "text/html": [
       "<div>\n",
       "<style>\n",
       "    .dataframe thead tr:only-child th {\n",
       "        text-align: right;\n",
       "    }\n",
       "\n",
       "    .dataframe thead th {\n",
       "        text-align: left;\n",
       "    }\n",
       "\n",
       "    .dataframe tbody tr th {\n",
       "        vertical-align: top;\n",
       "    }\n",
       "</style>\n",
       "<table border=\"1\" class=\"dataframe\">\n",
       "  <thead>\n",
       "    <tr style=\"text-align: right;\">\n",
       "      <th></th>\n",
       "      <th>last_session_creation_time</th>\n",
       "      <th>opted_in_to_mailing_list</th>\n",
       "      <th>enabled_for_marketing_drip</th>\n",
       "      <th>org_id</th>\n",
       "      <th>invited_by_user_id</th>\n",
       "    </tr>\n",
       "  </thead>\n",
       "  <tbody>\n",
       "    <tr>\n",
       "      <th>count</th>\n",
       "      <td>8.823000e+03</td>\n",
       "      <td>12000.000000</td>\n",
       "      <td>12000.000000</td>\n",
       "      <td>12000.000000</td>\n",
       "      <td>6417.000000</td>\n",
       "    </tr>\n",
       "    <tr>\n",
       "      <th>mean</th>\n",
       "      <td>1.379279e+09</td>\n",
       "      <td>0.249500</td>\n",
       "      <td>0.149333</td>\n",
       "      <td>141.884583</td>\n",
       "      <td>5962.957145</td>\n",
       "    </tr>\n",
       "    <tr>\n",
       "      <th>std</th>\n",
       "      <td>1.953116e+07</td>\n",
       "      <td>0.432742</td>\n",
       "      <td>0.356432</td>\n",
       "      <td>124.056723</td>\n",
       "      <td>3383.761968</td>\n",
       "    </tr>\n",
       "    <tr>\n",
       "      <th>min</th>\n",
       "      <td>1.338452e+09</td>\n",
       "      <td>0.000000</td>\n",
       "      <td>0.000000</td>\n",
       "      <td>0.000000</td>\n",
       "      <td>3.000000</td>\n",
       "    </tr>\n",
       "    <tr>\n",
       "      <th>25%</th>\n",
       "      <td>1.363195e+09</td>\n",
       "      <td>0.000000</td>\n",
       "      <td>0.000000</td>\n",
       "      <td>29.000000</td>\n",
       "      <td>3058.000000</td>\n",
       "    </tr>\n",
       "    <tr>\n",
       "      <th>50%</th>\n",
       "      <td>1.382888e+09</td>\n",
       "      <td>0.000000</td>\n",
       "      <td>0.000000</td>\n",
       "      <td>108.000000</td>\n",
       "      <td>5954.000000</td>\n",
       "    </tr>\n",
       "    <tr>\n",
       "      <th>75%</th>\n",
       "      <td>1.398443e+09</td>\n",
       "      <td>0.000000</td>\n",
       "      <td>0.000000</td>\n",
       "      <td>238.250000</td>\n",
       "      <td>8817.000000</td>\n",
       "    </tr>\n",
       "    <tr>\n",
       "      <th>max</th>\n",
       "      <td>1.402067e+09</td>\n",
       "      <td>1.000000</td>\n",
       "      <td>1.000000</td>\n",
       "      <td>416.000000</td>\n",
       "      <td>11999.000000</td>\n",
       "    </tr>\n",
       "  </tbody>\n",
       "</table>\n",
       "</div>"
      ],
      "text/plain": [
       "       last_session_creation_time  opted_in_to_mailing_list  \\\n",
       "count                8.823000e+03              12000.000000   \n",
       "mean                 1.379279e+09                  0.249500   \n",
       "std                  1.953116e+07                  0.432742   \n",
       "min                  1.338452e+09                  0.000000   \n",
       "25%                  1.363195e+09                  0.000000   \n",
       "50%                  1.382888e+09                  0.000000   \n",
       "75%                  1.398443e+09                  0.000000   \n",
       "max                  1.402067e+09                  1.000000   \n",
       "\n",
       "       enabled_for_marketing_drip        org_id  invited_by_user_id  \n",
       "count                12000.000000  12000.000000         6417.000000  \n",
       "mean                     0.149333    141.884583         5962.957145  \n",
       "std                      0.356432    124.056723         3383.761968  \n",
       "min                      0.000000      0.000000            3.000000  \n",
       "25%                      0.000000     29.000000         3058.000000  \n",
       "50%                      0.000000    108.000000         5954.000000  \n",
       "75%                      0.000000    238.250000         8817.000000  \n",
       "max                      1.000000    416.000000        11999.000000  "
      ]
     },
     "execution_count": 4,
     "metadata": {},
     "output_type": "execute_result"
    }
   ],
   "source": [
    "# Display statistics on numeric columns in the user dataset\n",
    "user_data.describe()"
   ]
  },
  {
   "cell_type": "code",
   "execution_count": 5,
   "metadata": {},
   "outputs": [
    {
     "name": "stdout",
     "output_type": "stream",
     "text": [
      "<class 'pandas.core.frame.DataFrame'>\n",
      "DatetimeIndex: 207917 entries, 2014-04-22 03:53:30 to 2014-01-26 08:57:12\n",
      "Data columns (total 2 columns):\n",
      "user_id    207917 non-null int64\n",
      "visited    207917 non-null int64\n",
      "dtypes: int64(2)\n",
      "memory usage: 4.8 MB\n"
     ]
    },
    {
     "data": {
      "text/html": [
       "<div>\n",
       "<style>\n",
       "    .dataframe thead tr:only-child th {\n",
       "        text-align: right;\n",
       "    }\n",
       "\n",
       "    .dataframe thead th {\n",
       "        text-align: left;\n",
       "    }\n",
       "\n",
       "    .dataframe tbody tr th {\n",
       "        vertical-align: top;\n",
       "    }\n",
       "</style>\n",
       "<table border=\"1\" class=\"dataframe\">\n",
       "  <thead>\n",
       "    <tr style=\"text-align: right;\">\n",
       "      <th></th>\n",
       "      <th>user_id</th>\n",
       "      <th>visited</th>\n",
       "    </tr>\n",
       "    <tr>\n",
       "      <th>time_stamp</th>\n",
       "      <th></th>\n",
       "      <th></th>\n",
       "    </tr>\n",
       "  </thead>\n",
       "  <tbody>\n",
       "    <tr>\n",
       "      <th>2014-04-22 03:53:30</th>\n",
       "      <td>1</td>\n",
       "      <td>1</td>\n",
       "    </tr>\n",
       "    <tr>\n",
       "      <th>2013-11-15 03:45:04</th>\n",
       "      <td>2</td>\n",
       "      <td>1</td>\n",
       "    </tr>\n",
       "    <tr>\n",
       "      <th>2013-11-29 03:45:04</th>\n",
       "      <td>2</td>\n",
       "      <td>1</td>\n",
       "    </tr>\n",
       "    <tr>\n",
       "      <th>2013-12-09 03:45:04</th>\n",
       "      <td>2</td>\n",
       "      <td>1</td>\n",
       "    </tr>\n",
       "    <tr>\n",
       "      <th>2013-12-25 03:45:04</th>\n",
       "      <td>2</td>\n",
       "      <td>1</td>\n",
       "    </tr>\n",
       "  </tbody>\n",
       "</table>\n",
       "</div>"
      ],
      "text/plain": [
       "                     user_id  visited\n",
       "time_stamp                           \n",
       "2014-04-22 03:53:30        1        1\n",
       "2013-11-15 03:45:04        2        1\n",
       "2013-11-29 03:45:04        2        1\n",
       "2013-12-09 03:45:04        2        1\n",
       "2013-12-25 03:45:04        2        1"
      ]
     },
     "execution_count": 5,
     "metadata": {},
     "output_type": "execute_result"
    }
   ],
   "source": [
    "# Display general information on the user engagement dataset\n",
    "engagement_data.info()\n",
    "engagement_data.head()"
   ]
  },
  {
   "cell_type": "code",
   "execution_count": 6,
   "metadata": {},
   "outputs": [
    {
     "data": {
      "text/html": [
       "<div>\n",
       "<style>\n",
       "    .dataframe thead tr:only-child th {\n",
       "        text-align: right;\n",
       "    }\n",
       "\n",
       "    .dataframe thead th {\n",
       "        text-align: left;\n",
       "    }\n",
       "\n",
       "    .dataframe tbody tr th {\n",
       "        vertical-align: top;\n",
       "    }\n",
       "</style>\n",
       "<table border=\"1\" class=\"dataframe\">\n",
       "  <thead>\n",
       "    <tr style=\"text-align: right;\">\n",
       "      <th></th>\n",
       "      <th>user_id</th>\n",
       "      <th>visited</th>\n",
       "    </tr>\n",
       "  </thead>\n",
       "  <tbody>\n",
       "    <tr>\n",
       "      <th>count</th>\n",
       "      <td>207917.000000</td>\n",
       "      <td>207917.0</td>\n",
       "    </tr>\n",
       "    <tr>\n",
       "      <th>mean</th>\n",
       "      <td>5913.314197</td>\n",
       "      <td>1.0</td>\n",
       "    </tr>\n",
       "    <tr>\n",
       "      <th>std</th>\n",
       "      <td>3394.941674</td>\n",
       "      <td>0.0</td>\n",
       "    </tr>\n",
       "    <tr>\n",
       "      <th>min</th>\n",
       "      <td>1.000000</td>\n",
       "      <td>1.0</td>\n",
       "    </tr>\n",
       "    <tr>\n",
       "      <th>25%</th>\n",
       "      <td>3087.000000</td>\n",
       "      <td>1.0</td>\n",
       "    </tr>\n",
       "    <tr>\n",
       "      <th>50%</th>\n",
       "      <td>5682.000000</td>\n",
       "      <td>1.0</td>\n",
       "    </tr>\n",
       "    <tr>\n",
       "      <th>75%</th>\n",
       "      <td>8944.000000</td>\n",
       "      <td>1.0</td>\n",
       "    </tr>\n",
       "    <tr>\n",
       "      <th>max</th>\n",
       "      <td>12000.000000</td>\n",
       "      <td>1.0</td>\n",
       "    </tr>\n",
       "  </tbody>\n",
       "</table>\n",
       "</div>"
      ],
      "text/plain": [
       "             user_id   visited\n",
       "count  207917.000000  207917.0\n",
       "mean     5913.314197       1.0\n",
       "std      3394.941674       0.0\n",
       "min         1.000000       1.0\n",
       "25%      3087.000000       1.0\n",
       "50%      5682.000000       1.0\n",
       "75%      8944.000000       1.0\n",
       "max     12000.000000       1.0"
      ]
     },
     "execution_count": 6,
     "metadata": {},
     "output_type": "execute_result"
    }
   ],
   "source": [
    "# Display statistics to get a better idea of user engagement dataset\n",
    "engagement_data.describe()"
   ]
  },
  {
   "cell_type": "markdown",
   "metadata": {},
   "source": [
    "There are a few details to unpack before I start working with the data. First, in the user_data dataset, we have several columns that should be formatted in order to yield information valuable for predictions. The following steps will be taken in this dataset:\n",
    "\n",
    "1. The name of the user is not likely to be useful to us for prediction (at the moment), so it will be dropped.\n",
    "2. For emails it may be useful to know which domain each user is using. This information could be useful because maybe certain domain services are classifying email from the service as spam, or the interface layout may positively impact visibility for emails. The domain name will be extracted and turned into a categorical value.\n",
    "3. creation_source should be formatted as categorical values.\n",
    "4. last_session_creation_time should be converted from seconds to datetime format.\n",
    "    a. This column is missing values and so more effort will be placed here later on.\n",
    "5. org_id should also be converted into categorical format.\n",
    "6. invited_by_user_id can be converted into a boolean value (indicated whether a user has been invited by another user (1) or not (0).\n",
    "    a. The missing values in this column will be converted to 0's"
   ]
  },
  {
   "cell_type": "code",
   "execution_count": 7,
   "metadata": {},
   "outputs": [
    {
     "name": "stdout",
     "output_type": "stream",
     "text": [
      "---Names Dropped!---\n"
     ]
    }
   ],
   "source": [
    "# Drop user name column\n",
    "user_data.drop('name', axis=1, inplace=True)\n",
    "print('---Names Dropped!---')"
   ]
  },
  {
   "cell_type": "code",
   "execution_count": 8,
   "metadata": {},
   "outputs": [
    {
     "name": "stdout",
     "output_type": "stream",
     "text": [
      "---Email Domains Extracted!---\n"
     ]
    }
   ],
   "source": [
    "# Extract domain name only for email column\n",
    "user_data.email = user_data.email.str.split('@', expand=True).loc[:, 1]\n",
    "\n",
    "# Only keep domains that are used more than 2 times (removing outliers) and replace with 'other'\n",
    "main_domains = list(user_data.email.value_counts()[user_data.email.value_counts() > 2].index)\n",
    "user_data.email = user_data.email.map(lambda x: x if x in main_domains else 'other')\n",
    "print('---Email Domains Extracted!---')"
   ]
  },
  {
   "cell_type": "code",
   "execution_count": 9,
   "metadata": {},
   "outputs": [
    {
     "name": "stdout",
     "output_type": "stream",
     "text": [
      "---Creation Source Categories Created!---\n"
     ]
    }
   ],
   "source": [
    "# Format creation_source column as categorical values\n",
    "user_data.creation_source = user_data.creation_source.astype('category')\n",
    "print('---Creation Source Categories Created!---')"
   ]
  },
  {
   "cell_type": "code",
   "execution_count": 10,
   "metadata": {},
   "outputs": [
    {
     "name": "stdout",
     "output_type": "stream",
     "text": [
      "---Last Session Datetime Objects Formatted!---\n"
     ]
    }
   ],
   "source": [
    "# Format last_session_creation_time as datetime object\n",
    "user_data.last_session_creation_time = pd.to_datetime(user_data.last_session_creation_time, unit='s')\n",
    "print('---Last Session Datetime Objects Formatted!---')"
   ]
  },
  {
   "cell_type": "code",
   "execution_count": 11,
   "metadata": {},
   "outputs": [
    {
     "name": "stdout",
     "output_type": "stream",
     "text": [
      "---Organization ID Categories Created!---\n"
     ]
    }
   ],
   "source": [
    "# Convert org_id column to categorical format\n",
    "user_data.org_id = user_data.org_id.astype('category')\n",
    "print('---Organization ID Categories Created!---')"
   ]
  },
  {
   "cell_type": "code",
   "execution_count": 12,
   "metadata": {},
   "outputs": [
    {
     "name": "stdout",
     "output_type": "stream",
     "text": [
      "---User Invitations Converted to Boolean Values!---\n"
     ]
    }
   ],
   "source": [
    "# Convert invited_by_user_id to boolean column\n",
    "user_data.invited_by_user_id = user_data.invited_by_user_id.map(lambda x: 1 if x > 0 else 0)\n",
    "print('---User Invitations Converted to Boolean Values!---')"
   ]
  },
  {
   "cell_type": "markdown",
   "metadata": {},
   "source": [
    "Now we can check in the data information to make sure everything is going as expected."
   ]
  },
  {
   "cell_type": "code",
   "execution_count": 13,
   "metadata": {
    "scrolled": true
   },
   "outputs": [
    {
     "name": "stdout",
     "output_type": "stream",
     "text": [
      "<class 'pandas.core.frame.DataFrame'>\n",
      "Int64Index: 12000 entries, 1 to 12000\n",
      "Data columns (total 8 columns):\n",
      "creation_time                 12000 non-null datetime64[ns]\n",
      "email                         12000 non-null object\n",
      "creation_source               12000 non-null category\n",
      "last_session_creation_time    8823 non-null datetime64[ns]\n",
      "opted_in_to_mailing_list      12000 non-null int64\n",
      "enabled_for_marketing_drip    12000 non-null int64\n",
      "org_id                        12000 non-null category\n",
      "invited_by_user_id            12000 non-null int64\n",
      "dtypes: category(2), datetime64[ns](2), int64(3), object(1)\n",
      "memory usage: 714.9+ KB\n"
     ]
    }
   ],
   "source": [
    "user_data.info()"
   ]
  },
  {
   "cell_type": "markdown",
   "metadata": {},
   "source": [
    "The table shown below shows that last_session_creation_time is the only column left with missing values.\n",
    "\n",
    "These must be dealt with care, since some missing entries may be erroneous. It is possible to pull the last entry in the engagement_data dataset and replace the last_session_creation_time with the datetime stamp from this table.\n",
    "\n",
    "If values are still missing after applying this process, the remaining timestamps can be set to the creation_time column values."
   ]
  },
  {
   "cell_type": "code",
   "execution_count": 14,
   "metadata": {},
   "outputs": [
    {
     "name": "stdout",
     "output_type": "stream",
     "text": [
      "Number of users with logins in engagement_data: 8823\n"
     ]
    }
   ],
   "source": [
    "# Check how many users are represented in engagement_data\n",
    "total_logins = engagement_data.user_id.value_counts()\n",
    "\n",
    "print('Number of users with logins in engagement_data: {0}'.format(total_logins.shape[0]))"
   ]
  },
  {
   "cell_type": "markdown",
   "metadata": {},
   "source": [
    "It looks like the same 8,823 users are also the only ones represented in engagement_data, which makes it likely that the original data is correct. In this case, we will set the null values to be the account creation time for the respective users."
   ]
  },
  {
   "cell_type": "code",
   "execution_count": 15,
   "metadata": {
    "collapsed": true
   },
   "outputs": [],
   "source": [
    "# Fill in missing values for last session time\n",
    "user_data.last_session_creation_time = [user_data.last_session_creation_time[i] if i in sorted(total_logins.index) else user_data.creation_time[i] for i in user_data.index]"
   ]
  },
  {
   "cell_type": "markdown",
   "metadata": {},
   "source": [
    "Lastly I will create a column indicating whether or not each user has logged into the product on three separate days in at least one seven day period (i.e. an \"adopted user\")"
   ]
  },
  {
   "cell_type": "code",
   "execution_count": 16,
   "metadata": {
    "collapsed": true
   },
   "outputs": [],
   "source": [
    "# reform dataframe to show daily logins for users with 3 or more total logins\n",
    "outlier_users = sorted(engagement_data.user_id.value_counts()[engagement_data.user_id.value_counts() <3].index)\n",
    "daily_logins = engagement_data.groupby('user_id').resample('D').visited.sum()"
   ]
  },
  {
   "cell_type": "code",
   "execution_count": 17,
   "metadata": {},
   "outputs": [],
   "source": [
    "# Drop outlier users from daily_logins list\n",
    "daily_logins.drop(labels=outlier_users, inplace=True)"
   ]
  },
  {
   "cell_type": "code",
   "execution_count": 18,
   "metadata": {
    "collapsed": true
   },
   "outputs": [],
   "source": [
    "# Unstack the data so that columns are users and rows are days with 1 for login in that day\n",
    "daily_logins = daily_logins.unstack(level=0)"
   ]
  },
  {
   "cell_type": "code",
   "execution_count": 19,
   "metadata": {
    "collapsed": true
   },
   "outputs": [],
   "source": [
    "# Create an empty set to story user_ids with more than 3 logins in any rolling 7 day period\n",
    "adopted_users = set()\n",
    "for i in range(7,daily_logins.shape[0]):\n",
    "    user_logins = daily_logins[i-7:i].sum(axis=0)\n",
    "    adopted_users.update(user_logins[user_logins > 3].index)\n",
    "\n",
    "# Create a list indicating whether each user was adopted or not\n",
    "adopted_user_list = [1 if i in adopted_users else 0 for i in user_data.index]\n",
    "\n",
    "# Add column to user_data\n",
    "user_data['adopted_user'] = adopted_user_list"
   ]
  },
  {
   "cell_type": "markdown",
   "metadata": {},
   "source": [
    "Next I will finalize processing of the data for input into a model."
   ]
  },
  {
   "cell_type": "code",
   "execution_count": 20,
   "metadata": {},
   "outputs": [
    {
     "name": "stdout",
     "output_type": "stream",
     "text": [
      "<class 'pandas.core.frame.DataFrame'>\n",
      "Int64Index: 12000 entries, 1 to 12000\n",
      "Data columns (total 9 columns):\n",
      "creation_time                 12000 non-null datetime64[ns]\n",
      "email                         12000 non-null object\n",
      "creation_source               12000 non-null category\n",
      "last_session_creation_time    12000 non-null datetime64[ns]\n",
      "opted_in_to_mailing_list      12000 non-null int64\n",
      "enabled_for_marketing_drip    12000 non-null int64\n",
      "org_id                        12000 non-null category\n",
      "invited_by_user_id            12000 non-null int64\n",
      "adopted_user                  12000 non-null int64\n",
      "dtypes: category(2), datetime64[ns](2), int64(4), object(1)\n",
      "memory usage: 1.1+ MB\n"
     ]
    }
   ],
   "source": [
    "user_data.info()"
   ]
  },
  {
   "cell_type": "code",
   "execution_count": 21,
   "metadata": {
    "collapsed": true
   },
   "outputs": [],
   "source": [
    "# Format categorical variables as One-hot-encoded format\n",
    "X_temp = user_data.drop(['creation_time', 'last_session_creation_time', 'adopted_user'], axis=1)\n",
    "X = pd.get_dummies(X_temp, columns=['email', 'creation_source', 'org_id'], drop_first=True)\n",
    "y = user_data.adopted_user"
   ]
  },
  {
   "cell_type": "markdown",
   "metadata": {},
   "source": [
    "Now the data is ready for modeling, with the adopted_user column serving as our target variable. Random forest will be used for the predictions here."
   ]
  },
  {
   "cell_type": "code",
   "execution_count": 22,
   "metadata": {},
   "outputs": [
    {
     "name": "stderr",
     "output_type": "stream",
     "text": [
      "[Parallel(n_jobs=-1)]: Done  42 tasks      | elapsed:    2.2s\n",
      "[Parallel(n_jobs=-1)]: Done 192 tasks      | elapsed:    9.7s\n",
      "[Parallel(n_jobs=-1)]: Done 200 out of 200 | elapsed:   10.0s finished\n"
     ]
    },
    {
     "name": "stdout",
     "output_type": "stream",
     "text": [
      "Out-of-bag generalization accuracy estimate: 0.82 %\n"
     ]
    }
   ],
   "source": [
    "# Set up random forest\n",
    "rf_clf = RandomForestClassifier(n_estimators=200, oob_score=True, n_jobs=-1,\n",
    "                                random_state=42, verbose=1, class_weight='balanced')\n",
    "\n",
    "# fit the model to the data\n",
    "rf_clf.fit(X, y)\n",
    "print('Out-of-bag generalization accuracy estimate: {0:.2f} %'.format(rf_clf.oob_score_))"
   ]
  },
  {
   "cell_type": "code",
   "execution_count": 23,
   "metadata": {},
   "outputs": [
    {
     "data": {
      "image/png": "[encoded data removed]",
      "text/plain": [
       "<matplotlib.figure.Figure at 0xc8e10f0>"
      ]
     },
     "metadata": {},
     "output_type": "display_data"
    }
   ],
   "source": [
    "# Plot feature importances for random forest\n",
    "features = X.columns.values\n",
    "\n",
    "importance_df = pd.DataFrame(\n",
    "    data = {'features': features,\n",
    "            'Importance': rf_clf.feature_importances_\n",
    "           }\n",
    ").sort_values(by='Importance',\n",
    "              ascending=True)\n",
    "\n",
    "# Set the index for the importance dataframe\n",
    "importance_df.set_index('features', inplace=True)\n",
    "\n",
    "# Generate horizontal bar plot\n",
    "importance_df[-10:].plot(kind='barh', figsize=(10, 12), facecolor='DarkRed', edgecolor='k')\n",
    "\n",
    "# Plot formatting\n",
    "plt.xlabel('Feature Importance')\n",
    "plt.ylabel('Features')\n",
    "plt.title('Barplot of Top 10 Feature Importance Ranking')\n",
    "\n",
    "plt.show()"
   ]
  },
  {
   "cell_type": "markdown",
   "metadata": {},
   "source": [
    "# Findings\n",
    "\n",
    "Based on the analysis of the data, the most important factors relating to whether or not users will adopt are shown in the barplot above. The most important feature, by far, is whether the user was on the mailing list for the company, followed by whether they were recieving the marketing drip. Based on these factors, it would be advantageous to offer incentives that get more users onto the mailing lists. \n",
    "\n",
    "Email domain platform also plays a large role, and it may be worth the time to test emails on each platform to check for formatting that matches the intended emails sent, as well as spam filtering and how the email inboxes are laid out.\n",
    "\n",
    "The reason for account creation was also rated highly, for organization invites and personal projects being of particular performance. It may be worth taking a closer look at how each category of these users utilize the service and perhaps offer incentives to bring up usage where performance is poor.\n",
    "\n",
    "Lastly, whether or not users were invited by other users was a factor of relatively high importance. In this case, it can be useful to incentivize users to invite others."
   ]
  }
 ],
 "metadata": {
  "kernelspec": {
   "display_name": "Python 3",
   "language": "python",
   "name": "python3"
  },
  "language_info": {
   "codemirror_mode": {
    "name": "ipython",
    "version": 3
   },
   "file_extension": ".py",
   "mimetype": "text/x-python",
   "name": "python",
   "nbconvert_exporter": "python",
   "pygments_lexer": "ipython3",
   "version": "3.6.2"
  }
 },
 "nbformat": 4,
 "nbformat_minor": 2
}
