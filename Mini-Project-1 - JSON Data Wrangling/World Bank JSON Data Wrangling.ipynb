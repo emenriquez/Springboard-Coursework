{
 "cells": [
  {
   "cell_type": "markdown",
   "metadata": {},
   "source": [
    "# World Bank Dataset\n",
    "\n",
    "### Problem Statement\n",
    "\n",
    "For this mini-project, the following objectives are outlined:\n",
    "\n",
    "Using data in file **'data/world_bank_projects.json'**:\n",
    "1. Find the 10 countries with most projects\n",
    "2. Find the top 10 major project themes (using column 'mjtheme_namecode')\n",
    "3. In 2. above you will notice that some entries have only the code and the name is missing. Create a dataframe with the missing names filled in.\n",
    "\n",
    "To start, the relevant packages and the dataset will be loaded so that we can get a look at what we are working with."
   ]
  },
  {
   "cell_type": "code",
   "execution_count": 1,
   "metadata": {
    "collapsed": true
   },
   "outputs": [],
   "source": [
    "# required to work with data as dataframe\n",
    "import pandas as pd\n",
    "\n",
    "# required to load json data and manipulate nested lists within the json file\n",
    "import json\n",
    "from pandas.io.json import json_normalize"
   ]
  },
  {
   "cell_type": "code",
   "execution_count": 2,
   "metadata": {},
   "outputs": [],
   "source": [
    "# load JSON dataset into DataFrame\n",
    "df = pd.read_json('data/world_bank_projects.json')"
   ]
  },
  {
   "cell_type": "markdown",
   "metadata": {},
   "source": [
    "Before tackling the objectives, we will first take a look at the general structure and properties of the data we are working with."
   ]
  },
  {
   "cell_type": "code",
   "execution_count": 3,
   "metadata": {},
   "outputs": [
    {
     "name": "stdout",
     "output_type": "stream",
     "text": [
      "<class 'pandas.core.frame.DataFrame'>\n",
      "RangeIndex: 500 entries, 0 to 499\n",
      "Data columns (total 50 columns):\n",
      "_id                         500 non-null object\n",
      "approvalfy                  500 non-null int64\n",
      "board_approval_month        500 non-null object\n",
      "boardapprovaldate           500 non-null object\n",
      "borrower                    485 non-null object\n",
      "closingdate                 370 non-null object\n",
      "country_namecode            500 non-null object\n",
      "countrycode                 500 non-null object\n",
      "countryname                 500 non-null object\n",
      "countryshortname            500 non-null object\n",
      "docty                       446 non-null object\n",
      "envassesmentcategorycode    430 non-null object\n",
      "grantamt                    500 non-null int64\n",
      "ibrdcommamt                 500 non-null int64\n",
      "id                          500 non-null object\n",
      "idacommamt                  500 non-null int64\n",
      "impagency                   472 non-null object\n",
      "lendinginstr                495 non-null object\n",
      "lendinginstrtype            495 non-null object\n",
      "lendprojectcost             500 non-null int64\n",
      "majorsector_percent         500 non-null object\n",
      "mjsector_namecode           500 non-null object\n",
      "mjtheme                     491 non-null object\n",
      "mjtheme_namecode            500 non-null object\n",
      "mjthemecode                 500 non-null object\n",
      "prodline                    500 non-null object\n",
      "prodlinetext                500 non-null object\n",
      "productlinetype             500 non-null object\n",
      "project_abstract            362 non-null object\n",
      "project_name                500 non-null object\n",
      "projectdocs                 446 non-null object\n",
      "projectfinancialtype        500 non-null object\n",
      "projectstatusdisplay        500 non-null object\n",
      "regionname                  500 non-null object\n",
      "sector                      500 non-null object\n",
      "sector1                     500 non-null object\n",
      "sector2                     380 non-null object\n",
      "sector3                     265 non-null object\n",
      "sector4                     174 non-null object\n",
      "sector_namecode             500 non-null object\n",
      "sectorcode                  500 non-null object\n",
      "source                      500 non-null object\n",
      "status                      500 non-null object\n",
      "supplementprojectflg        498 non-null object\n",
      "theme1                      500 non-null object\n",
      "theme_namecode              491 non-null object\n",
      "themecode                   491 non-null object\n",
      "totalamt                    500 non-null int64\n",
      "totalcommamt                500 non-null int64\n",
      "url                         500 non-null object\n",
      "dtypes: int64(7), object(43)\n",
      "memory usage: 195.4+ KB\n"
     ]
    }
   ],
   "source": [
    "# Display general info of the World Bank Dataset\n",
    "df.info()"
   ]
  },
  {
   "cell_type": "markdown",
   "metadata": {},
   "source": [
    "The dataset presented here has 500 entries and 50 main features for each. We can see from this info that there are some missing entries in the data, and the column labels are a bit messy. In order to get a better idea of the data we should look at a few entries."
   ]
  },
  {
   "cell_type": "code",
   "execution_count": 4,
   "metadata": {
    "scrolled": false
   },
   "outputs": [
    {
     "data": {
      "text/html": [
       "<div>\n",
       "<style>\n",
       "    .dataframe thead tr:only-child th {\n",
       "        text-align: right;\n",
       "    }\n",
       "\n",
       "    .dataframe thead th {\n",
       "        text-align: left;\n",
       "    }\n",
       "\n",
       "    .dataframe tbody tr th {\n",
       "        vertical-align: top;\n",
       "    }\n",
       "</style>\n",
       "<table border=\"1\" class=\"dataframe\">\n",
       "  <thead>\n",
       "    <tr style=\"text-align: right;\">\n",
       "      <th></th>\n",
       "      <th>_id</th>\n",
       "      <th>approvalfy</th>\n",
       "      <th>board_approval_month</th>\n",
       "      <th>boardapprovaldate</th>\n",
       "      <th>borrower</th>\n",
       "      <th>closingdate</th>\n",
       "      <th>country_namecode</th>\n",
       "      <th>countrycode</th>\n",
       "      <th>countryname</th>\n",
       "      <th>countryshortname</th>\n",
       "      <th>...</th>\n",
       "      <th>sectorcode</th>\n",
       "      <th>source</th>\n",
       "      <th>status</th>\n",
       "      <th>supplementprojectflg</th>\n",
       "      <th>theme1</th>\n",
       "      <th>theme_namecode</th>\n",
       "      <th>themecode</th>\n",
       "      <th>totalamt</th>\n",
       "      <th>totalcommamt</th>\n",
       "      <th>url</th>\n",
       "    </tr>\n",
       "  </thead>\n",
       "  <tbody>\n",
       "    <tr>\n",
       "      <th>0</th>\n",
       "      <td>{'$oid': '52b213b38594d8a2be17c780'}</td>\n",
       "      <td>1999</td>\n",
       "      <td>November</td>\n",
       "      <td>2013-11-12T00:00:00Z</td>\n",
       "      <td>FEDERAL DEMOCRATIC REPUBLIC OF ETHIOPIA</td>\n",
       "      <td>2018-07-07T00:00:00Z</td>\n",
       "      <td>Federal Democratic Republic of Ethiopia!$!ET</td>\n",
       "      <td>ET</td>\n",
       "      <td>Federal Democratic Republic of Ethiopia</td>\n",
       "      <td>Ethiopia</td>\n",
       "      <td>...</td>\n",
       "      <td>ET,BS,ES,EP</td>\n",
       "      <td>IBRD</td>\n",
       "      <td>Active</td>\n",
       "      <td>N</td>\n",
       "      <td>{'Percent': 100, 'Name': 'Education for all'}</td>\n",
       "      <td>[{'code': '65', 'name': 'Education for all'}]</td>\n",
       "      <td>65</td>\n",
       "      <td>130000000</td>\n",
       "      <td>130000000</td>\n",
       "      <td>http://www.worldbank.org/projects/P129828/ethi...</td>\n",
       "    </tr>\n",
       "    <tr>\n",
       "      <th>1</th>\n",
       "      <td>{'$oid': '52b213b38594d8a2be17c781'}</td>\n",
       "      <td>2015</td>\n",
       "      <td>November</td>\n",
       "      <td>2013-11-04T00:00:00Z</td>\n",
       "      <td>GOVERNMENT OF TUNISIA</td>\n",
       "      <td>NaN</td>\n",
       "      <td>Republic of Tunisia!$!TN</td>\n",
       "      <td>TN</td>\n",
       "      <td>Republic of Tunisia</td>\n",
       "      <td>Tunisia</td>\n",
       "      <td>...</td>\n",
       "      <td>BZ,BS</td>\n",
       "      <td>IBRD</td>\n",
       "      <td>Active</td>\n",
       "      <td>N</td>\n",
       "      <td>{'Percent': 30, 'Name': 'Other economic manage...</td>\n",
       "      <td>[{'code': '24', 'name': 'Other economic manage...</td>\n",
       "      <td>54,24</td>\n",
       "      <td>0</td>\n",
       "      <td>4700000</td>\n",
       "      <td>http://www.worldbank.org/projects/P144674?lang=en</td>\n",
       "    </tr>\n",
       "    <tr>\n",
       "      <th>2</th>\n",
       "      <td>{'$oid': '52b213b38594d8a2be17c782'}</td>\n",
       "      <td>2014</td>\n",
       "      <td>November</td>\n",
       "      <td>2013-11-01T00:00:00Z</td>\n",
       "      <td>MINISTRY OF FINANCE AND ECONOMIC DEVEL</td>\n",
       "      <td>NaN</td>\n",
       "      <td>Tuvalu!$!TV</td>\n",
       "      <td>TV</td>\n",
       "      <td>Tuvalu</td>\n",
       "      <td>Tuvalu</td>\n",
       "      <td>...</td>\n",
       "      <td>TI</td>\n",
       "      <td>IBRD</td>\n",
       "      <td>Active</td>\n",
       "      <td>Y</td>\n",
       "      <td>{'Percent': 46, 'Name': 'Regional integration'}</td>\n",
       "      <td>[{'code': '47', 'name': 'Regional integration'...</td>\n",
       "      <td>52,81,25,47</td>\n",
       "      <td>6060000</td>\n",
       "      <td>6060000</td>\n",
       "      <td>http://www.worldbank.org/projects/P145310?lang=en</td>\n",
       "    </tr>\n",
       "    <tr>\n",
       "      <th>3</th>\n",
       "      <td>{'$oid': '52b213b38594d8a2be17c783'}</td>\n",
       "      <td>2014</td>\n",
       "      <td>October</td>\n",
       "      <td>2013-10-31T00:00:00Z</td>\n",
       "      <td>MIN. OF PLANNING AND INT'L COOPERATION</td>\n",
       "      <td>NaN</td>\n",
       "      <td>Republic of Yemen!$!RY</td>\n",
       "      <td>RY</td>\n",
       "      <td>Republic of Yemen</td>\n",
       "      <td>Yemen, Republic of</td>\n",
       "      <td>...</td>\n",
       "      <td>JB</td>\n",
       "      <td>IBRD</td>\n",
       "      <td>Active</td>\n",
       "      <td>N</td>\n",
       "      <td>{'Percent': 50, 'Name': 'Participation and civ...</td>\n",
       "      <td>[{'code': '57', 'name': 'Participation and civ...</td>\n",
       "      <td>59,57</td>\n",
       "      <td>0</td>\n",
       "      <td>1500000</td>\n",
       "      <td>http://www.worldbank.org/projects/P144665?lang=en</td>\n",
       "    </tr>\n",
       "    <tr>\n",
       "      <th>4</th>\n",
       "      <td>{'$oid': '52b213b38594d8a2be17c784'}</td>\n",
       "      <td>2014</td>\n",
       "      <td>October</td>\n",
       "      <td>2013-10-31T00:00:00Z</td>\n",
       "      <td>MINISTRY OF FINANCE</td>\n",
       "      <td>2019-04-30T00:00:00Z</td>\n",
       "      <td>Kingdom of Lesotho!$!LS</td>\n",
       "      <td>LS</td>\n",
       "      <td>Kingdom of Lesotho</td>\n",
       "      <td>Lesotho</td>\n",
       "      <td>...</td>\n",
       "      <td>FH,YW,YZ</td>\n",
       "      <td>IBRD</td>\n",
       "      <td>Active</td>\n",
       "      <td>N</td>\n",
       "      <td>{'Percent': 30, 'Name': 'Export development an...</td>\n",
       "      <td>[{'code': '45', 'name': 'Export development an...</td>\n",
       "      <td>41,45</td>\n",
       "      <td>13100000</td>\n",
       "      <td>13100000</td>\n",
       "      <td>http://www.worldbank.org/projects/P144933/seco...</td>\n",
       "    </tr>\n",
       "  </tbody>\n",
       "</table>\n",
       "<p>5 rows × 50 columns</p>\n",
       "</div>"
      ],
      "text/plain": [
       "                                    _id  approvalfy board_approval_month  \\\n",
       "0  {'$oid': '52b213b38594d8a2be17c780'}        1999             November   \n",
       "1  {'$oid': '52b213b38594d8a2be17c781'}        2015             November   \n",
       "2  {'$oid': '52b213b38594d8a2be17c782'}        2014             November   \n",
       "3  {'$oid': '52b213b38594d8a2be17c783'}        2014              October   \n",
       "4  {'$oid': '52b213b38594d8a2be17c784'}        2014              October   \n",
       "\n",
       "      boardapprovaldate                                 borrower  \\\n",
       "0  2013-11-12T00:00:00Z  FEDERAL DEMOCRATIC REPUBLIC OF ETHIOPIA   \n",
       "1  2013-11-04T00:00:00Z                    GOVERNMENT OF TUNISIA   \n",
       "2  2013-11-01T00:00:00Z   MINISTRY OF FINANCE AND ECONOMIC DEVEL   \n",
       "3  2013-10-31T00:00:00Z   MIN. OF PLANNING AND INT'L COOPERATION   \n",
       "4  2013-10-31T00:00:00Z                      MINISTRY OF FINANCE   \n",
       "\n",
       "            closingdate                              country_namecode  \\\n",
       "0  2018-07-07T00:00:00Z  Federal Democratic Republic of Ethiopia!$!ET   \n",
       "1                   NaN                      Republic of Tunisia!$!TN   \n",
       "2                   NaN                                   Tuvalu!$!TV   \n",
       "3                   NaN                        Republic of Yemen!$!RY   \n",
       "4  2019-04-30T00:00:00Z                       Kingdom of Lesotho!$!LS   \n",
       "\n",
       "  countrycode                              countryname    countryshortname  \\\n",
       "0          ET  Federal Democratic Republic of Ethiopia            Ethiopia   \n",
       "1          TN                      Republic of Tunisia             Tunisia   \n",
       "2          TV                                   Tuvalu              Tuvalu   \n",
       "3          RY                        Republic of Yemen  Yemen, Republic of   \n",
       "4          LS                       Kingdom of Lesotho             Lesotho   \n",
       "\n",
       "                         ...                           sectorcode source  \\\n",
       "0                        ...                          ET,BS,ES,EP   IBRD   \n",
       "1                        ...                                BZ,BS   IBRD   \n",
       "2                        ...                                   TI   IBRD   \n",
       "3                        ...                                   JB   IBRD   \n",
       "4                        ...                             FH,YW,YZ   IBRD   \n",
       "\n",
       "   status  supplementprojectflg  \\\n",
       "0  Active                     N   \n",
       "1  Active                     N   \n",
       "2  Active                     Y   \n",
       "3  Active                     N   \n",
       "4  Active                     N   \n",
       "\n",
       "                                              theme1  \\\n",
       "0      {'Percent': 100, 'Name': 'Education for all'}   \n",
       "1  {'Percent': 30, 'Name': 'Other economic manage...   \n",
       "2    {'Percent': 46, 'Name': 'Regional integration'}   \n",
       "3  {'Percent': 50, 'Name': 'Participation and civ...   \n",
       "4  {'Percent': 30, 'Name': 'Export development an...   \n",
       "\n",
       "                                      theme_namecode    themecode   totalamt  \\\n",
       "0      [{'code': '65', 'name': 'Education for all'}]           65  130000000   \n",
       "1  [{'code': '24', 'name': 'Other economic manage...        54,24          0   \n",
       "2  [{'code': '47', 'name': 'Regional integration'...  52,81,25,47    6060000   \n",
       "3  [{'code': '57', 'name': 'Participation and civ...        59,57          0   \n",
       "4  [{'code': '45', 'name': 'Export development an...        41,45   13100000   \n",
       "\n",
       "  totalcommamt                                                url  \n",
       "0    130000000  http://www.worldbank.org/projects/P129828/ethi...  \n",
       "1      4700000  http://www.worldbank.org/projects/P144674?lang=en  \n",
       "2      6060000  http://www.worldbank.org/projects/P145310?lang=en  \n",
       "3      1500000  http://www.worldbank.org/projects/P144665?lang=en  \n",
       "4     13100000  http://www.worldbank.org/projects/P144933/seco...  \n",
       "\n",
       "[5 rows x 50 columns]"
      ]
     },
     "execution_count": 4,
     "metadata": {},
     "output_type": "execute_result"
    }
   ],
   "source": [
    "# Extract a preview of the first few rows of data\n",
    "df.head()"
   ]
  },
  {
   "cell_type": "markdown",
   "metadata": {},
   "source": [
    "The data above shows that our JSON data contains several features comprised of lists of subfeatures. This is important to note and will be addressed in the second and third problems we are given."
   ]
  },
  {
   "cell_type": "markdown",
   "metadata": {},
   "source": [
    "### 1. Find the 10 countries with most projects\n",
    "\n",
    "Working with a dataframe here has a few advantages. We can easily count the number of times each country appears in the list of projects. "
   ]
  },
  {
   "cell_type": "code",
   "execution_count": 5,
   "metadata": {},
   "outputs": [
    {
     "data": {
      "text/plain": [
       "People's Republic of China                  19\n",
       "Republic of Indonesia                       19\n",
       "Socialist Republic of Vietnam               17\n",
       "Republic of India                           16\n",
       "Republic of Yemen                           13\n",
       "Kingdom of Morocco                          12\n",
       "Nepal                                       12\n",
       "People's Republic of Bangladesh             12\n",
       "Republic of Mozambique                      11\n",
       "Africa                                      11\n",
       "Federative Republic of Brazil                9\n",
       "Burkina Faso                                 9\n",
       "Islamic Republic of Pakistan                 9\n",
       "Republic of Armenia                          8\n",
       "Republic of Tajikistan                       8\n",
       "United Republic of Tanzania                  8\n",
       "Kyrgyz Republic                              7\n",
       "Hashemite Kingdom of Jordan                  7\n",
       "Lao People's Democratic Republic             7\n",
       "Federal Republic of Nigeria                  7\n",
       "West Bank and Gaza                           6\n",
       "Democratic Republic of the Congo             6\n",
       "Islamic State of Afghanistan                 6\n",
       "Republic of Peru                             6\n",
       "Republic of Kenya                            6\n",
       "Republic of Nicaragua                        6\n",
       "Republic of Uzbekistan                       5\n",
       "Republic of Haiti                            5\n",
       "Republic of Moldova                          5\n",
       "Republic of Liberia                          5\n",
       "                                            ..\n",
       "Jamaica                                      2\n",
       "Republic of Ecuador                          2\n",
       "United Mexican States                        2\n",
       "Republic of Malawi                           2\n",
       "Republic of Mauritius                        2\n",
       "Republic of Sierra Leone                     2\n",
       "Republic of Kosovo                           2\n",
       "People's Republic of Angola                  1\n",
       "Republic of Kiribati                         1\n",
       "Republic of Zimbabwe                         1\n",
       "Europe and Central Asia                      1\n",
       "Republic of Costa Rica                       1\n",
       "East Asia and Pacific                        1\n",
       "Republic of Panama                           1\n",
       "Republic of Cape Verde                       1\n",
       "Kingdom of Thailand                          1\n",
       "Republic of Congo                            1\n",
       "Central African Republic                     1\n",
       "Romania                                      1\n",
       "Republic of Belarus                          1\n",
       "Republic of Poland                           1\n",
       "Republic of Serbia                           1\n",
       "Democratic Socialist Republic of Sri Lan     1\n",
       "Republic of Namibia                          1\n",
       "Republic of Chad                             1\n",
       "Bosnia and Herzegovina                       1\n",
       "Antigua and Barbuda                          1\n",
       "Tuvalu                                       1\n",
       "Kingdom of Tonga                             1\n",
       "Republic of Chile                            1\n",
       "Name: countryname, Length: 118, dtype: int64"
      ]
     },
     "execution_count": 5,
     "metadata": {},
     "output_type": "execute_result"
    }
   ],
   "source": [
    "# List number of occurances for each country\n",
    "df['countryname'].value_counts()"
   ]
  },
  {
   "cell_type": "markdown",
   "metadata": {},
   "source": [
    "We can see that the generated table automatically lists the country occurences in descending order, so the first 10 entries correspond to the top 10 countries with the most projects in this dataset.\n",
    "\n",
    "Closer inspection reveals that the 9th entry is Africa. Africa is not a country. Just to double check, if we follow one of the url links from the 'url' column of a row for Africa (http://www.worldbank.org/projects/P144902?lang=en) we can see that indeed on the World Bank website, the country for the project is listed as Africa so it doesn't appear to be a reporting error in our dataset. We will leave it as is for now."
   ]
  },
  {
   "cell_type": "code",
   "execution_count": 6,
   "metadata": {},
   "outputs": [
    {
     "data": {
      "text/plain": [
       "45    http://www.worldbank.org/projects/P125018/west...\n",
       "46    http://www.worldbank.org/projects/P118213/rcip...\n",
       "51    http://www.worldbank.org/projects/P130888/buil...\n",
       "58    http://www.worldbank.org/projects/P144902?lang=en\n",
       "65    http://www.worldbank.org/projects/P075941/nels...\n",
       "Name: url, dtype: object"
      ]
     },
     "execution_count": 6,
     "metadata": {},
     "output_type": "execute_result"
    }
   ],
   "source": [
    "# List previews of urls from the Africa rows\n",
    "df[df['countryname'] == 'Africa']['url'][:5]"
   ]
  },
  {
   "cell_type": "markdown",
   "metadata": {},
   "source": [
    "We can now use the previous list to generate a table with the top 10 countries that had the most projects funded in this dataset, shown below."
   ]
  },
  {
   "cell_type": "code",
   "execution_count": 7,
   "metadata": {},
   "outputs": [
    {
     "name": "stdout",
     "output_type": "stream",
     "text": [
      "                              Country  # of Projects\n",
      "Rank                                                \n",
      "1          People's Republic of China             19\n",
      "2               Republic of Indonesia             19\n",
      "3       Socialist Republic of Vietnam             17\n",
      "4                   Republic of India             16\n",
      "5                   Republic of Yemen             13\n",
      "6                  Kingdom of Morocco             12\n",
      "7                               Nepal             12\n",
      "8     People's Republic of Bangladesh             12\n",
      "9              Republic of Mozambique             11\n",
      "10                             Africa             11\n"
     ]
    }
   ],
   "source": [
    "# Generate dataframe with top 10 countries with most projects in this dataset\n",
    "top10 = pd.DataFrame(data= {'Country': df['countryname'].value_counts().index.values[:10],\n",
    "                   '# of Projects': df['countryname'].value_counts().values[:10]},\n",
    "             columns = ['Country', '# of Projects'],\n",
    "             index=range(1,11)\n",
    "                    )\n",
    "\n",
    "# Label the index as ranking\n",
    "top10.index.name = 'Rank'\n",
    "\n",
    "# Display top10 rankings\n",
    "print(top10)"
   ]
  },
  {
   "cell_type": "markdown",
   "metadata": {},
   "source": [
    "The resulting table celarly shows the top 10 countries (read: 9 countries and 1 continent) that had projects in this dataset.\n",
    "\n",
    "### 2. Find the top 10 major project themes (using column 'mjtheme_namecode')\n",
    "\n",
    "Although the second problem we will address looks very similar to the first, we cannot simply plug in the same method due to the structure of the 'mjtheme_namecode' column we are working with. We can see below that calling the first few entries in the column returns entries comprised of lists."
   ]
  },
  {
   "cell_type": "code",
   "execution_count": 8,
   "metadata": {},
   "outputs": [
    {
     "data": {
      "text/plain": [
       "0    [{'code': '8', 'name': 'Human development'}, {...\n",
       "1    [{'code': '1', 'name': 'Economic management'},...\n",
       "2    [{'code': '5', 'name': 'Trade and integration'...\n",
       "3    [{'code': '7', 'name': 'Social dev/gender/incl...\n",
       "4    [{'code': '5', 'name': 'Trade and integration'...\n",
       "Name: mjtheme_namecode, dtype: object"
      ]
     },
     "execution_count": 8,
     "metadata": {},
     "output_type": "execute_result"
    }
   ],
   "source": [
    "df['mjtheme_namecode'].head()"
   ]
  },
  {
   "cell_type": "markdown",
   "metadata": {},
   "source": [
    "In order to get a better look and more easily deal with the JSON nested list data, we will load the data as a list instead directly into a pandas dataframe."
   ]
  },
  {
   "cell_type": "code",
   "execution_count": 9,
   "metadata": {},
   "outputs": [
    {
     "name": "stdout",
     "output_type": "stream",
     "text": [
      "  code                                          name\n",
      "0    8                             Human development\n",
      "1   11                                              \n",
      "2    1                           Economic management\n",
      "3    6         Social protection and risk management\n",
      "4    5                         Trade and integration\n",
      "5    2                      Public sector governance\n",
      "6   11  Environment and natural resources management\n",
      "7    6         Social protection and risk management\n",
      "8    7                   Social dev/gender/inclusion\n",
      "9    7                   Social dev/gender/inclusion\n"
     ]
    }
   ],
   "source": [
    "# import the World Bank data as a nested list structure\n",
    "json1 = json.load((open('data/world_bank_projects.json')))\n",
    "\n",
    "# Extract 'mjtheme_namecode' column from the JSON data\n",
    "themes = json_normalize(json1, 'mjtheme_namecode')\n",
    "\n",
    "# Print the first 10 rows of the extracted themes column\n",
    "print(themes.head(10))"
   ]
  },
  {
   "cell_type": "markdown",
   "metadata": {},
   "source": [
    "We can see by looking at the entries above that now we have parsed the entries of the themes column into codes and respective names of project themes. There are missing entries in the 'name' column, as shown above. The task of filling in these missing values will be addressed in the next section, but for now we will work with the data as-is."
   ]
  },
  {
   "cell_type": "code",
   "execution_count": 10,
   "metadata": {},
   "outputs": [
    {
     "name": "stdout",
     "output_type": "stream",
     "text": [
      "Top Occurences of Themes by Name: \n",
      "Environment and natural resources management    223\n",
      "Rural development                               202\n",
      "Human development                               197\n",
      "Public sector governance                        184\n",
      "Social protection and risk management           158\n",
      "Financial and private sector development        130\n",
      "                                                122\n",
      "Social dev/gender/inclusion                     119\n",
      "Trade and integration                            72\n",
      "Urban development                                47\n",
      "Economic management                              33\n",
      "Rule of law                                      12\n",
      "Name: name, dtype: int64\n",
      "\n",
      "Top Occurences of Themes by Code: \n",
      "11    250\n",
      "10    216\n",
      "8     210\n",
      "2     199\n",
      "6     168\n",
      "4     146\n",
      "7     130\n",
      "5      77\n",
      "9      50\n",
      "1      38\n",
      "3      15\n",
      "Name: code, dtype: int64\n",
      "\n",
      "# of missing entries in \"code\" column: 0\n"
     ]
    }
   ],
   "source": [
    "# Display occurences in the 'name' column of themes\n",
    "print('Top Occurences of Themes by Name: \\n{0}'.format(themes['name'].value_counts()))\n",
    "\n",
    "print('\\nTop Occurences of Themes by Code: \\n{0}'.format(themes['code'].value_counts()))\n",
    "\n",
    "# Display message showing number of NA entries in the 'code' column\n",
    "print('\\n# of missing entries in \"code\" column: {0}'.format(themes['code'].isnull().sum()))"
   ]
  },
  {
   "cell_type": "markdown",
   "metadata": {},
   "source": [
    "We can see that although there are a large amount of missing entries in the 'name' column, there do not appear to be any missing values in the 'code' column. The missing entries in the 'name' column are interesting, since they are \"\" entries. They are not null, but since they are strings of length 0 they can be found quite easily.\n",
    "\n",
    "Although we have the list of top occurences of themes by code without missing entries above to generate our top 10 (only theme code 3 doesn't make the top 10 list), using project theme codes doesn't have much meaning. We should translate the theme codes back into names before we make our list.\n",
    "\n",
    "In order to build our top 10 list, the first step will be to build a dictionary that can translate theme codes into the respective theme names."
   ]
  },
  {
   "cell_type": "code",
   "execution_count": 11,
   "metadata": {},
   "outputs": [],
   "source": [
    "# Initialize empty lists to fill with keys and values for dictionary\n",
    "themes_names = []\n",
    "themes_codes = []\n",
    "themes_dict = []\n",
    "\n",
    "# Iterate over the entries in themes and extract only unique values to create key-value pairs for dictionary\n",
    "for entry in range(themes['name'].shape[0]):\n",
    "    if (len(themes['name'][entry]) > 0) & (themes['name'][entry] not in themes_names):\n",
    "        themes_codes.append(themes['code'][entry])\n",
    "        themes_names.append(themes['name'][entry])\n",
    "\n",
    "        \n",
    "# Generate dictionary to relate project theme codes to their name values\n",
    "themes_dict = dict(zip(themes_codes, themes_names))"
   ]
  },
  {
   "cell_type": "markdown",
   "metadata": {},
   "source": [
    "Now that we have a translator, we can build our top 10 list with a similar process to the one we used in the previous section."
   ]
  },
  {
   "cell_type": "code",
   "execution_count": 12,
   "metadata": {},
   "outputs": [
    {
     "name": "stdout",
     "output_type": "stream",
     "text": [
      "                                     Project Theme  # of Projects\n",
      "Rank                                                             \n",
      "1     Environment and natural resources management            250\n",
      "2                                Rural development            216\n",
      "3                                Human development            210\n",
      "4                         Public sector governance            199\n",
      "5            Social protection and risk management            168\n",
      "6         Financial and private sector development            146\n",
      "7                      Social dev/gender/inclusion            130\n",
      "8                            Trade and integration             77\n",
      "9                                Urban development             50\n",
      "10                             Economic management             38\n"
     ]
    }
   ],
   "source": [
    "# Generate Series with codes translated to names using themes_dict\n",
    "code2name = pd.Series([themes_dict[x] for x in themes['code']])\n",
    "\n",
    "# Generate ranking of top 10 Project Themes\n",
    "top10 = pd.DataFrame(data= {'Project Theme': code2name.value_counts().index.values[:10],\n",
    "                   '# of Projects': code2name.value_counts().values[:10]},\n",
    "             columns = ['Project Theme', '# of Projects'],\n",
    "             index=range(1,11)\n",
    "                    )\n",
    "\n",
    "# Label the index as ranking\n",
    "top10.index.name = 'Rank'\n",
    "\n",
    "# Display top10 rankings\n",
    "print(top10)"
   ]
  },
  {
   "cell_type": "markdown",
   "metadata": {},
   "source": [
    "The resulting table is much neater!"
   ]
  },
  {
   "cell_type": "markdown",
   "metadata": {},
   "source": [
    "### 3. Create a dataframe with the missing names filled in for 'mjtheme_namecode' column"
   ]
  },
  {
   "cell_type": "markdown",
   "metadata": {},
   "source": [
    "Since we have already created a dictionary to translate project theme codes into names, this problem becomes quite simple to address. There are a few options to do this: 1) We can search the 'name' column in our themes data for any entries that are strings of 0 length and replace them with their corresponding theme according to the codes for those entries. 2) A much quicker option would be to use the complete list of names we already generated in the previous section (code2name) and replace the original 'name' column of themes."
   ]
  },
  {
   "cell_type": "code",
   "execution_count": 13,
   "metadata": {},
   "outputs": [
    {
     "name": "stdout",
     "output_type": "stream",
     "text": [
      "List of unique values occuring in \"names\" column of themes \n",
      " ['Human development' '' 'Economic management'\n",
      " 'Social protection and risk management' 'Trade and integration'\n",
      " 'Public sector governance' 'Environment and natural resources management'\n",
      " 'Social dev/gender/inclusion' 'Financial and private sector development'\n",
      " 'Rural development' 'Urban development' 'Rule of law']\n",
      "\n",
      "List of unique values occuring in \"names\" after replacement \n",
      " ['Human development' 'Environment and natural resources management'\n",
      " 'Economic management' 'Social protection and risk management'\n",
      " 'Trade and integration' 'Public sector governance'\n",
      " 'Social dev/gender/inclusion' 'Financial and private sector development'\n",
      " 'Rural development' 'Urban development' 'Rule of law']\n"
     ]
    }
   ],
   "source": [
    "# Display list of values before replacement of missing entries\n",
    "print('List of unique values occuring in \"names\" column of themes \\n', themes['name'].unique())\n",
    "\n",
    "# Replace missing values with code2name\n",
    "themes['name'] = code2name\n",
    "\n",
    "# Display list of values after replacement of missing entries\n",
    "print('\\nList of unique values occuring in \"names\" after replacement \\n', themes['name'].unique())"
   ]
  },
  {
   "cell_type": "markdown",
   "metadata": {},
   "source": [
    "We can see now that in the second table there are no \"\" entries found. We can also visualize this by returning to the count of occurrences for each value in the 'name' column of themes."
   ]
  },
  {
   "cell_type": "code",
   "execution_count": 14,
   "metadata": {},
   "outputs": [
    {
     "data": {
      "text/plain": [
       "Environment and natural resources management    250\n",
       "Rural development                               216\n",
       "Human development                               210\n",
       "Public sector governance                        199\n",
       "Social protection and risk management           168\n",
       "Financial and private sector development        146\n",
       "Social dev/gender/inclusion                     130\n",
       "Trade and integration                            77\n",
       "Urban development                                50\n",
       "Economic management                              38\n",
       "Rule of law                                      15\n",
       "Name: name, dtype: int64"
      ]
     },
     "execution_count": 14,
     "metadata": {},
     "output_type": "execute_result"
    }
   ],
   "source": [
    "themes['name'].value_counts()"
   ]
  },
  {
   "cell_type": "markdown",
   "metadata": {},
   "source": [
    "### Thank you for reading!"
   ]
  }
 ],
 "metadata": {
  "kernelspec": {
   "display_name": "Python 3",
   "language": "python",
   "name": "python3"
  },
  "language_info": {
   "codemirror_mode": {
    "name": "ipython",
    "version": 3
   },
   "file_extension": ".py",
   "mimetype": "text/x-python",
   "name": "python",
   "nbconvert_exporter": "python",
   "pygments_lexer": "ipython3",
   "version": "3.6.2"
  }
 },
 "nbformat": 4,
 "nbformat_minor": 1
}
