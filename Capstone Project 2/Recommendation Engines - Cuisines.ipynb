{
 "cells": [
  {
   "cell_type": "markdown",
   "metadata": {},
   "source": [
    "## Recommendation Engines via Nearest Neighbors\n",
    "\n",
    "#### Objectives\n",
    "\n",
    "In this section, I will use a TF-IDF format of the recipe data that I have been working with [here](https://github.com/emenriquez/Springboard-Coursework/blob/master/Capstone%20Project%202/EDA%20-%20Cuisines.ipynb) to create recommendation engines for the following applications that could be used by users of the Yummly service:\n",
    "\n",
    "1. **Simple recommendation engine** - recommend the most similar recipes to a user's current recipe\n",
    "2. **Recipe discovery engine** - recommend the most similar recipes to a user's current recipe that are from different cuisines unique from the user's original recipe cuisine.  \n",
    "    Example: (User's recipe is Italian) \"Here are 3 similar recipes from French, Irish, and Spanish cuisines.\"  \n",
    "3. **Ingredient list recommendation engine** - take the ingredients that a user has, and recommend recipes that can be made, along with suggestions for which additional ingredients they may need.\n",
    "4. **Ingredient pairing recommendation engine** - take ingredients for a user's recipe and recommend ingredients that are likely to pair well based on how often they are used together in the dataset."
   ]
  },
  {
   "cell_type": "code",
   "execution_count": 1,
   "metadata": {
    "collapsed": true
   },
   "outputs": [],
   "source": [
    "# import packages to read and work with data\n",
    "import pandas as pd\n",
    "import numpy as np\n",
    "from collections import defaultdict\n",
    "from random import shuffle, sample\n",
    "import itertools\n",
    "import time\n",
    "\n",
    "# Visualization packages\n",
    "import matplotlib.pyplot as plt\n",
    "import matplotlib.cm as cm\n",
    "import seaborn as sns\n",
    "sns.set(font_scale=1.5)\n",
    "\n",
    "# Packages for working with text data\n",
    "from nltk import tokenize\n",
    "from sklearn.feature_extraction.text import TfidfVectorizer\n",
    "\n",
    "# Tools for Recommendations\n",
    "from sklearn.neighbors import NearestNeighbors"
   ]
  },
  {
   "cell_type": "markdown",
   "metadata": {},
   "source": [
    "First I will redefine the TF-IDF sparse matrix for the data."
   ]
  },
  {
   "cell_type": "code",
   "execution_count": 2,
   "metadata": {
    "collapsed": true
   },
   "outputs": [],
   "source": [
    "# Load the cleaned dataset from the data folder\n",
    "data = pd.read_pickle('data/data_clean.pkl')\n",
    "\n",
    "# drop the words column of data\n",
    "data.drop('words', axis=1, inplace=True)\n",
    "\n",
    "# Convert the recipe ingredient lists into strings\n",
    "ingredient_strings = [', '.join(recipe) for recipe in data.ingredients]\n",
    "data.ingredients = ingredient_strings"
   ]
  },
  {
   "cell_type": "code",
   "execution_count": 3,
   "metadata": {
    "collapsed": true
   },
   "outputs": [],
   "source": [
    "# Custom tokenizer to separate list into tokens by commas\n",
    "tokenized = tokenize.regexp.RegexpTokenizer(pattern=\", \", gaps=True)\n",
    "\n",
    "# Create TF-IDF weighting dictionary for each cuisine, exclude terms that appear in every cuisine\n",
    "tfidf = TfidfVectorizer(tokenizer=tokenized.tokenize, max_df=0.12, binary=True, use_idf=False, norm=None)\n",
    "\n",
    "# Fit and transform cuisine ingredient lists to generate sparse matrix\n",
    "ingredients_weighted = tfidf.fit_transform(data.ingredients)"
   ]
  },
  {
   "cell_type": "code",
   "execution_count": 4,
   "metadata": {
    "scrolled": true
   },
   "outputs": [
    {
     "data": {
      "text/plain": [
       "<39757x720 sparse matrix of type '<class 'numpy.float64'>'\n",
       "\twith 267634 stored elements in Compressed Sparse Row format>"
      ]
     },
     "execution_count": 4,
     "metadata": {},
     "output_type": "execute_result"
    }
   ],
   "source": [
    "ingredients_weighted"
   ]
  },
  {
   "cell_type": "markdown",
   "metadata": {},
   "source": [
    "### 1. Simple Recommendation Engine\n",
    "\n",
    "Now that the sparse matrix is created, I will create the first recommendation engine, which will output the nearest neighbor recipes that can be suggested to the user."
   ]
  },
  {
   "cell_type": "code",
   "execution_count": 5,
   "metadata": {
    "collapsed": true
   },
   "outputs": [],
   "source": [
    "def similar_cuisine_recommendations(user_recipe_id, n_recommendations=3):\n",
    "    \"\"\"\n",
    "    This function takes in the id of a recipe for a user, and generates similar recipe recommendations.\n",
    "    \"\"\"\n",
    "    \n",
    "    # Define a map between ingredients_weighted and data ID's\n",
    "    assert ingredients_weighted.shape[0] == data.shape[0]\n",
    "    \n",
    "    ingredients_weighted_indices_dict = defaultdict(int)\n",
    "    for i in range(data.shape[0]):\n",
    "        ingredients_weighted_indices_dict[data.index[i]] = i\n",
    "    \n",
    "    # Find nearest neigbors among all recipes\n",
    "    nbrs = NearestNeighbors(n_recommendations+1).fit(ingredients_weighted)\n",
    "    indices = nbrs.kneighbors(ingredients_weighted[ingredients_weighted_indices_dict[user_recipe_id]], return_distance=False)\n",
    "    print('Your recipe:')\n",
    "    print(data.loc[[user_recipe_id]])\n",
    "\n",
    "    print('\\n\\nSimilar recipes you might be interested in:')\n",
    "    print(data.iloc[indices[0][1:]])"
   ]
  },
  {
   "cell_type": "code",
   "execution_count": 6,
   "metadata": {},
   "outputs": [
    {
     "name": "stdout",
     "output_type": "stream",
     "text": [
      "Your recipe:\n",
      "      cuisine                                        ingredients\n",
      "id                                                              \n",
      "4758  italian  garlic clove, chicken broth, basil, flour, sal...\n",
      "\n",
      "\n",
      "Similar recipes you might be interested in:\n",
      "       cuisine                                        ingredients\n",
      "id                                                               \n",
      "40073  italian  garlic clove, chicken broth, basil, tomato, on...\n",
      "44504  italian  chicken broth, basil, salt, butter, cheese, pe...\n",
      "26040  italian  basil, cheese, olive oil, tomato, sugar, garli...\n"
     ]
    }
   ],
   "source": [
    "similar_cuisine_recommendations(4758)"
   ]
  },
  {
   "cell_type": "markdown",
   "metadata": {},
   "source": [
    "It looks like it works well, but as expected, the recipes may be overly similar. For example, if a user's current recipe is for brownies in a Southern U.S. cuisine style, the recommended recipes may also be Southern U.S. cuisine-style brownie recipes with very small differences. \n",
    "\n",
    "One way to address this is to create a recommendation engine that will let users discover recipes they may not have tried otherwise by suggesting similar recipes from different cuisine categories.\n",
    "\n",
    "### 2. Recipe Discovery Engine"
   ]
  },
  {
   "cell_type": "code",
   "execution_count": 7,
   "metadata": {
    "collapsed": true
   },
   "outputs": [],
   "source": [
    "# Find nearest neighbors from cuisines distinct from input\n",
    "def unique_cuisine_recommendations(user_recipe_id, n_recommendations=3):\n",
    "    \"\"\"\n",
    "    This function takes in the id of a recipe for a user, and generates similar recipe recommendations from other cuisines.\n",
    "    \"\"\"\n",
    "    \n",
    "    # Define a map between ingredients_weighted and data ID's\n",
    "    assert ingredients_weighted.shape[0] == data.shape[0]\n",
    "    \n",
    "    ingredients_weighted_indices_dict = defaultdict(int)\n",
    "    for i in range(data.shape[0]):\n",
    "        ingredients_weighted_indices_dict[data.index[i]] = i\n",
    "    \n",
    "    # Display the record for the user's recipe\n",
    "    print('Your recipe:')\n",
    "    print(data.loc[[user_recipe_id]])\n",
    "    \n",
    "    # Create a list of all cuisines\n",
    "    cuisine_list = data.cuisine.value_counts().index\n",
    "    cuisines_observed = [data.cuisine[user_recipe_id]]\n",
    "    recommendations = []\n",
    "    \n",
    "    # Let the user know that the algorithm is searching\n",
    "    print('\\nSearching...\\n')\n",
    "    \n",
    "    for recommendation in range(n_recommendations):\n",
    "        data_subset = [data.index[i] for i in range(data.shape[0]) if data.loc[data.index[i]].cuisine not in cuisines_observed]\n",
    "        ingredients_indices = [ingredients_weighted_indices_dict[value] for value in data_subset]\n",
    "        ingredients_subset = ingredients_weighted[ingredients_indices]\n",
    "        \n",
    "        # Find nearest neigbors among cuisine subsets\n",
    "        nbrs = NearestNeighbors(n_neighbors=2).fit(ingredients_subset)\n",
    "        index = nbrs.kneighbors(ingredients_weighted[ingredients_weighted_indices_dict[user_recipe_id]],\n",
    "                                  return_distance=False)\n",
    "        \n",
    "        # Append the result to the list for output and add the cuisine to cuisines_observed\n",
    "        recommendations.append(index[0][0])\n",
    "        cuisines_observed.append(data.iloc[index[0][0]].cuisine)\n",
    "\n",
    "    # Display the results!\n",
    "    print('\\n\\nTry some of these new recipes you might enjoy!')\n",
    "    print(data.iloc[recommendations])"
   ]
  },
  {
   "cell_type": "code",
   "execution_count": 8,
   "metadata": {},
   "outputs": [
    {
     "name": "stdout",
     "output_type": "stream",
     "text": [
      "Your recipe:\n",
      "       cuisine                                        ingredients\n",
      "id                                                               \n",
      "23260  italian  milk, chicken broth, basil, cheese, flour, sal...\n",
      "\n",
      "Searching...\n",
      "\n",
      "\n",
      "\n",
      "Try some of these new recipes you might enjoy!\n",
      "           cuisine                                        ingredients\n",
      "id                                                                   \n",
      "37648  southern_us  chicken broth, margarine, biscuit, onion, cele...\n",
      "11935       korean  sesame oil, onion, sugar, flank steak, garlic,...\n",
      "4407          thai  medium shrimp, lemongrass, lime juice, salt, g...\n"
     ]
    }
   ],
   "source": [
    "unique_cuisine_recommendations(23260)"
   ]
  },
  {
   "cell_type": "markdown",
   "metadata": {},
   "source": [
    "Great! This engine is also useful and may increase user engagement when they want to be a little adventurous with their cooking and are looking for a good place to start!\n",
    "\n",
    "### 3. Ingredient list recommendation engine\n",
    "\n",
    "For this engine, I will take a list of ingredients (perhaps whatever the user has in their fridge and pantry at the moment) and suggest the nearest recipes that can make use of a similar set of ingredients."
   ]
  },
  {
   "cell_type": "code",
   "execution_count": 9,
   "metadata": {
    "collapsed": true
   },
   "outputs": [],
   "source": [
    "def ingredient_list_recommendations(user_ingredient_list, n_recommendations=3):\n",
    "    \"\"\"\n",
    "    This function takes in the list of ingredients from a user, and generates similar recipe recommendations.\n",
    "    \"\"\"\n",
    "    \n",
    "    # Transform the recipe ingredients vector to TF-IDF format\n",
    "    user_ingredients_string = ', '.join(user_ingredient_list)\n",
    "    user_tfidf = tfidf.transform([user_ingredients_string])\n",
    "    \n",
    "    # Find nearest neigbors among all recipes\n",
    "    nbrs = NearestNeighbors(n_recommendations).fit(ingredients_weighted)\n",
    "    indices = nbrs.kneighbors(user_tfidf, return_distance=False)\n",
    "\n",
    "    print('\\n\\nYou can try these recipes!')\n",
    "    \n",
    "    # loop through nearest neighbors = n_recommendations\n",
    "    for neighbor in range(n_recommendations):\n",
    "        \n",
    "        # List ingredients (if needed) to make neighbor recipe\n",
    "        neighbor_ingredients = (data.iloc[indices[0][neighbor]].ingredients).split(', ')\n",
    "        missing_ingredients = [ingredient for ingredient in neighbor_ingredients if ingredient not in user_ingredient_list]\n",
    "        \n",
    "        # Print a border between recipes\n",
    "        print('------------------------------')\n",
    "        \n",
    "        # Display recipes that user can make\n",
    "        if len(missing_ingredients) == 0:\n",
    "            print('\\nYou have all of the ingredients needed to make this recipe!')\n",
    "            print(data.iloc[indices[0][neighbor]])\n",
    "            \n",
    "        else:\n",
    "            # Display recipes that can be made\n",
    "            print('\\nIf you buy: {0}'.format(missing_ingredients))\n",
    "            print('\\nYou can make:')\n",
    "            print(data.iloc[indices[0][neighbor]])\n",
    "    \n",
    "    print('------------------------------')"
   ]
  },
  {
   "cell_type": "code",
   "execution_count": 10,
   "metadata": {},
   "outputs": [
    {
     "name": "stdout",
     "output_type": "stream",
     "text": [
      "\n",
      "\n",
      "You can try these recipes!\n",
      "------------------------------\n",
      "\n",
      "You have all of the ingredients needed to make this recipe!\n",
      "cuisine                                              southern_us\n",
      "ingredients    chicken broth, margarine, biscuit, onion, cele...\n",
      "Name: 37648, dtype: object\n",
      "------------------------------\n",
      "\n",
      "If you buy: ['bacon', 'bell pepper']\n",
      "\n",
      "You can make:\n",
      "cuisine                                              southern_us\n",
      "ingredients    chicken broth, bacon, onion, celery, bell pepp...\n",
      "Name: 31111, dtype: object\n",
      "------------------------------\n",
      "\n",
      "If you buy: ['flour', 'tomato', 'sugar', 'butter']\n",
      "\n",
      "You can make:\n",
      "cuisine                                              southern_us\n",
      "ingredients    chicken broth, flour, tomato, sugar, butter, p...\n",
      "Name: 2273, dtype: object\n",
      "------------------------------\n"
     ]
    }
   ],
   "source": [
    "sample_list = ['chicken broth', 'margarine', 'biscuit', 'onion', 'celery', 'pepper', 'sage', 'egg']\n",
    "\n",
    "ingredient_list_recommendations(sample_list)"
   ]
  },
  {
   "cell_type": "markdown",
   "metadata": {},
   "source": [
    "### Ingredient pairing recommendation engine\n",
    "\n",
    "Lastly, I will use the a measure of the co-occurence of ingredients in a recipe to recommend an ingredient that could be added to either a single ingredient(best ingredient pair) or to a list of ingredients (best ingredient list compliment). This can be a useful suggestion for users looking to spice up their favorite recipes with a new ingredient!"
   ]
  },
  {
   "cell_type": "code",
   "execution_count": 11,
   "metadata": {
    "collapsed": true
   },
   "outputs": [],
   "source": [
    "# Convert to dense format for simpler handling\n",
    "ingredients_dense = ingredients_weighted.todense()\n",
    "\n",
    "# create a matrix of zeros to fill co-occurence values into\n",
    "ingredient_pairs = np.zeros((ingredients_dense.shape[1], ingredients_dense.shape[1]))\n",
    "\n",
    "# loop through ingredients and calculate fraction of recipes in which they occur together\n",
    "for i in range(ingredients_dense.shape[1]):\n",
    "    ingredient_indices = np.where(ingredients_dense[:,i] == 1)[0]\n",
    "    ingredient_pairs[i,:] = ingredients_dense[ingredient_indices, :].sum(axis=0)/len(ingredient_indices)\n",
    "    ingredient_pairs[i,i] = 0"
   ]
  },
  {
   "cell_type": "code",
   "execution_count": 12,
   "metadata": {
    "collapsed": true
   },
   "outputs": [],
   "source": [
    "def complimentary_ingredients(user_ingredient_list, n_recommendations=1):\n",
    "    \"\"\"\n",
    "    This function takes in a list of ingredients from a user and suggests ingredients that are \n",
    "    most likely to compliment the set.\n",
    "    \"\"\"\n",
    "    \n",
    "    # Create a sublists of users ingredients that are in the ingredient pairings matrix\n",
    "    ingredient_sublist = [ingredient for ingredient in user_ingredient_list if ingredient in tfidf.vocabulary_.keys()]\n",
    "    print('Searching for compliments to the following ingredients:')\n",
    "    print(ingredient_sublist)\n",
    "    \n",
    "    if len(ingredient_sublist) == 0:\n",
    "        print('\\nNo ingredients recognized for matching!')\n",
    "    else:\n",
    "        # Extract indices of the rows in the matrix for the given ingredients\n",
    "        ingredient_indices = [sorted(tfidf.vocabulary_).index(ingredient) for ingredient in ingredient_sublist]\n",
    "            \n",
    "        # Sum up the co-occurences of all ingredients and return the ingredients with the highest combined co-occurence scores\n",
    "        top_pairings = np.argsort(ingredient_pairs[ingredient_indices,:].sum(axis=0))[::-1]\n",
    "        top_complimentary_ingredients = [ingredient for ingredient in top_pairings if ingredient not in ingredient_sublist]\n",
    "        \n",
    "        # Convert the indices back into ingredient names for display\n",
    "        recommended_ingredients = [sorted(tfidf.vocabulary_)[i] for i in top_complimentary_ingredients[:n_recommendations]]\n",
    "        \n",
    "        # Display the recommendations to the user\n",
    "        print('\\nThis might go well with your ingredients!')\n",
    "        print(recommended_ingredients)"
   ]
  },
  {
   "cell_type": "code",
   "execution_count": 13,
   "metadata": {},
   "outputs": [
    {
     "name": "stdout",
     "output_type": "stream",
     "text": [
      "Searching for compliments to the following ingredients:\n",
      "['chicken broth', 'margarine', 'biscuit', 'celery', 'sage']\n",
      "\n",
      "This might go well with your ingredients!\n",
      "['milk']\n"
     ]
    }
   ],
   "source": [
    "complimentary_ingredients(sample_list)"
   ]
  },
  {
   "cell_type": "code",
   "execution_count": 14,
   "metadata": {},
   "outputs": [
    {
     "name": "stdout",
     "output_type": "stream",
     "text": [
      "Searching for compliments to the following ingredients:\n",
      "['chicken']\n",
      "\n",
      "This might go well with your ingredients!\n",
      "['ginger']\n"
     ]
    }
   ],
   "source": [
    "complimentary_ingredients(['chicken'])"
   ]
  },
  {
   "cell_type": "code",
   "execution_count": 15,
   "metadata": {},
   "outputs": [
    {
     "name": "stdout",
     "output_type": "stream",
     "text": [
      "Searching for compliments to the following ingredients:\n",
      "['strawberry']\n",
      "\n",
      "This might go well with your ingredients!\n",
      "['cream', 'vanilla extract', 'milk']\n"
     ]
    }
   ],
   "source": [
    "complimentary_ingredients(['strawberry'], n_recommendations=3)"
   ]
  },
  {
   "cell_type": "code",
   "execution_count": 16,
   "metadata": {},
   "outputs": [
    {
     "name": "stdout",
     "output_type": "stream",
     "text": [
      "The following ingredients are not considered for recommendations because of their universal usage:\n",
      "{'sugar', 'garlic clove', 'salt', 'olive oil', 'tomato', 'flour', 'water', 'pepper', 'garlic', 'egg', 'butter', 'onion'}\n"
     ]
    }
   ],
   "source": [
    "# Create Second vocabulary TF-IDF weighting dictionary with all ingredients\n",
    "tfidf_all = TfidfVectorizer(tokenizer=tokenized.tokenize, binary=True, use_idf=False, norm=None)\n",
    "\n",
    "# Fit and transform cuisine ingredient lists to get vocabulary list\n",
    "_ = tfidf_all.fit_transform(data.ingredients)\n",
    "\n",
    "# Compare vocabulary lists to see which ingredients are not included in the recommendation engines\n",
    "print('The following ingredients are not considered for recommendations because of their universal usage:')\n",
    "print(set(tfidf_all.vocabulary_).difference(set(tfidf.vocabulary_)))"
   ]
  },
  {
   "cell_type": "markdown",
   "metadata": {},
   "source": [
    "With these recommendation engines in place, we are able to utilize the data and analysis that has been done on the cuisines, recipes and ingredient levels to create prototype services that could enhance the experiences for users of this service. In addition, these engines can be used to learn more about cuisines and experiment with new fusion recipes that have a higher probability of a good outcome than random guessing by adding in complimentary ingredients to existing recipes."
   ]
  }
 ],
 "metadata": {
  "kernelspec": {
   "display_name": "Python 3",
   "language": "python",
   "name": "python3"
  },
  "language_info": {
   "codemirror_mode": {
    "name": "ipython",
    "version": 3
   },
   "file_extension": ".py",
   "mimetype": "text/x-python",
   "name": "python",
   "nbconvert_exporter": "python",
   "pygments_lexer": "ipython3",
   "version": "3.6.2"
  }
 },
 "nbformat": 4,
 "nbformat_minor": 2
}
