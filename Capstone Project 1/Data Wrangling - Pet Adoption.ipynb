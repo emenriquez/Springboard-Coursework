{
 "cells": [
  {
   "cell_type": "markdown",
   "metadata": {},
   "source": [
    "# Understanding Factors in Animal Shelter Pet Adoption - Data Wrangling\n",
    "\n",
    "In efforts to understand trends in pet adoption outcomes, the Austin Animal Center has provided data relating to the pets in their adoption center. Understanding this data and using it to model the factors that influence pet adoption could lead to recommendations that improve the performance of the center and help more pets find homes.\n",
    "\n",
    "### Objective\n",
    "\n",
    "In this project I will be exploring the dataset and using various data wrangling techniques to prepare the data via basic data wrangling techniques in order to prepare the data for analysis. This will include the following steps:\n",
    "\n",
    "   1. Loading the data and extracting general info and structure\n",
    "   2. Verifying that data is tidy\n",
    "   3. Identifying & dealing with missing values\n",
    "   4. Identifying & dealing with outliers"
   ]
  },
  {
   "cell_type": "markdown",
   "metadata": {},
   "source": [
    "### 1. Data Info and Structure\n",
    "\n",
    "First I will start by loading the required packages, as well as the dataset which can be found **[here](https://data.austintexas.gov/Health-and-Community-Services/Austin-Animal-Center-Outcomes/9t4d-g238)**\n",
    "\n",
    "**Note:** This dataset is updated hourly, and was accessed on Sunday, December 12th 2017 at 19:00 UTC for this project."
   ]
  },
  {
   "cell_type": "code",
   "execution_count": 1,
   "metadata": {},
   "outputs": [],
   "source": [
    "# For working with dataframes and manipulation\n",
    "import pandas as pd\n",
    "\n",
    "import matplotlib.pyplot as plt"
   ]
  },
  {
   "cell_type": "code",
   "execution_count": 2,
   "metadata": {
    "collapsed": true
   },
   "outputs": [],
   "source": [
    "# Load the dataset locally\n",
    "data = pd.read_csv('data/Austin_Animal_Center_Outcomes.csv')"
   ]
  },
  {
   "cell_type": "code",
   "execution_count": 3,
   "metadata": {},
   "outputs": [
    {
     "name": "stdout",
     "output_type": "stream",
     "text": [
      "# of entries in this dataset: 76133\n",
      "# of features per entry: 12\n"
     ]
    }
   ],
   "source": [
    "# Display number of entries and features in the data\n",
    "print('# of entries in this dataset: {0}'.format(data.shape[0]))\n",
    "print('# of features per entry: {0}'.format(data.shape[1]))"
   ]
  },
  {
   "cell_type": "code",
   "execution_count": 4,
   "metadata": {},
   "outputs": [
    {
     "name": "stdout",
     "output_type": "stream",
     "text": [
      "<class 'pandas.core.frame.DataFrame'>\n",
      "RangeIndex: 76133 entries, 0 to 76132\n",
      "Data columns (total 12 columns):\n",
      "Animal ID           76133 non-null object\n",
      "Name                52741 non-null object\n",
      "DateTime            76133 non-null object\n",
      "MonthYear           76133 non-null object\n",
      "Date of Birth       76133 non-null object\n",
      "Outcome Type        76123 non-null object\n",
      "Outcome Subtype     35280 non-null object\n",
      "Animal Type         76133 non-null object\n",
      "Sex upon Outcome    76131 non-null object\n",
      "Age upon Outcome    76123 non-null object\n",
      "Breed               76133 non-null object\n",
      "Color               76133 non-null object\n",
      "dtypes: object(12)\n",
      "memory usage: 7.0+ MB\n"
     ]
    }
   ],
   "source": [
    "# Display general information on dataset\n",
    "data.info()"
   ]
  },
  {
   "cell_type": "markdown",
   "metadata": {},
   "source": [
    "There are a few details to mention here. Firstly we can see that within our 12 columns, there seem to be some missing entries in several of the columns, which may need to be addressed later on. In addition, all of the row types are classified as 'object', which can most likely be handled more efficiently if we are able to parse out specific types such as the 'DateTime' column. This column can be handled with much more functionality if we are able to convert it to a Datetime object in our dataframe.\n",
    "\n",
    "In order to get more information, we will preview the first few rows of the data."
   ]
  },
  {
   "cell_type": "code",
   "execution_count": 5,
   "metadata": {},
   "outputs": [
    {
     "data": {
      "text/html": [
       "<div>\n",
       "<style>\n",
       "    .dataframe thead tr:only-child th {\n",
       "        text-align: right;\n",
       "    }\n",
       "\n",
       "    .dataframe thead th {\n",
       "        text-align: left;\n",
       "    }\n",
       "\n",
       "    .dataframe tbody tr th {\n",
       "        vertical-align: top;\n",
       "    }\n",
       "</style>\n",
       "<table border=\"1\" class=\"dataframe\">\n",
       "  <thead>\n",
       "    <tr style=\"text-align: right;\">\n",
       "      <th></th>\n",
       "      <th>Animal ID</th>\n",
       "      <th>Name</th>\n",
       "      <th>DateTime</th>\n",
       "      <th>MonthYear</th>\n",
       "      <th>Date of Birth</th>\n",
       "      <th>Outcome Type</th>\n",
       "      <th>Outcome Subtype</th>\n",
       "      <th>Animal Type</th>\n",
       "      <th>Sex upon Outcome</th>\n",
       "      <th>Age upon Outcome</th>\n",
       "      <th>Breed</th>\n",
       "      <th>Color</th>\n",
       "    </tr>\n",
       "  </thead>\n",
       "  <tbody>\n",
       "    <tr>\n",
       "      <th>0</th>\n",
       "      <td>A741715</td>\n",
       "      <td>*Pebbles</td>\n",
       "      <td>01/11/2017 06:17:00 PM</td>\n",
       "      <td>01/11/2017 06:17:00 PM</td>\n",
       "      <td>03/07/2016</td>\n",
       "      <td>Adoption</td>\n",
       "      <td>NaN</td>\n",
       "      <td>Cat</td>\n",
       "      <td>Spayed Female</td>\n",
       "      <td>10 months</td>\n",
       "      <td>Domestic Shorthair Mix</td>\n",
       "      <td>Calico</td>\n",
       "    </tr>\n",
       "    <tr>\n",
       "      <th>1</th>\n",
       "      <td>A658751</td>\n",
       "      <td>Benji</td>\n",
       "      <td>11/13/2016 01:38:00 PM</td>\n",
       "      <td>11/13/2016 01:38:00 PM</td>\n",
       "      <td>07/14/2011</td>\n",
       "      <td>Return to Owner</td>\n",
       "      <td>NaN</td>\n",
       "      <td>Dog</td>\n",
       "      <td>Neutered Male</td>\n",
       "      <td>5 years</td>\n",
       "      <td>Border Terrier Mix</td>\n",
       "      <td>Tan</td>\n",
       "    </tr>\n",
       "    <tr>\n",
       "      <th>2</th>\n",
       "      <td>A721285</td>\n",
       "      <td>NaN</td>\n",
       "      <td>02/24/2016 02:42:00 PM</td>\n",
       "      <td>02/24/2016 02:42:00 PM</td>\n",
       "      <td>02/24/2014</td>\n",
       "      <td>Euthanasia</td>\n",
       "      <td>Suffering</td>\n",
       "      <td>Other</td>\n",
       "      <td>Unknown</td>\n",
       "      <td>2 years</td>\n",
       "      <td>Raccoon Mix</td>\n",
       "      <td>Black/Gray</td>\n",
       "    </tr>\n",
       "    <tr>\n",
       "      <th>3</th>\n",
       "      <td>A746650</td>\n",
       "      <td>Rose</td>\n",
       "      <td>04/07/2017 11:58:00 AM</td>\n",
       "      <td>04/07/2017 11:58:00 AM</td>\n",
       "      <td>04/06/2016</td>\n",
       "      <td>Return to Owner</td>\n",
       "      <td>NaN</td>\n",
       "      <td>Dog</td>\n",
       "      <td>Intact Female</td>\n",
       "      <td>1 year</td>\n",
       "      <td>Labrador Retriever/Jack Russell Terrier</td>\n",
       "      <td>Yellow</td>\n",
       "    </tr>\n",
       "    <tr>\n",
       "      <th>4</th>\n",
       "      <td>A750122</td>\n",
       "      <td>Happy Camper</td>\n",
       "      <td>05/24/2017 06:36:00 PM</td>\n",
       "      <td>05/24/2017 06:36:00 PM</td>\n",
       "      <td>04/08/2017</td>\n",
       "      <td>Transfer</td>\n",
       "      <td>Partner</td>\n",
       "      <td>Dog</td>\n",
       "      <td>Intact Male</td>\n",
       "      <td>1 month</td>\n",
       "      <td>Labrador Retriever Mix</td>\n",
       "      <td>Black</td>\n",
       "    </tr>\n",
       "    <tr>\n",
       "      <th>5</th>\n",
       "      <td>A756696</td>\n",
       "      <td>Shakti</td>\n",
       "      <td>09/01/2017 11:23:00 AM</td>\n",
       "      <td>09/01/2017 11:23:00 AM</td>\n",
       "      <td>08/24/2014</td>\n",
       "      <td>Return to Owner</td>\n",
       "      <td>NaN</td>\n",
       "      <td>Cat</td>\n",
       "      <td>Spayed Female</td>\n",
       "      <td>3 years</td>\n",
       "      <td>Domestic Shorthair Mix</td>\n",
       "      <td>Blue/White</td>\n",
       "    </tr>\n",
       "    <tr>\n",
       "      <th>6</th>\n",
       "      <td>A684346</td>\n",
       "      <td>NaN</td>\n",
       "      <td>07/22/2014 04:04:00 PM</td>\n",
       "      <td>07/22/2014 04:04:00 PM</td>\n",
       "      <td>07/07/2014</td>\n",
       "      <td>Transfer</td>\n",
       "      <td>Partner</td>\n",
       "      <td>Cat</td>\n",
       "      <td>Intact Male</td>\n",
       "      <td>2 weeks</td>\n",
       "      <td>Domestic Shorthair Mix</td>\n",
       "      <td>Orange Tabby</td>\n",
       "    </tr>\n",
       "    <tr>\n",
       "      <th>7</th>\n",
       "      <td>A666430</td>\n",
       "      <td>Lucy</td>\n",
       "      <td>11/07/2013 11:47:00 AM</td>\n",
       "      <td>11/07/2013 11:47:00 AM</td>\n",
       "      <td>11/06/2012</td>\n",
       "      <td>Transfer</td>\n",
       "      <td>Partner</td>\n",
       "      <td>Dog</td>\n",
       "      <td>Spayed Female</td>\n",
       "      <td>1 year</td>\n",
       "      <td>Beagle Mix</td>\n",
       "      <td>White/Brown</td>\n",
       "    </tr>\n",
       "    <tr>\n",
       "      <th>8</th>\n",
       "      <td>A675708</td>\n",
       "      <td>*Johnny</td>\n",
       "      <td>06/03/2014 02:20:00 PM</td>\n",
       "      <td>06/03/2014 02:20:00 PM</td>\n",
       "      <td>03/31/2013</td>\n",
       "      <td>Adoption</td>\n",
       "      <td>NaN</td>\n",
       "      <td>Dog</td>\n",
       "      <td>Neutered Male</td>\n",
       "      <td>1 year</td>\n",
       "      <td>Pit Bull</td>\n",
       "      <td>Blue/White</td>\n",
       "    </tr>\n",
       "    <tr>\n",
       "      <th>9</th>\n",
       "      <td>A680386</td>\n",
       "      <td>Monday</td>\n",
       "      <td>06/15/2014 03:50:00 PM</td>\n",
       "      <td>06/15/2014 03:50:00 PM</td>\n",
       "      <td>06/02/2005</td>\n",
       "      <td>Transfer</td>\n",
       "      <td>Partner</td>\n",
       "      <td>Dog</td>\n",
       "      <td>Neutered Male</td>\n",
       "      <td>9 years</td>\n",
       "      <td>Miniature Schnauzer Mix</td>\n",
       "      <td>White</td>\n",
       "    </tr>\n",
       "  </tbody>\n",
       "</table>\n",
       "</div>"
      ],
      "text/plain": [
       "  Animal ID          Name                DateTime               MonthYear  \\\n",
       "0   A741715      *Pebbles  01/11/2017 06:17:00 PM  01/11/2017 06:17:00 PM   \n",
       "1   A658751         Benji  11/13/2016 01:38:00 PM  11/13/2016 01:38:00 PM   \n",
       "2   A721285           NaN  02/24/2016 02:42:00 PM  02/24/2016 02:42:00 PM   \n",
       "3   A746650          Rose  04/07/2017 11:58:00 AM  04/07/2017 11:58:00 AM   \n",
       "4   A750122  Happy Camper  05/24/2017 06:36:00 PM  05/24/2017 06:36:00 PM   \n",
       "5   A756696        Shakti  09/01/2017 11:23:00 AM  09/01/2017 11:23:00 AM   \n",
       "6   A684346           NaN  07/22/2014 04:04:00 PM  07/22/2014 04:04:00 PM   \n",
       "7   A666430          Lucy  11/07/2013 11:47:00 AM  11/07/2013 11:47:00 AM   \n",
       "8   A675708       *Johnny  06/03/2014 02:20:00 PM  06/03/2014 02:20:00 PM   \n",
       "9   A680386        Monday  06/15/2014 03:50:00 PM  06/15/2014 03:50:00 PM   \n",
       "\n",
       "  Date of Birth     Outcome Type Outcome Subtype Animal Type Sex upon Outcome  \\\n",
       "0    03/07/2016         Adoption             NaN         Cat    Spayed Female   \n",
       "1    07/14/2011  Return to Owner             NaN         Dog    Neutered Male   \n",
       "2    02/24/2014       Euthanasia       Suffering       Other          Unknown   \n",
       "3    04/06/2016  Return to Owner             NaN         Dog    Intact Female   \n",
       "4    04/08/2017         Transfer         Partner         Dog      Intact Male   \n",
       "5    08/24/2014  Return to Owner             NaN         Cat    Spayed Female   \n",
       "6    07/07/2014         Transfer         Partner         Cat      Intact Male   \n",
       "7    11/06/2012         Transfer         Partner         Dog    Spayed Female   \n",
       "8    03/31/2013         Adoption             NaN         Dog    Neutered Male   \n",
       "9    06/02/2005         Transfer         Partner         Dog    Neutered Male   \n",
       "\n",
       "  Age upon Outcome                                    Breed         Color  \n",
       "0        10 months                   Domestic Shorthair Mix        Calico  \n",
       "1          5 years                       Border Terrier Mix           Tan  \n",
       "2          2 years                              Raccoon Mix    Black/Gray  \n",
       "3           1 year  Labrador Retriever/Jack Russell Terrier        Yellow  \n",
       "4          1 month                   Labrador Retriever Mix         Black  \n",
       "5          3 years                   Domestic Shorthair Mix    Blue/White  \n",
       "6          2 weeks                   Domestic Shorthair Mix  Orange Tabby  \n",
       "7           1 year                               Beagle Mix   White/Brown  \n",
       "8           1 year                                 Pit Bull    Blue/White  \n",
       "9          9 years                  Miniature Schnauzer Mix         White  "
      ]
     },
     "execution_count": 5,
     "metadata": {},
     "output_type": "execute_result"
    }
   ],
   "source": [
    "# Display first 10 entries\n",
    "data.head(10)"
   ]
  },
  {
   "cell_type": "markdown",
   "metadata": {},
   "source": [
    "This table gives a much better look at what is going on in the data. Starting from the leftmost column are the following observations:\n",
    "\n",
    "   1. **Animal ID** - This is a unique identifier for each entry that is a letter combined with a number. This seems well-formatted.\n",
    "     \n",
    "   2. **Name** - Some entries are missing here, and there are also some entries with asterisks before the names (e.g. \\*Pebbles, \\*Johnny). It will be useful if we can find out the meaning of the asterisk in this field.  \n",
    "     \n",
    "   3. **DateTime** and **MonthYear** - These columns look like datetime objects, but they look identical for the entries we see. If we verify that the columns are identical, we may be better served removing one.\n",
    "     \n",
    "   4. **Date of Birth** - This year may also be converted into a datetime object, so that we can perform time-series analysis with this information.\n",
    "     \n",
    "   5. **Outcome Type** - There are several categories in this column, and we may be able to convert the entries into categories for easier handling.\n",
    "     \n",
    "   6. **Outcome Subtype** - This has many missing entries, and we only see categories for Euthanasia and Transfer corresponding outcome types. Depending on the number of subtypes for these types, it may be more efficient to integrate them into the outcome type category.\n",
    "     \n",
    "   7. **Animal Type** - In addition to cats and dogs, there is an 'Other' category here in the third entry, corresponding to a 'Raccoon Mix' breed of animal. With the small amount of types of animals, this column is likely to perform better as categorical values.\n",
    "     \n",
    "   8. **Age upon Outcome** - If we are able to convert this into a uniform value (e.g. age in months) we can work with these values as numbers which will make analyzing this data easier. It should also be noted that if we work with the Outcome DateTime and Date of Birth columns as datetime objects, columns like this can be generated by arithmetic operations.\n",
    "     \n",
    "   9. **Breed** and **Color** - These columns look well-formatted, but more investigation is needed in order to determine whether they will perform better as categorical values, or what additional ways they can be transformed in order to yield more information.\n",
    "   \n",
    "### 2. Data Cleaning\n",
    "\n",
    "We will first start with by looking at the 'Name' column of the data. We can look at the entries with asterisks first."
   ]
  },
  {
   "cell_type": "code",
   "execution_count": 6,
   "metadata": {},
   "outputs": [
    {
     "data": {
      "text/html": [
       "<div>\n",
       "<style>\n",
       "    .dataframe thead tr:only-child th {\n",
       "        text-align: right;\n",
       "    }\n",
       "\n",
       "    .dataframe thead th {\n",
       "        text-align: left;\n",
       "    }\n",
       "\n",
       "    .dataframe tbody tr th {\n",
       "        vertical-align: top;\n",
       "    }\n",
       "</style>\n",
       "<table border=\"1\" class=\"dataframe\">\n",
       "  <thead>\n",
       "    <tr style=\"text-align: right;\">\n",
       "      <th></th>\n",
       "      <th>Animal ID</th>\n",
       "      <th>Name</th>\n",
       "      <th>DateTime</th>\n",
       "      <th>MonthYear</th>\n",
       "      <th>Date of Birth</th>\n",
       "      <th>Outcome Type</th>\n",
       "      <th>Outcome Subtype</th>\n",
       "      <th>Animal Type</th>\n",
       "      <th>Sex upon Outcome</th>\n",
       "      <th>Age upon Outcome</th>\n",
       "      <th>Breed</th>\n",
       "      <th>Color</th>\n",
       "    </tr>\n",
       "  </thead>\n",
       "  <tbody>\n",
       "    <tr>\n",
       "      <th>0</th>\n",
       "      <td>A741715</td>\n",
       "      <td>*Pebbles</td>\n",
       "      <td>01/11/2017 06:17:00 PM</td>\n",
       "      <td>01/11/2017 06:17:00 PM</td>\n",
       "      <td>03/07/2016</td>\n",
       "      <td>Adoption</td>\n",
       "      <td>NaN</td>\n",
       "      <td>Cat</td>\n",
       "      <td>Spayed Female</td>\n",
       "      <td>10 months</td>\n",
       "      <td>Domestic Shorthair Mix</td>\n",
       "      <td>Calico</td>\n",
       "    </tr>\n",
       "    <tr>\n",
       "      <th>8</th>\n",
       "      <td>A675708</td>\n",
       "      <td>*Johnny</td>\n",
       "      <td>06/03/2014 02:20:00 PM</td>\n",
       "      <td>06/03/2014 02:20:00 PM</td>\n",
       "      <td>03/31/2013</td>\n",
       "      <td>Adoption</td>\n",
       "      <td>NaN</td>\n",
       "      <td>Dog</td>\n",
       "      <td>Neutered Male</td>\n",
       "      <td>1 year</td>\n",
       "      <td>Pit Bull</td>\n",
       "      <td>Blue/White</td>\n",
       "    </tr>\n",
       "    <tr>\n",
       "      <th>12</th>\n",
       "      <td>A664462</td>\n",
       "      <td>*Edgar</td>\n",
       "      <td>10/07/2013 01:06:00 PM</td>\n",
       "      <td>10/07/2013 01:06:00 PM</td>\n",
       "      <td>06/03/2013</td>\n",
       "      <td>Transfer</td>\n",
       "      <td>Partner</td>\n",
       "      <td>Dog</td>\n",
       "      <td>Intact Male</td>\n",
       "      <td>4 months</td>\n",
       "      <td>Leonberger Mix</td>\n",
       "      <td>Brown/White</td>\n",
       "    </tr>\n",
       "    <tr>\n",
       "      <th>23</th>\n",
       "      <td>A692618</td>\n",
       "      <td>*Ella</td>\n",
       "      <td>12/08/2014 03:55:00 PM</td>\n",
       "      <td>12/08/2014 03:55:00 PM</td>\n",
       "      <td>11/23/2011</td>\n",
       "      <td>Transfer</td>\n",
       "      <td>Partner</td>\n",
       "      <td>Dog</td>\n",
       "      <td>Spayed Female</td>\n",
       "      <td>3 years</td>\n",
       "      <td>Chihuahua Shorthair Mix</td>\n",
       "      <td>Brown</td>\n",
       "    </tr>\n",
       "    <tr>\n",
       "      <th>29</th>\n",
       "      <td>A678580</td>\n",
       "      <td>*Frida</td>\n",
       "      <td>06/29/2014 05:45:00 PM</td>\n",
       "      <td>06/29/2014 05:45:00 PM</td>\n",
       "      <td>03/26/2014</td>\n",
       "      <td>Adoption</td>\n",
       "      <td>Offsite</td>\n",
       "      <td>Cat</td>\n",
       "      <td>Spayed Female</td>\n",
       "      <td>3 months</td>\n",
       "      <td>Domestic Shorthair Mix</td>\n",
       "      <td>White/Black</td>\n",
       "    </tr>\n",
       "    <tr>\n",
       "      <th>31</th>\n",
       "      <td>A757005</td>\n",
       "      <td>*Sandi</td>\n",
       "      <td>10/07/2017 01:15:00 PM</td>\n",
       "      <td>10/07/2017 01:15:00 PM</td>\n",
       "      <td>07/28/2017</td>\n",
       "      <td>Adoption</td>\n",
       "      <td>Foster</td>\n",
       "      <td>Cat</td>\n",
       "      <td>Spayed Female</td>\n",
       "      <td>2 months</td>\n",
       "      <td>Domestic Shorthair Mix</td>\n",
       "      <td>Torbie/White</td>\n",
       "    </tr>\n",
       "    <tr>\n",
       "      <th>35</th>\n",
       "      <td>A720498</td>\n",
       "      <td>*Valentino</td>\n",
       "      <td>02/16/2016 12:00:00 AM</td>\n",
       "      <td>02/16/2016 12:00:00 AM</td>\n",
       "      <td>02/10/2014</td>\n",
       "      <td>Transfer</td>\n",
       "      <td>Partner</td>\n",
       "      <td>Dog</td>\n",
       "      <td>Neutered Male</td>\n",
       "      <td>2 years</td>\n",
       "      <td>Pug/Border Terrier</td>\n",
       "      <td>Black/Tan</td>\n",
       "    </tr>\n",
       "    <tr>\n",
       "      <th>37</th>\n",
       "      <td>A706392</td>\n",
       "      <td>*Ozzy</td>\n",
       "      <td>11/24/2015 11:58:00 AM</td>\n",
       "      <td>11/24/2015 11:58:00 AM</td>\n",
       "      <td>05/28/2015</td>\n",
       "      <td>Adoption</td>\n",
       "      <td>Foster</td>\n",
       "      <td>Cat</td>\n",
       "      <td>Neutered Male</td>\n",
       "      <td>5 months</td>\n",
       "      <td>Domestic Medium Hair Mix</td>\n",
       "      <td>Blue Tabby/White</td>\n",
       "    </tr>\n",
       "    <tr>\n",
       "      <th>50</th>\n",
       "      <td>A680396</td>\n",
       "      <td>*Truman</td>\n",
       "      <td>06/15/2014 03:11:00 PM</td>\n",
       "      <td>06/15/2014 03:11:00 PM</td>\n",
       "      <td>06/02/2012</td>\n",
       "      <td>Transfer</td>\n",
       "      <td>Partner</td>\n",
       "      <td>Dog</td>\n",
       "      <td>Neutered Male</td>\n",
       "      <td>2 years</td>\n",
       "      <td>Rat Terrier Mix</td>\n",
       "      <td>White/Black</td>\n",
       "    </tr>\n",
       "    <tr>\n",
       "      <th>52</th>\n",
       "      <td>A674298</td>\n",
       "      <td>*Newt</td>\n",
       "      <td>04/16/2014 12:51:00 PM</td>\n",
       "      <td>04/16/2014 12:51:00 PM</td>\n",
       "      <td>03/11/2013</td>\n",
       "      <td>Transfer</td>\n",
       "      <td>Partner</td>\n",
       "      <td>Dog</td>\n",
       "      <td>Neutered Male</td>\n",
       "      <td>1 year</td>\n",
       "      <td>Pit Bull Mix</td>\n",
       "      <td>Brown Brindle/White</td>\n",
       "    </tr>\n",
       "  </tbody>\n",
       "</table>\n",
       "</div>"
      ],
      "text/plain": [
       "   Animal ID        Name                DateTime               MonthYear  \\\n",
       "0    A741715    *Pebbles  01/11/2017 06:17:00 PM  01/11/2017 06:17:00 PM   \n",
       "8    A675708     *Johnny  06/03/2014 02:20:00 PM  06/03/2014 02:20:00 PM   \n",
       "12   A664462      *Edgar  10/07/2013 01:06:00 PM  10/07/2013 01:06:00 PM   \n",
       "23   A692618       *Ella  12/08/2014 03:55:00 PM  12/08/2014 03:55:00 PM   \n",
       "29   A678580      *Frida  06/29/2014 05:45:00 PM  06/29/2014 05:45:00 PM   \n",
       "31   A757005      *Sandi  10/07/2017 01:15:00 PM  10/07/2017 01:15:00 PM   \n",
       "35   A720498  *Valentino  02/16/2016 12:00:00 AM  02/16/2016 12:00:00 AM   \n",
       "37   A706392       *Ozzy  11/24/2015 11:58:00 AM  11/24/2015 11:58:00 AM   \n",
       "50   A680396     *Truman  06/15/2014 03:11:00 PM  06/15/2014 03:11:00 PM   \n",
       "52   A674298       *Newt  04/16/2014 12:51:00 PM  04/16/2014 12:51:00 PM   \n",
       "\n",
       "   Date of Birth Outcome Type Outcome Subtype Animal Type Sex upon Outcome  \\\n",
       "0     03/07/2016     Adoption             NaN         Cat    Spayed Female   \n",
       "8     03/31/2013     Adoption             NaN         Dog    Neutered Male   \n",
       "12    06/03/2013     Transfer         Partner         Dog      Intact Male   \n",
       "23    11/23/2011     Transfer         Partner         Dog    Spayed Female   \n",
       "29    03/26/2014     Adoption         Offsite         Cat    Spayed Female   \n",
       "31    07/28/2017     Adoption          Foster         Cat    Spayed Female   \n",
       "35    02/10/2014     Transfer         Partner         Dog    Neutered Male   \n",
       "37    05/28/2015     Adoption          Foster         Cat    Neutered Male   \n",
       "50    06/02/2012     Transfer         Partner         Dog    Neutered Male   \n",
       "52    03/11/2013     Transfer         Partner         Dog    Neutered Male   \n",
       "\n",
       "   Age upon Outcome                     Breed                Color  \n",
       "0         10 months    Domestic Shorthair Mix               Calico  \n",
       "8            1 year                  Pit Bull           Blue/White  \n",
       "12         4 months            Leonberger Mix          Brown/White  \n",
       "23          3 years   Chihuahua Shorthair Mix                Brown  \n",
       "29         3 months    Domestic Shorthair Mix          White/Black  \n",
       "31         2 months    Domestic Shorthair Mix         Torbie/White  \n",
       "35          2 years        Pug/Border Terrier            Black/Tan  \n",
       "37         5 months  Domestic Medium Hair Mix     Blue Tabby/White  \n",
       "50          2 years           Rat Terrier Mix          White/Black  \n",
       "52           1 year              Pit Bull Mix  Brown Brindle/White  "
      ]
     },
     "execution_count": 6,
     "metadata": {},
     "output_type": "execute_result"
    }
   ],
   "source": [
    "# Identify rows with names containing asterisks\n",
    "asterisks = data.Name.str.contains('\\*').fillna(False)\n",
    "\n",
    "# Extract preview of rows with asterisks filter\n",
    "data[asterisks].head(10)"
   ]
  },
  {
   "cell_type": "markdown",
   "metadata": {},
   "source": [
    "From the data above, it looks like the Outcome Type for these entries is either adoption or transfer. This might give us more information, but we need to check further to verify if this is indeed the case."
   ]
  },
  {
   "cell_type": "code",
   "execution_count": 7,
   "metadata": {},
   "outputs": [
    {
     "data": {
      "text/plain": [
       "array(['Adoption', 'Transfer', 'Return to Owner', 'Euthanasia', 'Died',\n",
       "       'Missing', 'Rto-Adopt', nan, 'Disposal'], dtype=object)"
      ]
     },
     "execution_count": 7,
     "metadata": {},
     "output_type": "execute_result"
    }
   ],
   "source": [
    "# Show outcome types for all animals with asterisk names\n",
    "data[asterisks]['Outcome Type'].unique()"
   ]
  },
  {
   "cell_type": "markdown",
   "metadata": {},
   "source": [
    "It looks like asterisk values are included in many different outcome types. For now the names column can be used as-is, and can be investigated in more detail. I have also contacted the owner of the dataset and will update if I get a response.\n",
    "\n",
    "Next up is the DateTime and MonthYear columns:"
   ]
  },
  {
   "cell_type": "code",
   "execution_count": 8,
   "metadata": {},
   "outputs": [
    {
     "data": {
      "text/plain": [
       "True    76133\n",
       "dtype: int64"
      ]
     },
     "execution_count": 8,
     "metadata": {},
     "output_type": "execute_result"
    }
   ],
   "source": [
    "# Check if all values in the DateTime and MonthYear columns are \n",
    "(data.DateTime == data.MonthYear).value_counts()"
   ]
  },
  {
   "cell_type": "markdown",
   "metadata": {},
   "source": [
    "Since these columns are identical, we can remove the MonthYear column for now."
   ]
  },
  {
   "cell_type": "code",
   "execution_count": 9,
   "metadata": {},
   "outputs": [],
   "source": [
    "# Remove MonthYear columnn from the dataset\n",
    "data = data.drop('MonthYear', axis=1);"
   ]
  },
  {
   "cell_type": "markdown",
   "metadata": {},
   "source": [
    "Now we can convert the 'DateTime' column into a datetime format. Since 'Date of Birth' needs this as well, we will perform this action on both columns."
   ]
  },
  {
   "cell_type": "code",
   "execution_count": 10,
   "metadata": {
    "collapsed": true
   },
   "outputs": [],
   "source": [
    "# Convert DateTime and Date of Birth into datetime format\n",
    "data['DateTime'] =  pd.to_datetime(data['DateTime'], format='%m/%d/%Y %I:%M:%S %p')\n",
    "data['Date of Birth'] = pd.to_datetime(data['Date of Birth'], format='%m/%d/%Y')"
   ]
  },
  {
   "cell_type": "markdown",
   "metadata": {},
   "source": [
    "Next let's look at the outcome types and subtypes."
   ]
  },
  {
   "cell_type": "code",
   "execution_count": 11,
   "metadata": {},
   "outputs": [
    {
     "name": "stdout",
     "output_type": "stream",
     "text": [
      "Outcome Types\n",
      " Adoption           32001\n",
      "Transfer           23079\n",
      "Return to Owner    13898\n",
      "Euthanasia          5991\n",
      "Died                 668\n",
      "Disposal             303\n",
      "Rto-Adopt            121\n",
      "Missing               46\n",
      "Relocate              16\n",
      "Name: Outcome Type, dtype: int64\n",
      "\n",
      "Outcome Subtypes\n",
      " Partner                19316\n",
      "Foster                  5407\n",
      "SCRP                    3211\n",
      "Suffering               2477\n",
      "Rabies Risk             2374\n",
      "Snr                      542\n",
      "Aggressive               505\n",
      "Offsite                  363\n",
      "In Kennel                338\n",
      "Medical                  253\n",
      "In Foster                177\n",
      "Behavior                 142\n",
      "At Vet                    57\n",
      "Enroute                   44\n",
      "Underage                  28\n",
      "Court/Investigation       18\n",
      "In Surgery                16\n",
      "Possible Theft             9\n",
      "Barn                       3\n",
      "Name: Outcome Subtype, dtype: int64\n"
     ]
    }
   ],
   "source": [
    "# Display number of occurences of outcome types\n",
    "print('Outcome Types\\n', data['Outcome Type'].value_counts())\n",
    "\n",
    "# Display number of occurences of outcome subtypes\n",
    "print('\\nOutcome Subtypes\\n', data['Outcome Subtype'].value_counts())"
   ]
  },
  {
   "cell_type": "markdown",
   "metadata": {},
   "source": [
    "It seems that there are too many subtypes to integrate into our outcome types column, but it should still be advantageous to convert these columns into categorical values."
   ]
  },
  {
   "cell_type": "code",
   "execution_count": 12,
   "metadata": {},
   "outputs": [],
   "source": [
    "# Convert columns to categorical entries\n",
    "data['Outcome Type'] = pd.Categorical(data['Outcome Type'], ordered=False)\n",
    "data['Outcome Subtype'] = pd.Categorical(data['Outcome Subtype'], ordered=False)"
   ]
  },
  {
   "cell_type": "markdown",
   "metadata": {},
   "source": [
    "Similarly, the 'Animal Type' and 'Sex upon Outcome' columns should be considered as categorical features"
   ]
  },
  {
   "cell_type": "code",
   "execution_count": 13,
   "metadata": {},
   "outputs": [
    {
     "name": "stdout",
     "output_type": "stream",
     "text": [
      "Animal Types\n",
      " Dog          42885\n",
      "Cat          28741\n",
      "Other         4171\n",
      "Bird           327\n",
      "Livestock        9\n",
      "Name: Animal Type, dtype: int64\n",
      "\n",
      "Sex upon Outcome\n",
      " Neutered Male    26962\n",
      "Spayed Female    24423\n",
      "Intact Male       9318\n",
      "Intact Female     8942\n",
      "Unknown           6486\n",
      "Name: Sex upon Outcome, dtype: int64\n"
     ]
    }
   ],
   "source": [
    "# Display number of occurences of animal types\n",
    "print('Animal Types\\n', data['Animal Type'].value_counts())\n",
    "\n",
    "# Display number of occurences of sex types\n",
    "print('\\nSex upon Outcome\\n', data['Sex upon Outcome'].value_counts())"
   ]
  },
  {
   "cell_type": "code",
   "execution_count": 14,
   "metadata": {
    "collapsed": true
   },
   "outputs": [],
   "source": [
    "# Convert columns to categorical entries\n",
    "data['Animal Type'] = pd.Categorical(data['Animal Type'], ordered=False)\n",
    "data['Sex upon Outcome'] = pd.Categorical(data['Sex upon Outcome'], ordered=False)"
   ]
  },
  {
   "cell_type": "markdown",
   "metadata": {},
   "source": [
    "As previously discussed, we can calculate the outcome age of any animal in the table (with a bit more granularity than we were provided) by converting this column into a timedelta format."
   ]
  },
  {
   "cell_type": "code",
   "execution_count": 15,
   "metadata": {},
   "outputs": [],
   "source": [
    "# Replace age column with calculation from birthdate and outcome date\n",
    "data['Age upon Outcome'] = pd.to_timedelta(data['DateTime'] - data['Date of Birth'])"
   ]
  },
  {
   "cell_type": "markdown",
   "metadata": {},
   "source": [
    "Next we consider the breed and color columns:"
   ]
  },
  {
   "cell_type": "code",
   "execution_count": 16,
   "metadata": {},
   "outputs": [
    {
     "name": "stdout",
     "output_type": "stream",
     "text": [
      "Breeds\n",
      " Domestic Shorthair Mix                            22807\n",
      "Pit Bull Mix                                       5935\n",
      "Chihuahua Shorthair Mix                            4592\n",
      "Labrador Retriever Mix                             4447\n",
      "Domestic Medium Hair Mix                           2254\n",
      "German Shepherd Mix                                1840\n",
      "Bat Mix                                            1264\n",
      "Domestic Longhair Mix                              1198\n",
      "Australian Cattle Dog Mix                          1030\n",
      "Siamese Mix                                         983\n",
      "Bat                                                 789\n",
      "Dachshund Mix                                       784\n",
      "Boxer Mix                                           650\n",
      "Miniature Poodle Mix                                626\n",
      "Border Collie Mix                                   623\n",
      "Catahoula Mix                                       459\n",
      "Raccoon Mix                                         453\n",
      "Australian Shepherd Mix                             445\n",
      "Rat Terrier Mix                                     440\n",
      "Yorkshire Terrier Mix                               415\n",
      "Siberian Husky Mix                                  405\n",
      "Jack Russell Terrier Mix                            403\n",
      "Miniature Schnauzer Mix                             380\n",
      "Domestic Shorthair                                  379\n",
      "Beagle Mix                                          368\n",
      "Chihuahua Longhair Mix                              346\n",
      "Staffordshire Mix                                   328\n",
      "Great Pyrenees Mix                                  324\n",
      "Pointer Mix                                         314\n",
      "Cairn Terrier Mix                                   312\n",
      "                                                  ...  \n",
      "Miniature Pinscher/Yorkshire Terrier                  1\n",
      "Collie Rough/Pembroke Welsh Corgi                     1\n",
      "French Bulldog/Pug                                    1\n",
      "Collie Rough/Keeshond                                 1\n",
      "Australian Shepherd/Brittany                          1\n",
      "Anatol Shepherd/Siberian Husky                        1\n",
      "German Shepherd/Beagle                                1\n",
      "Cairn Terrier/Scottish Terrier                        1\n",
      "Maltese/Dalmatian                                     1\n",
      "Bruss Griffon/Yorkshire Terrier                       1\n",
      "Bruss Griffon                                         1\n",
      "Black Mouth Cur/Siberian Husky                        1\n",
      "Harrier/German Shepherd                               1\n",
      "Kuvasz/Labrador Retriever                             1\n",
      "Chihuahua Shorthair/Shiba Inu                         1\n",
      "German Shepherd/Redbone Hound                         1\n",
      "Dachshund Wirehair/Pbgv                               1\n",
      "Labrador Retriever/Bullmastiff                        1\n",
      "Pomeranian/Jack Russell Terrier                       1\n",
      "Rhod Ridgeback/Bullmastiff                            1\n",
      "Vizsla/Rhod Ridgeback                                 1\n",
      "Rat Terrier/Basenji                                   1\n",
      "Rabbit Sh/Lop-Mini                                    1\n",
      "Pembroke Welsh Corgi/Australian Cattle Dog            1\n",
      "Staffordshire/French Bulldog                          1\n",
      "Belgian Malinois/German Shepherd                      1\n",
      "Dogue De Bordeaux/American Bulldog                    1\n",
      "Ibizan Hound/Pit Bull                                 1\n",
      "Chinese Sharpei/American Staffordshire Terrier        1\n",
      "Australian Shepherd/Feist                             1\n",
      "Name: Breed, Length: 2101, dtype: int64\n",
      "\n",
      "Colors\n",
      " Black/White                    7929\n",
      "Black                          6424\n",
      "Brown Tabby                    4342\n",
      "Brown                          3395\n",
      "White                          2698\n",
      "Brown/White                    2350\n",
      "Tan/White                      2315\n",
      "Brown Tabby/White              2276\n",
      "Orange Tabby                   2142\n",
      "White/Black                    2037\n",
      "Blue/White                     2028\n",
      "Tricolor                       1949\n",
      "Tan                            1902\n",
      "Black/Tan                      1796\n",
      "White/Brown                    1523\n",
      "Black/Brown                    1475\n",
      "Calico                         1321\n",
      "Brown Brindle/White            1316\n",
      "Tortie                         1312\n",
      "Blue                           1299\n",
      "Brown/Black                    1287\n",
      "White/Tan                      1123\n",
      "Blue Tabby                     1113\n",
      "Orange Tabby/White             1072\n",
      "Red                            1013\n",
      "Red/White                       842\n",
      "Torbie                          825\n",
      "Brown Brindle                   691\n",
      "Tan/Black                       584\n",
      "Chocolate/White                 581\n",
      "                               ... \n",
      "Chocolate/Yellow                  1\n",
      "Tricolor/Gray                     1\n",
      "Black/Seal Point                  1\n",
      "Tan/Apricot                       1\n",
      "Orange Tabby/Tortie Point         1\n",
      "Black Tabby/Gray Tabby            1\n",
      "Tortie Point/Lynx Point           1\n",
      "Gold/Buff                         1\n",
      "Red Merle/Brown Merle             1\n",
      "Tricolor/Tricolor                 1\n",
      "Brown/Apricot                     1\n",
      "Black Brindle/Blue                1\n",
      "Seal Point/Buff                   1\n",
      "Chocolate/Liver Tick              1\n",
      "Chocolate/Gray                    1\n",
      "Torbie/Silver Tabby               1\n",
      "Cream/Blue Point                  1\n",
      "Black Tiger                       1\n",
      "Brown Tabby/Black Brindle         1\n",
      "Black Smoke/Blue Tick             1\n",
      "Blue Tick/Brown Brindle           1\n",
      "Blue Cream/Blue Tiger             1\n",
      "Brown Brindle/Blue Cream          1\n",
      "Red/Gold                          1\n",
      "Cream/Cream                       1\n",
      "Blue Smoke/Gray                   1\n",
      "Black Brindle/Brown Brindle       1\n",
      "Chocolate/Red Tick                1\n",
      "Red Tick/Brown Merle              1\n",
      "Gray/Buff                         1\n",
      "Name: Color, Length: 519, dtype: int64\n"
     ]
    }
   ],
   "source": [
    "# Display number of occurences of breeds\n",
    "print('Breeds\\n', data['Breed'].value_counts())\n",
    "\n",
    "# Display number of occurences of animal colors\n",
    "print('\\nColors\\n', data['Color'].value_counts())"
   ]
  },
  {
   "cell_type": "markdown",
   "metadata": {},
   "source": [
    "We can see that the list of breeds and colors are very long and many categories only have one entry. There are a few options to take here. First, for breeds, we can cut down the number of entries by reducing the number of mixed breed entries of the format 'breed/breed'."
   ]
  },
  {
   "cell_type": "code",
   "execution_count": 17,
   "metadata": {},
   "outputs": [
    {
     "name": "stdout",
     "output_type": "stream",
     "text": [
      "# of unique breeds in the original dataset: 2101\n",
      "# of mixed breeds classified by \"breed/breed\": 1557\n",
      "# of unique breeds after replacement: 547\n"
     ]
    }
   ],
   "source": [
    "# Print the number of distinct breeds found in the data\n",
    "print('# of unique breeds in the original dataset: {0}'.format(len(data['Breed'].unique())))\n",
    "\n",
    "# Print the number of mixed breeds with the format 'breed/breed'\n",
    "print('# of mixed breeds classified by \"breed/breed\": {0}'.format(len(data[data['Breed'].str.contains('/')]['Breed'].unique())))\n",
    "\n",
    "# Iterate over the list to find and replace all mixed breeds with 'first_breed/second_breed' to format 'first_breed Mix'\n",
    "mixed_breeds = []\n",
    "\n",
    "for breed in data['Breed']:\n",
    "    if '/' in breed:\n",
    "        mixed_breeds.append(breed.split('/')[0] + ' Mix')\n",
    "    else:\n",
    "        mixed_breeds.append(breed)\n",
    "\n",
    "# Check to see whether the result is of appropriate length\n",
    "assert len(mixed_breeds) == len(data['Breed'])        \n",
    "\n",
    "# Replace 'Breed' data with reduced category set\n",
    "data['Breed'] = pd.Series(mixed_breeds)\n",
    "\n",
    "# Display the number of distinct breeds after replacement\n",
    "print('# of unique breeds after replacement: {0}'.format(len(data['Breed'].unique())))"
   ]
  },
  {
   "cell_type": "markdown",
   "metadata": {},
   "source": [
    "Now we have significantly reduced the number of breed categories in the dataset. For the 'Color' categories, we may lose some important information that can be useful. For example, do white and orange cats get adopted more often than white and black cats? In order to keep as much information as possible, but provide some simpler avenues for analysis I will split the 'Color' column into 'Primary Color' and 'Secondary Color' values for the animals."
   ]
  },
  {
   "cell_type": "code",
   "execution_count": 18,
   "metadata": {},
   "outputs": [
    {
     "name": "stdout",
     "output_type": "stream",
     "text": [
      "# of unique colors in the original dataset: 519\n",
      "# of mixed colors classified by \"color/color\": 462\n",
      "# of unique colors after replacement: 58\n",
      "# of unique colors after replacement: 52\n"
     ]
    }
   ],
   "source": [
    "# Print the number of distinct colors found in the dataset\n",
    "print('# of unique colors in the original dataset: {0}'.format(len(data['Color'].unique())))\n",
    "\n",
    "# Print the number of mixed breeds with the format 'color/color'\n",
    "print('# of mixed colors classified by \"color/color\": {0}'.format(len(data[data['Color'].str.contains('/')]['Color'].unique())))\n",
    "\n",
    "# Iterate over the list to find and replace all mixed breeds with 'first_breed/second_breed' to format 'first_breed Mix'\n",
    "primary_colors = []\n",
    "secondary_colors = []\n",
    "\n",
    "for color in data['Color']:\n",
    "    if '/' in color:\n",
    "        primary_colors.append(color.split('/')[0])\n",
    "        secondary_colors.append(color.split('/')[1])\n",
    "    else:\n",
    "        primary_colors.append(color)\n",
    "        secondary_colors.append(None)\n",
    "\n",
    "# Check to see whether the result is of appropriate length\n",
    "assert len(primary_colors) == len(data['Color'])\n",
    "assert len(secondary_colors) == len(data['Color'])\n",
    "\n",
    "# Replace 'Color' with 'Primary Color' and 'Secondary Color' data\n",
    "data = data.drop('Color', axis=1)\n",
    "data['Primary Color'] = pd.Series(primary_colors)\n",
    "data['Secondary Color'] = pd.Series(secondary_colors)\n",
    "\n",
    "# Display the number of distinct colors after replacement\n",
    "print('# of unique colors after replacement: {0}'.format(len(pd.Series(primary_colors).unique())))\n",
    "print('# of unique colors after replacement: {0}'.format(len(pd.Series(secondary_colors).unique())))"
   ]
  },
  {
   "cell_type": "markdown",
   "metadata": {},
   "source": [
    "Now the number of color categories has been reduced to about 10% of its original number. Now we can re-check the values for these categories."
   ]
  },
  {
   "cell_type": "code",
   "execution_count": 19,
   "metadata": {
    "scrolled": false
   },
   "outputs": [
    {
     "name": "stdout",
     "output_type": "stream",
     "text": [
      "Breeds\n",
      " Domestic Shorthair Mix              22815\n",
      "Pit Bull Mix                         6294\n",
      "Labrador Retriever Mix               5632\n",
      "Chihuahua Shorthair Mix              5267\n",
      "Domestic Medium Hair Mix             2259\n",
      "German Shepherd Mix                  2241\n",
      "Australian Cattle Dog Mix            1281\n",
      "Bat Mix                              1264\n",
      "Domestic Longhair Mix                1205\n",
      "Dachshund Mix                        1095\n",
      "Siamese Mix                          1000\n",
      "Border Collie Mix                     827\n",
      "Boxer Mix                             821\n",
      "Bat                                   789\n",
      "Miniature Poodle Mix                  744\n",
      "Catahoula Mix                         581\n",
      "Australian Shepherd Mix               549\n",
      "Jack Russell Terrier Mix              544\n",
      "Yorkshire Terrier Mix                 531\n",
      "Rat Terrier Mix                       529\n",
      "Beagle Mix                            527\n",
      "Miniature Schnauzer Mix               503\n",
      "Siberian Husky Mix                    486\n",
      "Raccoon Mix                           453\n",
      "Great Pyrenees Mix                    433\n",
      "Pointer Mix                           409\n",
      "Chihuahua Longhair Mix                400\n",
      "Domestic Shorthair                    379\n",
      "Cairn Terrier Mix                     376\n",
      "Rottweiler Mix                        366\n",
      "                                    ...  \n",
      "Rabbit Lh                               1\n",
      "Bruss Griffon                           1\n",
      "Ocicat Mix                              1\n",
      "Landseer                                1\n",
      "Chinchilla-Amer Mix                     1\n",
      "Bunting                                 1\n",
      "Tortoise                                1\n",
      "Ringtail Mix                            1\n",
      "Lovebird Mix                            1\n",
      "Guinea Mix                              1\n",
      "Manchester Terrier                      1\n",
      "Norwich Terrier                         1\n",
      "Greater Swiss Mountain Dog              1\n",
      "Angora-French Mix                       1\n",
      "Mouse Mix                               1\n",
      "Silver Mix                              1\n",
      "Entlebucher Mix                         1\n",
      "Conure Mix                              1\n",
      "Boerboel                                1\n",
      "Dogue De Bordeaux                       1\n",
      "Barred Rock Mix                         1\n",
      "Potbelly Pig Mix                        1\n",
      "Frog                                    1\n",
      "English Spot                            1\n",
      "Grand Basset Griffon Vendeen Mix        1\n",
      "Treeing Tennesse Brindle Mix            1\n",
      "Eng Toy Spaniel Mix                     1\n",
      "Lark Mix                                1\n",
      "Bobcat Mix                              1\n",
      "Old English Sheepdog Mix                1\n",
      "Name: Breed, Length: 547, dtype: int64\n",
      "\n",
      "Primary Colors\n",
      " Black                18434\n",
      "White                 9615\n",
      "Brown                 7435\n",
      "Brown Tabby           6690\n",
      "Tan                   5057\n",
      "Blue                  3466\n",
      "Orange Tabby          3228\n",
      "Red                   2189\n",
      "Tricolor              2062\n",
      "Brown Brindle         2056\n",
      "Blue Tabby            1659\n",
      "Tortie                1424\n",
      "Calico                1421\n",
      "Gray                  1232\n",
      "Chocolate             1196\n",
      "Torbie                1012\n",
      "Sable                  775\n",
      "Cream Tabby            724\n",
      "Cream                  654\n",
      "Yellow                 648\n",
      "Fawn                   565\n",
      "Buff                   534\n",
      "Lynx Point             478\n",
      "Blue Merle             382\n",
      "Seal Point             373\n",
      "Black Brindle          270\n",
      "Black Tabby            234\n",
      "Gray Tabby             207\n",
      "Flame Point            201\n",
      "Gold                   179\n",
      "Brown Merle            166\n",
      "Orange                 148\n",
      "Black Smoke            148\n",
      "Blue Tick              120\n",
      "Silver                 114\n",
      "Red Merle              108\n",
      "Red Tick               104\n",
      "Silver Tabby            89\n",
      "Lilac Point             84\n",
      "Yellow Brindle          78\n",
      "Tortie Point            77\n",
      "Apricot                 65\n",
      "Blue Point              61\n",
      "Chocolate Point         60\n",
      "Calico Point            54\n",
      "Blue Cream              44\n",
      "Green                   41\n",
      "Liver                   37\n",
      "Blue Tiger              32\n",
      "Pink                    30\n",
      "Brown Tiger             16\n",
      "Agouti                  16\n",
      "Blue Smoke              15\n",
      "Silver Lynx Point       14\n",
      "Liver Tick               7\n",
      "Black Tiger              3\n",
      "Ruddy                    1\n",
      "Orange Tiger             1\n",
      "Name: Primary Color, dtype: int64\n"
     ]
    }
   ],
   "source": [
    "# Display number of occurences of breeds\n",
    "print('Breeds\\n', data['Breed'].value_counts())\n",
    "\n",
    "# Display number of occurences of animal colors\n",
    "print('\\nPrimary Colors\\n', data['Primary Color'].value_counts())"
   ]
  },
  {
   "cell_type": "markdown",
   "metadata": {},
   "source": [
    "And finally we set these columns as categorical variables."
   ]
  },
  {
   "cell_type": "code",
   "execution_count": 20,
   "metadata": {
    "collapsed": true
   },
   "outputs": [],
   "source": [
    "# Convert columns to categorical entries\n",
    "data['Breed'] = pd.Categorical(data['Breed'], ordered=False)\n",
    "data['Primary Color'] = pd.Categorical(data['Primary Color'], ordered=False)\n",
    "data['Secondary Color'] = pd.Categorical(data['Secondary Color'], ordered=False)"
   ]
  },
  {
   "cell_type": "markdown",
   "metadata": {},
   "source": [
    "Now that we have applied some formatting to each column, we can revisit the dataset information to get a summary of our results."
   ]
  },
  {
   "cell_type": "code",
   "execution_count": 21,
   "metadata": {},
   "outputs": [
    {
     "name": "stdout",
     "output_type": "stream",
     "text": [
      "# of entries in this dataset: 76133\n",
      "# of features per entry: 12\n",
      "\n",
      "<class 'pandas.core.frame.DataFrame'>\n",
      "RangeIndex: 76133 entries, 0 to 76132\n",
      "Data columns (total 12 columns):\n",
      "Animal ID           76133 non-null object\n",
      "Name                52741 non-null object\n",
      "DateTime            76133 non-null datetime64[ns]\n",
      "Date of Birth       76133 non-null datetime64[ns]\n",
      "Outcome Type        76123 non-null category\n",
      "Outcome Subtype     35280 non-null category\n",
      "Animal Type         76133 non-null category\n",
      "Sex upon Outcome    76131 non-null category\n",
      "Age upon Outcome    76133 non-null timedelta64[ns]\n",
      "Breed               76133 non-null category\n",
      "Primary Color       76133 non-null category\n",
      "Secondary Color     39720 non-null category\n",
      "dtypes: category(7), datetime64[ns](2), object(2), timedelta64[ns](1)\n",
      "memory usage: 3.5+ MB\n"
     ]
    }
   ],
   "source": [
    "# Display number of entries and features in the formatted dataset\n",
    "print('# of entries in this dataset: {0}'.format(data.shape[0]))\n",
    "print('# of features per entry: {0}\\n'.format(data.shape[1])) \n",
    "\n",
    "# Display formatted dataset information\n",
    "data.info()"
   ]
  },
  {
   "cell_type": "markdown",
   "metadata": {},
   "source": [
    "Not only is the data better formatted for analysis, but it also occupies less memory than before. After replacements, we ended up with the same number of features as before, though these features have a richer set of data for analysis."
   ]
  },
  {
   "cell_type": "markdown",
   "metadata": {},
   "source": [
    "### 3. Missing Values\n",
    "\n",
    "Below are the columns with missing data:"
   ]
  },
  {
   "cell_type": "code",
   "execution_count": 22,
   "metadata": {},
   "outputs": [
    {
     "data": {
      "text/html": [
       "<div>\n",
       "<style>\n",
       "    .dataframe thead tr:only-child th {\n",
       "        text-align: right;\n",
       "    }\n",
       "\n",
       "    .dataframe thead th {\n",
       "        text-align: left;\n",
       "    }\n",
       "\n",
       "    .dataframe tbody tr th {\n",
       "        vertical-align: top;\n",
       "    }\n",
       "</style>\n",
       "<table border=\"1\" class=\"dataframe\">\n",
       "  <thead>\n",
       "    <tr style=\"text-align: right;\">\n",
       "      <th></th>\n",
       "      <th># of missing entries</th>\n",
       "    </tr>\n",
       "  </thead>\n",
       "  <tbody>\n",
       "    <tr>\n",
       "      <th>Name</th>\n",
       "      <td>23392</td>\n",
       "    </tr>\n",
       "    <tr>\n",
       "      <th>Outcome Type</th>\n",
       "      <td>10</td>\n",
       "    </tr>\n",
       "    <tr>\n",
       "      <th>Outcome Subtype</th>\n",
       "      <td>40853</td>\n",
       "    </tr>\n",
       "    <tr>\n",
       "      <th>Sex upon Outcome</th>\n",
       "      <td>2</td>\n",
       "    </tr>\n",
       "    <tr>\n",
       "      <th>Secondary Color</th>\n",
       "      <td>36413</td>\n",
       "    </tr>\n",
       "  </tbody>\n",
       "</table>\n",
       "</div>"
      ],
      "text/plain": [
       "                  # of missing entries\n",
       "Name                             23392\n",
       "Outcome Type                        10\n",
       "Outcome Subtype                  40853\n",
       "Sex upon Outcome                     2\n",
       "Secondary Color                  36413"
      ]
     },
     "execution_count": 22,
     "metadata": {},
     "output_type": "execute_result"
    }
   ],
   "source": [
    "# Identify columns with any missing values\n",
    "NA_columns = data.columns[data.isnull().any()]\n",
    "\n",
    "# Count missing entries in each column\n",
    "NA_data_counts = data.isnull().sum()[NA_columns]\n",
    "\n",
    "# Display columns and counts of missing entries\n",
    "pd.DataFrame(data = NA_data_counts, columns = ['# of missing entries'])"
   ]
  },
  {
   "cell_type": "markdown",
   "metadata": {},
   "source": [
    "We can see that out of the 5 columns that contain missing entries, 'Outcome Subtype' and 'Secondary Color' have empty entries by necessity, since some outcome types do not have subclasses, and some animals do not have secondary colors. In addition, names may not be crucial to the other animal attributes, but it is crucial to keep records of animals with and without given names, since this fact may also influence the outcome type for that animal.\n",
    "\n",
    "What is left are a handful of entries without outcome type, which is critical information that we are interested in, and without sex information. Since we are currently working with a dataset of more than 76,000 entries, we can remove these entries without any significant impact on our data."
   ]
  },
  {
   "cell_type": "code",
   "execution_count": 23,
   "metadata": {},
   "outputs": [
    {
     "data": {
      "text/html": [
       "<div>\n",
       "<style>\n",
       "    .dataframe thead tr:only-child th {\n",
       "        text-align: right;\n",
       "    }\n",
       "\n",
       "    .dataframe thead th {\n",
       "        text-align: left;\n",
       "    }\n",
       "\n",
       "    .dataframe tbody tr th {\n",
       "        vertical-align: top;\n",
       "    }\n",
       "</style>\n",
       "<table border=\"1\" class=\"dataframe\">\n",
       "  <thead>\n",
       "    <tr style=\"text-align: right;\">\n",
       "      <th></th>\n",
       "      <th># of missing entries</th>\n",
       "    </tr>\n",
       "  </thead>\n",
       "  <tbody>\n",
       "    <tr>\n",
       "      <th>Name</th>\n",
       "      <td>23386</td>\n",
       "    </tr>\n",
       "    <tr>\n",
       "      <th>Outcome Subtype</th>\n",
       "      <td>40842</td>\n",
       "    </tr>\n",
       "    <tr>\n",
       "      <th>Secondary Color</th>\n",
       "      <td>36405</td>\n",
       "    </tr>\n",
       "  </tbody>\n",
       "</table>\n",
       "</div>"
      ],
      "text/plain": [
       "                 # of missing entries\n",
       "Name                            23386\n",
       "Outcome Subtype                 40842\n",
       "Secondary Color                 36405"
      ]
     },
     "execution_count": 23,
     "metadata": {},
     "output_type": "execute_result"
    }
   ],
   "source": [
    "# Remove entries from columns with missing data for either Outcome Type or Sex\n",
    "data = data.dropna(subset=['Outcome Type', 'Sex upon Outcome'])\n",
    "\n",
    "# Display columns and counts of missing entries\n",
    "NA_columns = data.columns[data.isnull().any()]\n",
    "NA_data_counts = data.isnull().sum()[NA_columns]\n",
    "pd.DataFrame(data = NA_data_counts, columns = ['# of missing entries'])"
   ]
  },
  {
   "cell_type": "markdown",
   "metadata": {},
   "source": [
    "### 4. Outliers"
   ]
  },
  {
   "cell_type": "markdown",
   "metadata": {},
   "source": [
    "Although many outliers were corrected with the previous formatting, there are a few columns of interest in particular that I will address here, namely 'Animal Type', 'Outcome Type' and 'Outcome Subtype'.\n",
    "\n",
    "First is Animal Type:"
   ]
  },
  {
   "cell_type": "code",
   "execution_count": 24,
   "metadata": {},
   "outputs": [
    {
     "data": {
      "image/png": "[encoded data removed]",
      "text/plain": [
       "<matplotlib.figure.Figure at 0xa2e1080>"
      ]
     },
     "metadata": {},
     "output_type": "display_data"
    }
   ],
   "source": [
    "# Create a pie chart showing distribution of animal types\n",
    "plt.figure(figsize=(8, 8))\n",
    "data['Animal Type'].value_counts().plot(kind='pie',\n",
    "                                        title='Distribution of Animal Types',\n",
    "                                        labels=None,\n",
    "                                        legend='Best'\n",
    "                                       )\n",
    "plt.axis('Equal')\n",
    "\n",
    "# Display plot\n",
    "plt.show()"
   ]
  },
  {
   "cell_type": "markdown",
   "metadata": {},
   "source": [
    "There are mostly cats and dogs in this data, with the remaining animals of Bird, Livestock and Other types. We can look at these categories in more detail to see what kind of outcome data they contain:"
   ]
  },
  {
   "cell_type": "code",
   "execution_count": 25,
   "metadata": {},
   "outputs": [
    {
     "data": {
      "image/png": "[encoded data removed]",
      "text/plain": [
       "<matplotlib.figure.Figure at 0xc0d0eb8>"
      ]
     },
     "metadata": {},
     "output_type": "display_data"
    },
    {
     "data": {
      "image/png": "[encoded data removed]",
      "text/plain": [
       "<matplotlib.figure.Figure at 0xc0d0ef0>"
      ]
     },
     "metadata": {},
     "output_type": "display_data"
    },
    {
     "data": {
      "image/png": "[encoded data removed]",
      "text/plain": [
       "<matplotlib.figure.Figure at 0xc0d66a0>"
      ]
     },
     "metadata": {},
     "output_type": "display_data"
    }
   ],
   "source": [
    "# Create a pie chart showing distribution of bird outcomes\n",
    "plt.figure(figsize=(8, 8))\n",
    "data[data['Animal Type'] == 'Bird']['Outcome Type'].value_counts()[:8].plot(kind='pie',\n",
    "                                        title='Distribution of Bird Outcomes',\n",
    "                                        labels=None,\n",
    "                                        legend='Best'\n",
    "                                       )\n",
    "plt.axis('Equal')\n",
    "\n",
    "# Create a pie chart showing distribution of livestock outcomes\n",
    "plt.figure(figsize=(8, 8))\n",
    "data[data['Animal Type'] == 'Livestock']['Outcome Type'].value_counts()[:3].plot(kind='pie',\n",
    "                                        title='Distribution of Livestock Outcomes',\n",
    "                                        labels=None,\n",
    "                                        legend='Best'\n",
    "                                       )\n",
    "plt.axis('Equal')\n",
    "\n",
    "# Create a pie chart showing distribution of 'other' outcomes\n",
    "plt.figure(figsize=(8, 8))\n",
    "data[data['Animal Type'] == 'Other']['Outcome Type'].value_counts()[:7].plot(kind='pie',\n",
    "                                        title='Distribution of Other Outcomes',\n",
    "                                        labels=None,\n",
    "                                        legend='Best'\n",
    "                                       )\n",
    "plt.axis('Equal')\n",
    "\n",
    "# Display plot\n",
    "plt.show()"
   ]
  },
  {
   "cell_type": "markdown",
   "metadata": {},
   "source": [
    "Although there is a much smaller number of entries for these categories, we can see that they each have a good distribution of outcomes, and so for now it will be best to keep these entries in the data for consideration.\n",
    "\n",
    "Next we will look at Outcome types:"
   ]
  },
  {
   "cell_type": "code",
   "execution_count": 26,
   "metadata": {},
   "outputs": [
    {
     "name": "stdout",
     "output_type": "stream",
     "text": [
      "Outcome Types\n",
      " Adoption           32001\n",
      "Transfer           23079\n",
      "Return to Owner    13897\n",
      "Euthanasia          5991\n",
      "Died                 668\n",
      "Disposal             303\n",
      "Rto-Adopt            121\n",
      "Missing               46\n",
      "Relocate              16\n",
      "Name: Outcome Type, dtype: int64\n"
     ]
    },
    {
     "data": {
      "image/png": "[encoded data removed]",
      "text/plain": [
       "<matplotlib.figure.Figure at 0xb529940>"
      ]
     },
     "metadata": {},
     "output_type": "display_data"
    }
   ],
   "source": [
    "# Display occurences of outcome types\n",
    "print('Outcome Types\\n', data['Outcome Type'].value_counts())\n",
    "\n",
    "# Create a pie chart showing distribution of outcome subtypes for missing animals\n",
    "plt.figure(figsize=(8, 8))\n",
    "data[data['Outcome Type'] == 'Missing']['Outcome Subtype'].value_counts()[:3].plot(kind='pie',\n",
    "                                        title='Distribution of Missing Animal Outcomes',\n",
    "                                        labels=None,\n",
    "                                        legend='Best'\n",
    "                                       )\n",
    "# Display plot\n",
    "plt.show()"
   ]
  },
  {
   "cell_type": "code",
   "execution_count": 27,
   "metadata": {},
   "outputs": [
    {
     "data": {
      "text/html": [
       "<div>\n",
       "<style>\n",
       "    .dataframe thead tr:only-child th {\n",
       "        text-align: right;\n",
       "    }\n",
       "\n",
       "    .dataframe thead th {\n",
       "        text-align: left;\n",
       "    }\n",
       "\n",
       "    .dataframe tbody tr th {\n",
       "        vertical-align: top;\n",
       "    }\n",
       "</style>\n",
       "<table border=\"1\" class=\"dataframe\">\n",
       "  <thead>\n",
       "    <tr style=\"text-align: right;\">\n",
       "      <th></th>\n",
       "      <th>Animal ID</th>\n",
       "      <th>Name</th>\n",
       "      <th>DateTime</th>\n",
       "      <th>Date of Birth</th>\n",
       "      <th>Outcome Type</th>\n",
       "      <th>Outcome Subtype</th>\n",
       "      <th>Animal Type</th>\n",
       "      <th>Sex upon Outcome</th>\n",
       "      <th>Age upon Outcome</th>\n",
       "      <th>Breed</th>\n",
       "      <th>Primary Color</th>\n",
       "      <th>Secondary Color</th>\n",
       "    </tr>\n",
       "  </thead>\n",
       "  <tbody>\n",
       "    <tr>\n",
       "      <th>1963</th>\n",
       "      <td>A678645</td>\n",
       "      <td>NaN</td>\n",
       "      <td>2014-05-13 15:17:00</td>\n",
       "      <td>2012-05-11</td>\n",
       "      <td>Relocate</td>\n",
       "      <td>NaN</td>\n",
       "      <td>Other</td>\n",
       "      <td>Unknown</td>\n",
       "      <td>732 days 15:17:00</td>\n",
       "      <td>Raccoon Mix</td>\n",
       "      <td>Black</td>\n",
       "      <td>NaN</td>\n",
       "    </tr>\n",
       "    <tr>\n",
       "      <th>21783</th>\n",
       "      <td>A718875</td>\n",
       "      <td>NaN</td>\n",
       "      <td>2016-01-13 13:28:00</td>\n",
       "      <td>2015-01-08</td>\n",
       "      <td>Relocate</td>\n",
       "      <td>NaN</td>\n",
       "      <td>Bird</td>\n",
       "      <td>Unknown</td>\n",
       "      <td>370 days 13:28:00</td>\n",
       "      <td>Duck</td>\n",
       "      <td>White</td>\n",
       "      <td>Gray</td>\n",
       "    </tr>\n",
       "    <tr>\n",
       "      <th>28775</th>\n",
       "      <td>A676676</td>\n",
       "      <td>NaN</td>\n",
       "      <td>2014-04-14 16:35:00</td>\n",
       "      <td>2012-10-13</td>\n",
       "      <td>Relocate</td>\n",
       "      <td>NaN</td>\n",
       "      <td>Bird</td>\n",
       "      <td>Unknown</td>\n",
       "      <td>548 days 16:35:00</td>\n",
       "      <td>Duck</td>\n",
       "      <td>Brown</td>\n",
       "      <td>Tan</td>\n",
       "    </tr>\n",
       "    <tr>\n",
       "      <th>30431</th>\n",
       "      <td>A687222</td>\n",
       "      <td>NaN</td>\n",
       "      <td>2014-09-03 12:27:00</td>\n",
       "      <td>2014-03-02</td>\n",
       "      <td>Relocate</td>\n",
       "      <td>NaN</td>\n",
       "      <td>Other</td>\n",
       "      <td>Unknown</td>\n",
       "      <td>185 days 12:27:00</td>\n",
       "      <td>Opossum</td>\n",
       "      <td>Brown</td>\n",
       "      <td>White</td>\n",
       "    </tr>\n",
       "    <tr>\n",
       "      <th>31838</th>\n",
       "      <td>A736399</td>\n",
       "      <td>NaN</td>\n",
       "      <td>2016-10-11 10:22:00</td>\n",
       "      <td>2014-10-10</td>\n",
       "      <td>Relocate</td>\n",
       "      <td>NaN</td>\n",
       "      <td>Other</td>\n",
       "      <td>Intact Female</td>\n",
       "      <td>732 days 10:22:00</td>\n",
       "      <td>Raccoon</td>\n",
       "      <td>Black</td>\n",
       "      <td>Gray</td>\n",
       "    </tr>\n",
       "    <tr>\n",
       "      <th>33151</th>\n",
       "      <td>A748513</td>\n",
       "      <td>NaN</td>\n",
       "      <td>2017-05-03 11:28:00</td>\n",
       "      <td>2015-05-03</td>\n",
       "      <td>Relocate</td>\n",
       "      <td>NaN</td>\n",
       "      <td>Bird</td>\n",
       "      <td>Unknown</td>\n",
       "      <td>731 days 11:28:00</td>\n",
       "      <td>Crow Mix</td>\n",
       "      <td>Black</td>\n",
       "      <td>NaN</td>\n",
       "    </tr>\n",
       "    <tr>\n",
       "      <th>38196</th>\n",
       "      <td>A737965</td>\n",
       "      <td>NaN</td>\n",
       "      <td>2016-11-08 10:19:00</td>\n",
       "      <td>2016-05-07</td>\n",
       "      <td>Relocate</td>\n",
       "      <td>NaN</td>\n",
       "      <td>Other</td>\n",
       "      <td>Unknown</td>\n",
       "      <td>185 days 10:19:00</td>\n",
       "      <td>Raccoon</td>\n",
       "      <td>Brown</td>\n",
       "      <td>NaN</td>\n",
       "    </tr>\n",
       "    <tr>\n",
       "      <th>57390</th>\n",
       "      <td>A687250</td>\n",
       "      <td>NaN</td>\n",
       "      <td>2014-09-24 14:39:00</td>\n",
       "      <td>2014-03-02</td>\n",
       "      <td>Relocate</td>\n",
       "      <td>NaN</td>\n",
       "      <td>Other</td>\n",
       "      <td>Unknown</td>\n",
       "      <td>206 days 14:39:00</td>\n",
       "      <td>Raccoon Mix</td>\n",
       "      <td>Brown</td>\n",
       "      <td>Black</td>\n",
       "    </tr>\n",
       "    <tr>\n",
       "      <th>57429</th>\n",
       "      <td>A683134</td>\n",
       "      <td>NaN</td>\n",
       "      <td>2014-07-17 16:55:00</td>\n",
       "      <td>2014-06-07</td>\n",
       "      <td>Relocate</td>\n",
       "      <td>NaN</td>\n",
       "      <td>Other</td>\n",
       "      <td>Unknown</td>\n",
       "      <td>40 days 16:55:00</td>\n",
       "      <td>Raccoon Mix</td>\n",
       "      <td>Black</td>\n",
       "      <td>Gray</td>\n",
       "    </tr>\n",
       "    <tr>\n",
       "      <th>58657</th>\n",
       "      <td>A701725</td>\n",
       "      <td>NaN</td>\n",
       "      <td>2015-05-13 07:43:00</td>\n",
       "      <td>2014-11-03</td>\n",
       "      <td>Relocate</td>\n",
       "      <td>NaN</td>\n",
       "      <td>Bird</td>\n",
       "      <td>Unknown</td>\n",
       "      <td>191 days 07:43:00</td>\n",
       "      <td>Chicken</td>\n",
       "      <td>Black</td>\n",
       "      <td>NaN</td>\n",
       "    </tr>\n",
       "  </tbody>\n",
       "</table>\n",
       "</div>"
      ],
      "text/plain": [
       "      Animal ID Name            DateTime Date of Birth Outcome Type  \\\n",
       "1963    A678645  NaN 2014-05-13 15:17:00    2012-05-11     Relocate   \n",
       "21783   A718875  NaN 2016-01-13 13:28:00    2015-01-08     Relocate   \n",
       "28775   A676676  NaN 2014-04-14 16:35:00    2012-10-13     Relocate   \n",
       "30431   A687222  NaN 2014-09-03 12:27:00    2014-03-02     Relocate   \n",
       "31838   A736399  NaN 2016-10-11 10:22:00    2014-10-10     Relocate   \n",
       "33151   A748513  NaN 2017-05-03 11:28:00    2015-05-03     Relocate   \n",
       "38196   A737965  NaN 2016-11-08 10:19:00    2016-05-07     Relocate   \n",
       "57390   A687250  NaN 2014-09-24 14:39:00    2014-03-02     Relocate   \n",
       "57429   A683134  NaN 2014-07-17 16:55:00    2014-06-07     Relocate   \n",
       "58657   A701725  NaN 2015-05-13 07:43:00    2014-11-03     Relocate   \n",
       "\n",
       "      Outcome Subtype Animal Type Sex upon Outcome  Age upon Outcome  \\\n",
       "1963              NaN       Other          Unknown 732 days 15:17:00   \n",
       "21783             NaN        Bird          Unknown 370 days 13:28:00   \n",
       "28775             NaN        Bird          Unknown 548 days 16:35:00   \n",
       "30431             NaN       Other          Unknown 185 days 12:27:00   \n",
       "31838             NaN       Other    Intact Female 732 days 10:22:00   \n",
       "33151             NaN        Bird          Unknown 731 days 11:28:00   \n",
       "38196             NaN       Other          Unknown 185 days 10:19:00   \n",
       "57390             NaN       Other          Unknown 206 days 14:39:00   \n",
       "57429             NaN       Other          Unknown  40 days 16:55:00   \n",
       "58657             NaN        Bird          Unknown 191 days 07:43:00   \n",
       "\n",
       "             Breed Primary Color Secondary Color  \n",
       "1963   Raccoon Mix         Black             NaN  \n",
       "21783         Duck         White            Gray  \n",
       "28775         Duck         Brown             Tan  \n",
       "30431      Opossum         Brown           White  \n",
       "31838      Raccoon         Black            Gray  \n",
       "33151     Crow Mix         Black             NaN  \n",
       "38196      Raccoon         Brown             NaN  \n",
       "57390  Raccoon Mix         Brown           Black  \n",
       "57429  Raccoon Mix         Black            Gray  \n",
       "58657      Chicken         Black             NaN  "
      ]
     },
     "execution_count": 27,
     "metadata": {},
     "output_type": "execute_result"
    }
   ],
   "source": [
    "data[data['Outcome Type'] == 'Relocate'].head(10)"
   ]
  },
  {
   "cell_type": "markdown",
   "metadata": {},
   "source": [
    "Relocated animals do not have much associated information as shown in the table above, and so their removal may improve the analysis we can perform on other entries.\n",
    "\n",
    "In addition, if the animals are missing, they in essence do not have an outcome that is likely to help us to determine how their features influenced the outcomes, so these rows will be removed."
   ]
  },
  {
   "cell_type": "code",
   "execution_count": 28,
   "metadata": {},
   "outputs": [
    {
     "data": {
      "text/plain": [
       "Adoption           32001\n",
       "Transfer           23079\n",
       "Return to Owner    13897\n",
       "Euthanasia          5991\n",
       "Died                 668\n",
       "Disposal             303\n",
       "Rto-Adopt            121\n",
       "Relocate               0\n",
       "Missing                0\n",
       "Name: Outcome Type, dtype: int64"
      ]
     },
     "execution_count": 28,
     "metadata": {},
     "output_type": "execute_result"
    }
   ],
   "source": [
    "# Remove entries from rows with missing and relocated outcome types\n",
    "data = data[data['Outcome Type'] != 'Missing']\n",
    "data = data[data['Outcome Type'] !='Relocate']\n",
    "data['Outcome Type'].value_counts()"
   ]
  },
  {
   "cell_type": "markdown",
   "metadata": {},
   "source": [
    "Finally, we can also classify the marginal subtypes as 'Other' in order to reduce the number of subtypes we are dealing with:"
   ]
  },
  {
   "cell_type": "code",
   "execution_count": 29,
   "metadata": {},
   "outputs": [
    {
     "name": "stdout",
     "output_type": "stream",
     "text": [
      "Outcome Subtypes\n",
      " Partner                19316\n",
      "Foster                  5407\n",
      "SCRP                    3211\n",
      "Suffering               2477\n",
      "Rabies Risk             2374\n",
      "Snr                      542\n",
      "Aggressive               505\n",
      "Offsite                  363\n",
      "In Kennel                330\n",
      "Medical                  253\n",
      "In Foster                159\n",
      "Behavior                 142\n",
      "At Vet                    57\n",
      "Enroute                   44\n",
      "Underage                  28\n",
      "Court/Investigation       18\n",
      "In Surgery                16\n",
      "Barn                       3\n",
      "Possible Theft             0\n",
      "Name: Outcome Subtype, dtype: int64\n"
     ]
    }
   ],
   "source": [
    "# Display number of occurences of outcome subtypes\n",
    "print('Outcome Subtypes\\n', data['Outcome Subtype'].value_counts())"
   ]
  },
  {
   "cell_type": "code",
   "execution_count": 30,
   "metadata": {},
   "outputs": [
    {
     "name": "stdout",
     "output_type": "stream",
     "text": [
      "Partner        19316\n",
      "Foster          5407\n",
      "SCRP            3211\n",
      "Suffering       2477\n",
      "Rabies Risk     2374\n",
      "Snr              542\n",
      "Aggressive       505\n",
      "Offsite          363\n",
      "In Kennel        330\n",
      "Medical          253\n",
      "Other            166\n",
      "In Foster        159\n",
      "Behavior         142\n",
      "Name: Outcome Subtype, dtype: int64\n"
     ]
    }
   ],
   "source": [
    "# Create list with subtypes that have less than 100 occurrences each\n",
    "others = data['Outcome Subtype'].value_counts() < 100\n",
    "others = others[others == True].index.astype(str)\n",
    "\n",
    "# Convert Series back into string type temporarily for replacement\n",
    "data['Outcome Subtype'] = data['Outcome Subtype'].astype(str)\n",
    "\n",
    "# Initialize empty list and i for loop\n",
    "i = 0\n",
    "others_list = []\n",
    "\n",
    "# replace categories with less than 100 occurences each with 'Other' subtype\n",
    "for entry in data['Outcome Subtype'].isin(others):\n",
    "    if entry == True:\n",
    "        others_list.append('Other')\n",
    "    elif data.iloc[i, 5] == 'nan':\n",
    "        others_list.append(None)\n",
    "    else:\n",
    "        others_list.append(data.iloc[i, 5])\n",
    "    i += 1\n",
    "        \n",
    "others_list = pd.Categorical(others_list, ordered = False)\n",
    "\n",
    "# Merge replacements\n",
    "data['Outcome Subtype'] = others_list\n",
    "\n",
    "# Display occurrences of outcome subtypes after replacement\n",
    "print(data['Outcome Subtype'].value_counts())"
   ]
  },
  {
   "cell_type": "markdown",
   "metadata": {},
   "source": [
    "## Closing Remarks\n",
    "\n",
    "In this project, the Austin Animal Center dataset was explored and prepared for analysis. By converting columns into their appropriate formatting, removing duplicate information, and correcting missing values/outliers where possible, the data can yield more information in analysis. This includes the dataset taking less space in memory to work more quickly, as well as having a richer set of data which we can probe.\n",
    "\n",
    "### Thanks for Reading!"
   ]
  }
 ],
 "metadata": {
  "kernelspec": {
   "display_name": "Python 3",
   "language": "python",
   "name": "python3"
  },
  "language_info": {
   "codemirror_mode": {
    "name": "ipython",
    "version": 3
   },
   "file_extension": ".py",
   "mimetype": "text/x-python",
   "name": "python",
   "nbconvert_exporter": "python",
   "pygments_lexer": "ipython3",
   "version": "3.6.2"
  }
 },
 "nbformat": 4,
 "nbformat_minor": 2
}
