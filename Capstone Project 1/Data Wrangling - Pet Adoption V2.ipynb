{
 "cells": [
  {
   "cell_type": "markdown",
   "metadata": {},
   "source": [
    "# Understanding Factors in Animal Shelter Pet Adoption - Data Wrangling\n",
    "\n",
    "In efforts to understand trends in pet adoption outcomes, the Austin Animal Center has provided data relating to the pets in their adoption center. Understanding this data and using it to model the factors that influence pet adoption could lead to recommendations that improve the performance of the center and help more pets find homes.\n",
    "\n",
    "### Objective\n",
    "\n",
    "In this project I will be exploring the dataset and using various data wrangling techniques to prepare the data via basic data wrangling techniques in order to prepare the data for analysis. This will include the following steps:\n",
    "\n",
    "   1. Loading the data and extracting general info and structure\n",
    "   2. Verifying that data is tidy\n",
    "   3. Identifying & dealing with missing values/outliers"
   ]
  },
  {
   "cell_type": "markdown",
   "metadata": {},
   "source": [
    "### 1. Data Info and Structure\n",
    "\n",
    "First I will start by loading the required packages, as well as the dataset which can be found **[here](https://data.austintexas.gov/Health-and-Community-Services/Austin-Animal-Center-Outcomes/9t4d-g238)**\n",
    "\n",
    "**Note:** This dataset is updated hourly, and was accessed on Sunday, December 12th 2017 at 19:00 UTC for this project."
   ]
  },
  {
   "cell_type": "code",
   "execution_count": 39,
   "metadata": {
    "collapsed": true
   },
   "outputs": [],
   "source": [
    "# For working with dataframes and manipulation\n",
    "import numpy as np\n",
    "import pandas as pd\n",
    "\n",
    "# Used to create graphics and plots\n",
    "import matplotlib.pyplot as plt\n",
    "import seaborn as sns"
   ]
  },
  {
   "cell_type": "markdown",
   "metadata": {},
   "source": [
    "Instead of the raw data, I will be working with the data that was cleaned in \"Data Wrangling - Pet Adoption\""
   ]
  },
  {
   "cell_type": "code",
   "execution_count": 31,
   "metadata": {
    "collapsed": true
   },
   "outputs": [],
   "source": [
    "# Load the dataset locally\n",
    "data = pd.read_csv('data/Austin_Animal_Center_Outcomes.csv')"
   ]
  },
  {
   "cell_type": "code",
   "execution_count": 32,
   "metadata": {},
   "outputs": [
    {
     "name": "stdout",
     "output_type": "stream",
     "text": [
      "# of entries in this dataset: 76133\n",
      "# of features per entry: 12\n"
     ]
    }
   ],
   "source": [
    "# Display number of entries and features in the data\n",
    "print('# of entries in this dataset: {0}'.format(data.shape[0]))\n",
    "print('# of features per entry: {0}'.format(data.shape[1]))"
   ]
  },
  {
   "cell_type": "code",
   "execution_count": 33,
   "metadata": {},
   "outputs": [
    {
     "name": "stdout",
     "output_type": "stream",
     "text": [
      "<class 'pandas.core.frame.DataFrame'>\n",
      "RangeIndex: 76133 entries, 0 to 76132\n",
      "Data columns (total 12 columns):\n",
      "Animal ID           76133 non-null object\n",
      "Name                52741 non-null object\n",
      "DateTime            76133 non-null object\n",
      "MonthYear           76133 non-null object\n",
      "Date of Birth       76133 non-null object\n",
      "Outcome Type        76123 non-null object\n",
      "Outcome Subtype     35280 non-null object\n",
      "Animal Type         76133 non-null object\n",
      "Sex upon Outcome    76131 non-null object\n",
      "Age upon Outcome    76123 non-null object\n",
      "Breed               76133 non-null object\n",
      "Color               76133 non-null object\n",
      "dtypes: object(12)\n",
      "memory usage: 7.0+ MB\n"
     ]
    }
   ],
   "source": [
    "# Display general information on dataset\n",
    "data.info()"
   ]
  },
  {
   "cell_type": "markdown",
   "metadata": {},
   "source": [
    "There are a few details to mention here. Firstly we can see that within our 12 columns, there seem to be some missing entries in several of the columns, which may need to be addressed later on. In addition, all of the row types are classified as 'object', which can most likely be handled more efficiently if we are able to parse out specific types such as the 'DateTime' column. This column can be handled with much more functionality if we are able to convert it to a Datetime object in our dataframe.\n",
    "\n",
    "In order to get more information, we will preview the first few rows of the data."
   ]
  },
  {
   "cell_type": "code",
   "execution_count": 34,
   "metadata": {},
   "outputs": [
    {
     "data": {
      "text/html": [
       "<div>\n",
       "<style>\n",
       "    .dataframe thead tr:only-child th {\n",
       "        text-align: right;\n",
       "    }\n",
       "\n",
       "    .dataframe thead th {\n",
       "        text-align: left;\n",
       "    }\n",
       "\n",
       "    .dataframe tbody tr th {\n",
       "        vertical-align: top;\n",
       "    }\n",
       "</style>\n",
       "<table border=\"1\" class=\"dataframe\">\n",
       "  <thead>\n",
       "    <tr style=\"text-align: right;\">\n",
       "      <th></th>\n",
       "      <th>Animal ID</th>\n",
       "      <th>Name</th>\n",
       "      <th>DateTime</th>\n",
       "      <th>MonthYear</th>\n",
       "      <th>Date of Birth</th>\n",
       "      <th>Outcome Type</th>\n",
       "      <th>Outcome Subtype</th>\n",
       "      <th>Animal Type</th>\n",
       "      <th>Sex upon Outcome</th>\n",
       "      <th>Age upon Outcome</th>\n",
       "      <th>Breed</th>\n",
       "      <th>Color</th>\n",
       "    </tr>\n",
       "  </thead>\n",
       "  <tbody>\n",
       "    <tr>\n",
       "      <th>0</th>\n",
       "      <td>A741715</td>\n",
       "      <td>*Pebbles</td>\n",
       "      <td>01/11/2017 06:17:00 PM</td>\n",
       "      <td>01/11/2017 06:17:00 PM</td>\n",
       "      <td>03/07/2016</td>\n",
       "      <td>Adoption</td>\n",
       "      <td>NaN</td>\n",
       "      <td>Cat</td>\n",
       "      <td>Spayed Female</td>\n",
       "      <td>10 months</td>\n",
       "      <td>Domestic Shorthair Mix</td>\n",
       "      <td>Calico</td>\n",
       "    </tr>\n",
       "    <tr>\n",
       "      <th>1</th>\n",
       "      <td>A658751</td>\n",
       "      <td>Benji</td>\n",
       "      <td>11/13/2016 01:38:00 PM</td>\n",
       "      <td>11/13/2016 01:38:00 PM</td>\n",
       "      <td>07/14/2011</td>\n",
       "      <td>Return to Owner</td>\n",
       "      <td>NaN</td>\n",
       "      <td>Dog</td>\n",
       "      <td>Neutered Male</td>\n",
       "      <td>5 years</td>\n",
       "      <td>Border Terrier Mix</td>\n",
       "      <td>Tan</td>\n",
       "    </tr>\n",
       "    <tr>\n",
       "      <th>2</th>\n",
       "      <td>A721285</td>\n",
       "      <td>NaN</td>\n",
       "      <td>02/24/2016 02:42:00 PM</td>\n",
       "      <td>02/24/2016 02:42:00 PM</td>\n",
       "      <td>02/24/2014</td>\n",
       "      <td>Euthanasia</td>\n",
       "      <td>Suffering</td>\n",
       "      <td>Other</td>\n",
       "      <td>Unknown</td>\n",
       "      <td>2 years</td>\n",
       "      <td>Raccoon Mix</td>\n",
       "      <td>Black/Gray</td>\n",
       "    </tr>\n",
       "    <tr>\n",
       "      <th>3</th>\n",
       "      <td>A746650</td>\n",
       "      <td>Rose</td>\n",
       "      <td>04/07/2017 11:58:00 AM</td>\n",
       "      <td>04/07/2017 11:58:00 AM</td>\n",
       "      <td>04/06/2016</td>\n",
       "      <td>Return to Owner</td>\n",
       "      <td>NaN</td>\n",
       "      <td>Dog</td>\n",
       "      <td>Intact Female</td>\n",
       "      <td>1 year</td>\n",
       "      <td>Labrador Retriever/Jack Russell Terrier</td>\n",
       "      <td>Yellow</td>\n",
       "    </tr>\n",
       "    <tr>\n",
       "      <th>4</th>\n",
       "      <td>A750122</td>\n",
       "      <td>Happy Camper</td>\n",
       "      <td>05/24/2017 06:36:00 PM</td>\n",
       "      <td>05/24/2017 06:36:00 PM</td>\n",
       "      <td>04/08/2017</td>\n",
       "      <td>Transfer</td>\n",
       "      <td>Partner</td>\n",
       "      <td>Dog</td>\n",
       "      <td>Intact Male</td>\n",
       "      <td>1 month</td>\n",
       "      <td>Labrador Retriever Mix</td>\n",
       "      <td>Black</td>\n",
       "    </tr>\n",
       "    <tr>\n",
       "      <th>5</th>\n",
       "      <td>A756696</td>\n",
       "      <td>Shakti</td>\n",
       "      <td>09/01/2017 11:23:00 AM</td>\n",
       "      <td>09/01/2017 11:23:00 AM</td>\n",
       "      <td>08/24/2014</td>\n",
       "      <td>Return to Owner</td>\n",
       "      <td>NaN</td>\n",
       "      <td>Cat</td>\n",
       "      <td>Spayed Female</td>\n",
       "      <td>3 years</td>\n",
       "      <td>Domestic Shorthair Mix</td>\n",
       "      <td>Blue/White</td>\n",
       "    </tr>\n",
       "    <tr>\n",
       "      <th>6</th>\n",
       "      <td>A684346</td>\n",
       "      <td>NaN</td>\n",
       "      <td>07/22/2014 04:04:00 PM</td>\n",
       "      <td>07/22/2014 04:04:00 PM</td>\n",
       "      <td>07/07/2014</td>\n",
       "      <td>Transfer</td>\n",
       "      <td>Partner</td>\n",
       "      <td>Cat</td>\n",
       "      <td>Intact Male</td>\n",
       "      <td>2 weeks</td>\n",
       "      <td>Domestic Shorthair Mix</td>\n",
       "      <td>Orange Tabby</td>\n",
       "    </tr>\n",
       "    <tr>\n",
       "      <th>7</th>\n",
       "      <td>A666430</td>\n",
       "      <td>Lucy</td>\n",
       "      <td>11/07/2013 11:47:00 AM</td>\n",
       "      <td>11/07/2013 11:47:00 AM</td>\n",
       "      <td>11/06/2012</td>\n",
       "      <td>Transfer</td>\n",
       "      <td>Partner</td>\n",
       "      <td>Dog</td>\n",
       "      <td>Spayed Female</td>\n",
       "      <td>1 year</td>\n",
       "      <td>Beagle Mix</td>\n",
       "      <td>White/Brown</td>\n",
       "    </tr>\n",
       "    <tr>\n",
       "      <th>8</th>\n",
       "      <td>A675708</td>\n",
       "      <td>*Johnny</td>\n",
       "      <td>06/03/2014 02:20:00 PM</td>\n",
       "      <td>06/03/2014 02:20:00 PM</td>\n",
       "      <td>03/31/2013</td>\n",
       "      <td>Adoption</td>\n",
       "      <td>NaN</td>\n",
       "      <td>Dog</td>\n",
       "      <td>Neutered Male</td>\n",
       "      <td>1 year</td>\n",
       "      <td>Pit Bull</td>\n",
       "      <td>Blue/White</td>\n",
       "    </tr>\n",
       "    <tr>\n",
       "      <th>9</th>\n",
       "      <td>A680386</td>\n",
       "      <td>Monday</td>\n",
       "      <td>06/15/2014 03:50:00 PM</td>\n",
       "      <td>06/15/2014 03:50:00 PM</td>\n",
       "      <td>06/02/2005</td>\n",
       "      <td>Transfer</td>\n",
       "      <td>Partner</td>\n",
       "      <td>Dog</td>\n",
       "      <td>Neutered Male</td>\n",
       "      <td>9 years</td>\n",
       "      <td>Miniature Schnauzer Mix</td>\n",
       "      <td>White</td>\n",
       "    </tr>\n",
       "  </tbody>\n",
       "</table>\n",
       "</div>"
      ],
      "text/plain": [
       "  Animal ID          Name                DateTime               MonthYear  \\\n",
       "0   A741715      *Pebbles  01/11/2017 06:17:00 PM  01/11/2017 06:17:00 PM   \n",
       "1   A658751         Benji  11/13/2016 01:38:00 PM  11/13/2016 01:38:00 PM   \n",
       "2   A721285           NaN  02/24/2016 02:42:00 PM  02/24/2016 02:42:00 PM   \n",
       "3   A746650          Rose  04/07/2017 11:58:00 AM  04/07/2017 11:58:00 AM   \n",
       "4   A750122  Happy Camper  05/24/2017 06:36:00 PM  05/24/2017 06:36:00 PM   \n",
       "5   A756696        Shakti  09/01/2017 11:23:00 AM  09/01/2017 11:23:00 AM   \n",
       "6   A684346           NaN  07/22/2014 04:04:00 PM  07/22/2014 04:04:00 PM   \n",
       "7   A666430          Lucy  11/07/2013 11:47:00 AM  11/07/2013 11:47:00 AM   \n",
       "8   A675708       *Johnny  06/03/2014 02:20:00 PM  06/03/2014 02:20:00 PM   \n",
       "9   A680386        Monday  06/15/2014 03:50:00 PM  06/15/2014 03:50:00 PM   \n",
       "\n",
       "  Date of Birth     Outcome Type Outcome Subtype Animal Type Sex upon Outcome  \\\n",
       "0    03/07/2016         Adoption             NaN         Cat    Spayed Female   \n",
       "1    07/14/2011  Return to Owner             NaN         Dog    Neutered Male   \n",
       "2    02/24/2014       Euthanasia       Suffering       Other          Unknown   \n",
       "3    04/06/2016  Return to Owner             NaN         Dog    Intact Female   \n",
       "4    04/08/2017         Transfer         Partner         Dog      Intact Male   \n",
       "5    08/24/2014  Return to Owner             NaN         Cat    Spayed Female   \n",
       "6    07/07/2014         Transfer         Partner         Cat      Intact Male   \n",
       "7    11/06/2012         Transfer         Partner         Dog    Spayed Female   \n",
       "8    03/31/2013         Adoption             NaN         Dog    Neutered Male   \n",
       "9    06/02/2005         Transfer         Partner         Dog    Neutered Male   \n",
       "\n",
       "  Age upon Outcome                                    Breed         Color  \n",
       "0        10 months                   Domestic Shorthair Mix        Calico  \n",
       "1          5 years                       Border Terrier Mix           Tan  \n",
       "2          2 years                              Raccoon Mix    Black/Gray  \n",
       "3           1 year  Labrador Retriever/Jack Russell Terrier        Yellow  \n",
       "4          1 month                   Labrador Retriever Mix         Black  \n",
       "5          3 years                   Domestic Shorthair Mix    Blue/White  \n",
       "6          2 weeks                   Domestic Shorthair Mix  Orange Tabby  \n",
       "7           1 year                               Beagle Mix   White/Brown  \n",
       "8           1 year                                 Pit Bull    Blue/White  \n",
       "9          9 years                  Miniature Schnauzer Mix         White  "
      ]
     },
     "execution_count": 34,
     "metadata": {},
     "output_type": "execute_result"
    }
   ],
   "source": [
    "# Display first 10 entries\n",
    "data.head(10)"
   ]
  },
  {
   "cell_type": "markdown",
   "metadata": {},
   "source": [
    "This table gives a much better look at what is going on in the data. Starting from the leftmost column are the following observations:\n",
    "\n",
    "   1. **Animal ID** - This is a unique identifier for each entry that is a letter combined with a number. This seems well-formatted.\n",
    "     \n",
    "   2. **Name** - Some entries are missing here, and there are also some entries with asterisks before the names (e.g. \\*Pebbles, \\*Johnny). It will be useful if we can find out the meaning of the asterisk in this field.  \n",
    "     \n",
    "   3. **DateTime** and **MonthYear** - These columns look like datetime objects, but they look identical for the entries we see. If we verify that the columns are identical, we may be better served removing one.\n",
    "     \n",
    "   4. **Date of Birth** - This year may also be converted into a datetime object, so that we can perform time-series analysis with this information.\n",
    "     \n",
    "   5. **Outcome Type** - There are several categories in this column, and we may be able to convert the entries into categories for easier handling.\n",
    "     \n",
    "   6. **Outcome Subtype** - This has many missing entries, and we only see categories for Euthanasia and Transfer corresponding outcome types. Depending on the number of subtypes for these types, it may be more efficient to integrate them into the outcome type category.\n",
    "     \n",
    "   7. **Animal Type** - In addition to cats and dogs, there is an 'Other' category here in the third entry, corresponding to a 'Raccoon Mix' breed of animal. With the small amount of types of animals, this column is likely to perform better as categorical values.\n",
    "     \n",
    "   8. **Age upon Outcome** - If we are able to convert this into a uniform value (e.g. age in months) we can work with these values as numbers which will make analyzing this data easier. It should also be noted that if we work with the Outcome DateTime and Date of Birth columns as datetime objects, columns like this can be generated by arithmetic operations.\n",
    "     \n",
    "   9. **Breed** and **Color** - These columns look well-formatted, but more investigation is needed in order to determine whether they will perform better as categorical values, or what additional ways they can be transformed in order to yield more information.\n",
    "   \n",
    "### 2. Data Cleaning\n",
    "\n",
    "Before we start cleaning the data, we will look at the distribution of Animal Types that the Austin Animal Center works with."
   ]
  },
  {
   "cell_type": "code",
   "execution_count": 35,
   "metadata": {},
   "outputs": [
    {
     "data": {
      "image/png": "[encoded data removed]",
      "text/plain": [
       "<matplotlib.figure.Figure at 0xe3540b8>"
      ]
     },
     "metadata": {},
     "output_type": "display_data"
    }
   ],
   "source": [
    "# Display number of occurences of animal types\n",
    "data['Animal Type'].value_counts().plot(kind='pie', legend='Best', labels=None)\n",
    "plt.axis('equal')\n",
    "plt.show()"
   ]
  },
  {
   "cell_type": "markdown",
   "metadata": {},
   "source": [
    "For this project we will only be considering cats and dogs, since they make up the majority of the activity at the animal center and thus require the most resources to shelter and find homes."
   ]
  },
  {
   "cell_type": "code",
   "execution_count": 36,
   "metadata": {
    "collapsed": true
   },
   "outputs": [],
   "source": [
    "cat_data = data['Animal Type'] == 'Cat'\n",
    "dog_data = data['Animal Type'] == 'Dog'\n",
    "data = data[cat_data | dog_data]"
   ]
  },
  {
   "cell_type": "markdown",
   "metadata": {},
   "source": [
    "Next let's look at the 'Name' column of the data. There are entries with asterisks and entries without. I have contacted the custodians of this dataset, and recieved the following reply:\n",
    "\n",
    "    \"...ASO Staff are supposed to be using the asterisk when they name a pet at their review – after they come in.  \n",
    "    If they came in with a name, then no asterisk.\"\n",
    "    \n",
    "Since the asterisks only denotes whether or not the name of the animal was given before they arrived at the shelter it is not a factor of interest for this analysis so they will simply be removed"
   ]
  },
  {
   "cell_type": "code",
   "execution_count": 41,
   "metadata": {},
   "outputs": [],
   "source": [
    "# Remove asterisks from names\n",
    "data['Name'] = data['Name'].map(lambda x: str(x).lstrip('*'))\n",
    "\n",
    "\n",
    "# Convert 'nan' strings back into NaN missing entries\n",
    "data['Name'].replace('nan', np.nan);"
   ]
  },
  {
   "cell_type": "markdown",
   "metadata": {},
   "source": [
    "Now the names will appear without asterisks.\n",
    "\n",
    "Next up is the DateTime and MonthYear columns:"
   ]
  },
  {
   "cell_type": "code",
   "execution_count": 42,
   "metadata": {},
   "outputs": [
    {
     "data": {
      "text/plain": [
       "True    71626\n",
       "dtype: int64"
      ]
     },
     "execution_count": 42,
     "metadata": {},
     "output_type": "execute_result"
    }
   ],
   "source": [
    "# Check if all values in the DateTime and MonthYear columns are identical\n",
    "(data.DateTime == data.MonthYear).value_counts()"
   ]
  },
  {
   "cell_type": "markdown",
   "metadata": {},
   "source": [
    "Since these columns are identical, we can remove the MonthYear column for now."
   ]
  },
  {
   "cell_type": "code",
   "execution_count": 43,
   "metadata": {
    "collapsed": true
   },
   "outputs": [],
   "source": [
    "# Remove MonthYear columnn from the dataset\n",
    "data = data.drop('MonthYear', axis=1);"
   ]
  },
  {
   "cell_type": "markdown",
   "metadata": {},
   "source": [
    "Now we can convert the 'DateTime' column into a datetime format. Since 'Date of Birth' needs this as well, we will perform this action on both columns."
   ]
  },
  {
   "cell_type": "code",
   "execution_count": 44,
   "metadata": {
    "collapsed": true
   },
   "outputs": [],
   "source": [
    "# Convert DateTime and Date of Birth into datetime format\n",
    "data['DateTime'] =  pd.to_datetime(data['DateTime'], format='%m/%d/%Y %I:%M:%S %p')\n",
    "data['Date of Birth'] = pd.to_datetime(data['Date of Birth'], format='%m/%d/%Y')"
   ]
  },
  {
   "cell_type": "markdown",
   "metadata": {},
   "source": [
    "Next let's look at the outcome types and subtypes."
   ]
  },
  {
   "cell_type": "code",
   "execution_count": 45,
   "metadata": {},
   "outputs": [
    {
     "name": "stdout",
     "output_type": "stream",
     "text": [
      "Outcome Types\n",
      " Adoption           31686\n",
      "Transfer           22432\n",
      "Return to Owner    13853\n",
      "Euthanasia          2925\n",
      "Died                 529\n",
      "Rto-Adopt            121\n",
      "Missing               45\n",
      "Disposal              30\n",
      "Name: Outcome Type, dtype: int64\n",
      "\n",
      "Outcome Subtypes\n",
      " Partner                18669\n",
      "Foster                  5369\n",
      "SCRP                    3211\n",
      "Suffering               1960\n",
      "Snr                      542\n",
      "Aggressive               504\n",
      "Offsite                  360\n",
      "In Kennel                297\n",
      "In Foster                170\n",
      "Rabies Risk              144\n",
      "Behavior                 142\n",
      "Medical                  116\n",
      "At Vet                    54\n",
      "Court/Investigation       18\n",
      "Enroute                   18\n",
      "In Surgery                15\n",
      "Possible Theft             9\n",
      "Barn                       3\n",
      "Underage                   1\n",
      "Name: Outcome Subtype, dtype: int64\n"
     ]
    }
   ],
   "source": [
    "# Display number of occurences of outcome types\n",
    "print('Outcome Types\\n', data['Outcome Type'].value_counts())\n",
    "\n",
    "# Display number of occurences of outcome subtypes\n",
    "print('\\nOutcome Subtypes\\n', data['Outcome Subtype'].value_counts())"
   ]
  },
  {
   "cell_type": "markdown",
   "metadata": {},
   "source": [
    "For the outcome types we will mainly be investigating Adoption, Transfers and we will consider all other outcomes as undesirable. Euthanasia and Death must be accounted for so they will remain, but we will drop the small number of entries for animals that either went missing or were brought to the center for disposal."
   ]
  },
  {
   "cell_type": "code",
   "execution_count": 46,
   "metadata": {
    "collapsed": true
   },
   "outputs": [],
   "source": [
    "# Remove 'Missing' and 'Disposal Entries\n",
    "data = data[data['Outcome Type'] != 'Missing']\n",
    "data = data[data['Outcome Type'] != 'Disposal']"
   ]
  },
  {
   "cell_type": "markdown",
   "metadata": {},
   "source": [
    "Additionally, we will combine the rto-adopt entries into the class of adoption:"
   ]
  },
  {
   "cell_type": "code",
   "execution_count": 50,
   "metadata": {},
   "outputs": [],
   "source": [
    "# Replace 'Rto-Adopt' entries with 'Adoption' class\n",
    "data['Outcome Type'].replace('Rto-Adopt', 'Adoption');"
   ]
  },
  {
   "cell_type": "markdown",
   "metadata": {},
   "source": [
    "This will help to significantly reduce the number of classes we are working with and thus improve the simplicity of the model.\n",
    "\n",
    "Before moving on, we should convert our 'Outcome Type' column into categorical values, since we have a managable number of classes and it is our main feature of interest."
   ]
  },
  {
   "cell_type": "code",
   "execution_count": 52,
   "metadata": {
    "collapsed": true
   },
   "outputs": [],
   "source": [
    "# Convert column to categorical entries\n",
    "data['Outcome Type'] = pd.Categorical(data['Outcome Type'], ordered=False)"
   ]
  },
  {
   "cell_type": "markdown",
   "metadata": {},
   "source": [
    "Similarly, the 'Animal Type' and 'Sex upon Outcome' columns should be considered as categorical features"
   ]
  },
  {
   "cell_type": "code",
   "execution_count": 53,
   "metadata": {},
   "outputs": [
    {
     "name": "stdout",
     "output_type": "stream",
     "text": [
      "Animal Types\n",
      " Dog    42857\n",
      "Cat    28694\n",
      "Name: Animal Type, dtype: int64\n",
      "\n",
      "Sex upon Outcome\n",
      " Neutered Male    26867\n",
      "Spayed Female    24329\n",
      "Intact Male       8937\n",
      "Intact Female     8694\n",
      "Unknown           2722\n",
      "Name: Sex upon Outcome, dtype: int64\n"
     ]
    }
   ],
   "source": [
    "# Display number of occurences of animal types\n",
    "print('Animal Types\\n', data['Animal Type'].value_counts())\n",
    "\n",
    "# Display number of occurences of sex types\n",
    "print('\\nSex upon Outcome\\n', data['Sex upon Outcome'].value_counts())"
   ]
  },
  {
   "cell_type": "code",
   "execution_count": 54,
   "metadata": {
    "collapsed": true
   },
   "outputs": [],
   "source": [
    "# Convert columns to categorical entries\n",
    "data['Animal Type'] = pd.Categorical(data['Animal Type'], ordered=False)\n",
    "data['Sex upon Outcome'] = pd.Categorical(data['Sex upon Outcome'], ordered=False)"
   ]
  },
  {
   "cell_type": "markdown",
   "metadata": {},
   "source": [
    "As previously discussed, we can calculate the outcome age of any animal in the table (with a bit more granularity than we were provided) by converting this column into a timedelta format."
   ]
  },
  {
   "cell_type": "code",
   "execution_count": 55,
   "metadata": {
    "collapsed": true
   },
   "outputs": [],
   "source": [
    "# Replace age column with calculation from birthdate and outcome date\n",
    "data['Age upon Outcome'] = pd.to_timedelta(data['DateTime'] - data['Date of Birth'])"
   ]
  },
  {
   "cell_type": "markdown",
   "metadata": {},
   "source": [
    "Next we consider the breed and color columns:"
   ]
  },
  {
   "cell_type": "code",
   "execution_count": 56,
   "metadata": {},
   "outputs": [
    {
     "name": "stdout",
     "output_type": "stream",
     "text": [
      "Breeds\n",
      " Domestic Shorthair Mix                           22768\n",
      "Pit Bull Mix                                      5924\n",
      "Chihuahua Shorthair Mix                           4590\n",
      "Labrador Retriever Mix                            4444\n",
      "Domestic Medium Hair Mix                          2252\n",
      "German Shepherd Mix                               1839\n",
      "Domestic Longhair Mix                             1197\n",
      "Australian Cattle Dog Mix                         1030\n",
      "Siamese Mix                                        980\n",
      "Dachshund Mix                                      783\n",
      "Boxer Mix                                          649\n",
      "Miniature Poodle Mix                               625\n",
      "Border Collie Mix                                  623\n",
      "Catahoula Mix                                      459\n",
      "Australian Shepherd Mix                            445\n",
      "Rat Terrier Mix                                    438\n",
      "Yorkshire Terrier Mix                              415\n",
      "Siberian Husky Mix                                 405\n",
      "Jack Russell Terrier Mix                           403\n",
      "Miniature Schnauzer Mix                            380\n",
      "Domestic Shorthair                                 378\n",
      "Beagle Mix                                         368\n",
      "Chihuahua Longhair Mix                             346\n",
      "Staffordshire Mix                                  328\n",
      "Great Pyrenees Mix                                 324\n",
      "Pointer Mix                                        314\n",
      "Cairn Terrier Mix                                  312\n",
      "Rottweiler Mix                                     306\n",
      "American Bulldog Mix                               306\n",
      "Shih Tzu Mix                                       270\n",
      "                                                 ...  \n",
      "Labrador Retriever/Weimaraner                        1\n",
      "Chihuahua Shorthair/Shiba Inu                        1\n",
      "Australian Shepherd/Field Spaniel                    1\n",
      "Catahoula/Doberman Pinsch                            1\n",
      "Golden Retriever/Catahoula                           1\n",
      "Entlebucher Mix                                      1\n",
      "Pug/Boston Terrier                                   1\n",
      "German Shepherd/English Coonhound                    1\n",
      "American Staffordshire Terrier/Rhod Ridgeback        1\n",
      "French Bulldog/English Bulldog                       1\n",
      "Yorkshire Terrier/Bruss Griffon                      1\n",
      "Catahoula/Siberian Husky                             1\n",
      "Standard Poodle/Whippet                              1\n",
      "Dachshund Wirehair/Pbgv                              1\n",
      "Cardigan Welsh Corgi/English Setter                  1\n",
      "German Shepherd/Vizsla                               1\n",
      "Yorkshire Terrier/Soft Coated Wheaten Terrier        1\n",
      "Whippet/Plott Hound                                  1\n",
      "St. Bernard Rough Coat/Standard Schnauzer            1\n",
      "Dogue De Bordeaux/Labrador Retriever                 1\n",
      "Boykin Span/Cocker Spaniel                           1\n",
      "Alaskan Malamute/Australian Kelpie                   1\n",
      "Great Dane/Pointer                                   1\n",
      "Irish Setter Mix                                     1\n",
      "Basset Hound/English Cocker Spaniel                  1\n",
      "Vizsla/Catahoula                                     1\n",
      "English Bulldog/Dachshund                            1\n",
      "Golden Retriever/Whippet                             1\n",
      "Rat Terrier/Cairn Terrier                            1\n",
      "Pit Bull/Queensland Heeler                           1\n",
      "Name: Breed, Length: 1948, dtype: int64\n",
      "\n",
      "Colors\n",
      " Black/White                  7660\n",
      "Black                        6150\n",
      "Brown Tabby                  4335\n",
      "White                        2563\n",
      "Brown/White                  2308\n",
      "Tan/White                    2301\n",
      "Brown Tabby/White            2272\n",
      "Orange Tabby                 2140\n",
      "Blue/White                   2013\n",
      "White/Black                  1939\n",
      "Tricolor                     1892\n",
      "Tan                          1882\n",
      "Black/Tan                    1795\n",
      "Brown                        1757\n",
      "White/Brown                  1478\n",
      "Black/Brown                  1316\n",
      "Brown Brindle/White          1316\n",
      "Tortie                       1306\n",
      "Calico                       1297\n",
      "Blue                         1280\n",
      "Blue Tabby                   1113\n",
      "White/Tan                    1111\n",
      "Orange Tabby/White           1072\n",
      "Brown/Black                   969\n",
      "Red                           871\n",
      "Red/White                     836\n",
      "Torbie                        823\n",
      "Brown Brindle                 688\n",
      "Tan/Black                     579\n",
      "Chocolate/White               575\n",
      "                             ... \n",
      "Tortie Point/Lynx Point         1\n",
      "White/Tortie                    1\n",
      "Torbie/Silver Tabby             1\n",
      "Yellow/Black                    1\n",
      "Black/Gold                      1\n",
      "Brown Brindle/Gray              1\n",
      "Red/Blue                        1\n",
      "Chocolate/Red Tick              1\n",
      "Blue Cream/Blue Tiger           1\n",
      "Tan/Apricot                     1\n",
      "Tricolor/Calico                 1\n",
      "Cream/Cream                     1\n",
      "Tortie/Tortie                   1\n",
      "Lynx Point/Gray Tabby           1\n",
      "Blue/Calico                     1\n",
      "White/Gray Tiger                1\n",
      "Blue Cream/Blue Tabby           1\n",
      "Blue Merle/Gray                 1\n",
      "Gray Tabby/Orange               1\n",
      "Tricolor/Blue Tick              1\n",
      "Chocolate/Yellow                1\n",
      "Blue Smoke/Gray                 1\n",
      "Black Tabby/Orange              1\n",
      "Blue Smoke/Brown                1\n",
      "Red Tick/Black                  1\n",
      "Tortie/Black Smoke              1\n",
      "Brown Tabby/Black Brindle       1\n",
      "Calico Point/Gray               1\n",
      "Red Tick/Blue Tick              1\n",
      "Gold/Buff                       1\n",
      "Name: Color, Length: 491, dtype: int64\n"
     ]
    }
   ],
   "source": [
    "# Display number of occurences of breeds\n",
    "print('Breeds\\n', data['Breed'].value_counts())\n",
    "\n",
    "# Display number of occurences of animal colors\n",
    "print('\\nColors\\n', data['Color'].value_counts())"
   ]
  },
  {
   "cell_type": "markdown",
   "metadata": {},
   "source": [
    "We can see that the list of breeds and colors are very long and many categories only have one entry. There are a few options to take here. First, for breeds, we can cut down the number of entries by reducing the number of mixed breed entries of the format 'breed/breed'."
   ]
  },
  {
   "cell_type": "code",
   "execution_count": 57,
   "metadata": {},
   "outputs": [
    {
     "name": "stdout",
     "output_type": "stream",
     "text": [
      "# of unique breeds in the original dataset: 1948\n",
      "# of mixed breeds classified by \"breed/breed\": 1551\n",
      "# of unique breeds after replacement: 399\n"
     ]
    }
   ],
   "source": [
    "# Print the number of distinct breeds found in the data\n",
    "print('# of unique breeds in the original dataset: {0}'.format(len(data['Breed'].unique())))\n",
    "\n",
    "# Print the number of mixed breeds with the format 'breed/breed'\n",
    "print('# of mixed breeds classified by \"breed/breed\": {0}'.format(len(data[data['Breed'].str.contains('/')]['Breed'].unique())))\n",
    "\n",
    "# Iterate over the list to find and replace all mixed breeds with 'first_breed/second_breed' to format 'first_breed Mix'\n",
    "mixed_breeds = []\n",
    "\n",
    "for breed in data['Breed']:\n",
    "    if '/' in breed:\n",
    "        mixed_breeds.append(breed.split('/')[0] + ' Mix')\n",
    "    else:\n",
    "        mixed_breeds.append(breed)\n",
    "\n",
    "# Check to see whether the result is of appropriate length\n",
    "assert len(mixed_breeds) == len(data['Breed'])        \n",
    "\n",
    "# Replace 'Breed' data with reduced category set\n",
    "data['Breed'] = pd.Series(mixed_breeds)\n",
    "\n",
    "# Display the number of distinct breeds after replacement\n",
    "print('# of unique breeds after replacement: {0}'.format(len(data['Breed'].unique())))"
   ]
  },
  {
   "cell_type": "markdown",
   "metadata": {},
   "source": [
    "Now we have significantly reduced the number of breed categories in the dataset. For the 'Color' categories, we may lose some important information that can be useful. For example, do white and orange cats get adopted more often than white and black cats? In order to keep as much information as possible, but provide some simpler avenues for analysis I will split the 'Color' column into 'Primary Color' and 'Secondary Color' values for the animals."
   ]
  },
  {
   "cell_type": "code",
   "execution_count": 58,
   "metadata": {},
   "outputs": [
    {
     "name": "stdout",
     "output_type": "stream",
     "text": [
      "# of unique colors in the original dataset: 491\n",
      "# of mixed colors classified by \"color/color\": 435\n",
      "# of unique colors after replacement: 57\n",
      "# of unique colors after replacement: 51\n"
     ]
    }
   ],
   "source": [
    "# Print the number of distinct colors found in the dataset\n",
    "print('# of unique colors in the original dataset: {0}'.format(len(data['Color'].unique())))\n",
    "\n",
    "# Print the number of mixed breeds with the format 'color/color'\n",
    "print('# of mixed colors classified by \"color/color\": {0}'.format(len(data[data['Color'].str.contains('/')]['Color'].unique())))\n",
    "\n",
    "# Iterate over the list to find and replace all mixed breeds with 'first_breed/second_breed' to format 'first_breed Mix'\n",
    "primary_colors = []\n",
    "secondary_colors = []\n",
    "\n",
    "for color in data['Color']:\n",
    "    if '/' in color:\n",
    "        primary_colors.append(color.split('/')[0])\n",
    "        secondary_colors.append(color.split('/')[1])\n",
    "    else:\n",
    "        primary_colors.append(color)\n",
    "        secondary_colors.append(None)\n",
    "\n",
    "# Check to see whether the result is of appropriate length\n",
    "assert len(primary_colors) == len(data['Color'])\n",
    "assert len(secondary_colors) == len(data['Color'])\n",
    "\n",
    "# Replace 'Color' with 'Primary Color' and 'Secondary Color' data\n",
    "data = data.drop('Color', axis=1)\n",
    "data['Primary Color'] = pd.Series(primary_colors)\n",
    "data['Secondary Color'] = pd.Series(secondary_colors)\n",
    "\n",
    "# Display the number of distinct colors after replacement\n",
    "print('# of unique colors after replacement: {0}'.format(len(pd.Series(primary_colors).unique())))\n",
    "print('# of unique colors after replacement: {0}'.format(len(pd.Series(secondary_colors).unique())))"
   ]
  },
  {
   "cell_type": "markdown",
   "metadata": {},
   "source": [
    "Now the number of color categories has been reduced to about 10% of its original number. Now we can re-check the values for these categories."
   ]
  },
  {
   "cell_type": "code",
   "execution_count": 59,
   "metadata": {
    "scrolled": true
   },
   "outputs": [
    {
     "name": "stdout",
     "output_type": "stream",
     "text": [
      "Breeds\n",
      " Domestic Shorthair Mix              21362\n",
      "Pit Bull Mix                         5892\n",
      "Labrador Retriever Mix               5313\n",
      "Chihuahua Shorthair Mix              4953\n",
      "Domestic Medium Hair Mix             2146\n",
      "German Shepherd Mix                  2103\n",
      "Australian Cattle Dog Mix            1208\n",
      "Domestic Longhair Mix                1136\n",
      "Dachshund Mix                        1027\n",
      "Siamese Mix                           928\n",
      "Boxer Mix                             769\n",
      "Border Collie Mix                     768\n",
      "Miniature Poodle Mix                  693\n",
      "Catahoula Mix                         549\n",
      "Australian Shepherd Mix               521\n",
      "Jack Russell Terrier Mix              510\n",
      "Beagle Mix                            497\n",
      "Yorkshire Terrier Mix                 497\n",
      "Rat Terrier Mix                       483\n",
      "Miniature Schnauzer Mix               469\n",
      "Siberian Husky Mix                    458\n",
      "Great Pyrenees Mix                    411\n",
      "Pointer Mix                           394\n",
      "Chihuahua Longhair Mix                378\n",
      "Cairn Terrier Mix                     353\n",
      "Domestic Shorthair                    352\n",
      "Rottweiler Mix                        341\n",
      "Staffordshire Mix                     329\n",
      "American Bulldog Mix                  326\n",
      "Shih Tzu Mix                          305\n",
      "                                    ...  \n",
      "Dandie Dinmont                          1\n",
      "Hovawart                                1\n",
      "English Pointer                         1\n",
      "Mexican Hairless                        1\n",
      "Manchester Terrier                      1\n",
      "Dogue De Bordeaux                       1\n",
      "Hovawart Mix                            1\n",
      "Bouv Flandres Mix                       1\n",
      "Landseer                                1\n",
      "Swiss Hound Mix                         1\n",
      "American Wirehair Mix                   1\n",
      "Old English Sheepdog Mix                1\n",
      "Chesa Bay Retr                          1\n",
      "Grand Basset Griffon Vendeen Mix        1\n",
      "Birman Mix                              1\n",
      "Unknown Mix                             1\n",
      "Sealyham Terr Mix                       1\n",
      "Entlebucher Mix                         1\n",
      "Treeing Walker Coonhound                1\n",
      "Keeshond                                1\n",
      "Treeing Tennesse Brindle                1\n",
      "Greater Swiss Mountain Dog              1\n",
      "Welsh Terrier                           1\n",
      "Norwegian Elkhound Mix                  1\n",
      "Bruss Griffon                           1\n",
      "Havana Brown Mix                        1\n",
      "Belgian Sheepdog                        1\n",
      "Norwich Terrier                         1\n",
      "Whippet                                 1\n",
      "Airedale Terrier                        1\n",
      "Name: Breed, Length: 398, dtype: int64\n",
      "\n",
      "Primary Colors\n",
      " Black                16468\n",
      "White                 8689\n",
      "Brown Tabby           6264\n",
      "Brown                 5056\n",
      "Tan                   4733\n",
      "Blue                  3199\n",
      "Orange Tabby          3007\n",
      "Brown Brindle         1924\n",
      "Tricolor              1887\n",
      "Red                   1877\n",
      "Blue Tabby            1569\n",
      "Tortie                1332\n",
      "Calico                1315\n",
      "Chocolate             1107\n",
      "Torbie                 947\n",
      "Sable                  690\n",
      "Cream Tabby            685\n",
      "Cream                  608\n",
      "Yellow                 578\n",
      "Gray                   567\n",
      "Fawn                   521\n",
      "Buff                   499\n",
      "Lynx Point             445\n",
      "Blue Merle             353\n",
      "Seal Point             352\n",
      "Black Brindle          255\n",
      "Black Tabby            223\n",
      "Gray Tabby             200\n",
      "Flame Point            183\n",
      "Gold                   164\n",
      "Brown Merle            158\n",
      "Black Smoke            138\n",
      "Orange                 117\n",
      "Blue Tick              112\n",
      "Red Merle              102\n",
      "Red Tick               100\n",
      "Silver                  98\n",
      "Silver Tabby            82\n",
      "Lilac Point             75\n",
      "Yellow Brindle          69\n",
      "Tortie Point            68\n",
      "Blue Point              60\n",
      "Apricot                 58\n",
      "Chocolate Point         53\n",
      "Calico Point            52\n",
      "Blue Cream              40\n",
      "Liver                   35\n",
      "Blue Tiger              29\n",
      "Blue Smoke              15\n",
      "Brown Tiger             15\n",
      "Silver Lynx Point       13\n",
      "Agouti                   9\n",
      "Liver Tick               6\n",
      "Black Tiger              3\n",
      "Ruddy                    1\n",
      "Pink                     1\n",
      "Orange Tiger             1\n",
      "Name: Primary Color, dtype: int64\n"
     ]
    }
   ],
   "source": [
    "# Display number of occurences of breeds\n",
    "print('Breeds\\n', data['Breed'].value_counts())\n",
    "\n",
    "# Display number of occurences of animal colors\n",
    "print('\\nPrimary Colors\\n', data['Primary Color'].value_counts())"
   ]
  },
  {
   "cell_type": "markdown",
   "metadata": {},
   "source": [
    "And finally we set these columns as categorical variables."
   ]
  },
  {
   "cell_type": "code",
   "execution_count": 60,
   "metadata": {
    "collapsed": true
   },
   "outputs": [],
   "source": [
    "# Convert columns to categorical entries\n",
    "data['Breed'] = pd.Categorical(data['Breed'], ordered=False)\n",
    "data['Primary Color'] = pd.Categorical(data['Primary Color'], ordered=False)\n",
    "data['Secondary Color'] = pd.Categorical(data['Secondary Color'], ordered=False)"
   ]
  },
  {
   "cell_type": "markdown",
   "metadata": {},
   "source": [
    "Now that we have applied some formatting to each column, we can revisit the dataset information to get a summary of our results."
   ]
  },
  {
   "cell_type": "code",
   "execution_count": 61,
   "metadata": {},
   "outputs": [
    {
     "name": "stdout",
     "output_type": "stream",
     "text": [
      "# of entries in this dataset: 71551\n",
      "# of features per entry: 12\n",
      "\n",
      "<class 'pandas.core.frame.DataFrame'>\n",
      "Int64Index: 71551 entries, 0 to 76132\n",
      "Data columns (total 12 columns):\n",
      "Animal ID           71551 non-null object\n",
      "Name                71551 non-null object\n",
      "DateTime            71551 non-null datetime64[ns]\n",
      "Date of Birth       71551 non-null datetime64[ns]\n",
      "Outcome Type        71546 non-null category\n",
      "Outcome Subtype     31567 non-null object\n",
      "Animal Type         71551 non-null category\n",
      "Sex upon Outcome    71549 non-null category\n",
      "Age upon Outcome    71551 non-null timedelta64[ns]\n",
      "Breed               67207 non-null category\n",
      "Primary Color       67207 non-null category\n",
      "Secondary Color     35573 non-null category\n",
      "dtypes: category(6), datetime64[ns](2), object(3), timedelta64[ns](1)\n",
      "memory usage: 6.8+ MB\n"
     ]
    }
   ],
   "source": [
    "# Display number of entries and features in the formatted dataset\n",
    "print('# of entries in this dataset: {0}'.format(data.shape[0]))\n",
    "print('# of features per entry: {0}\\n'.format(data.shape[1])) \n",
    "\n",
    "# Display formatted dataset information\n",
    "data.info()"
   ]
  },
  {
   "cell_type": "markdown",
   "metadata": {},
   "source": [
    "Not only is the data better formatted for analysis. After replacements, we ended up with the same number of features as before, though these features have a richer set of data for analysis."
   ]
  },
  {
   "cell_type": "markdown",
   "metadata": {},
   "source": [
    "### 3. Missing Values\n",
    "\n",
    "Below are the columns with missing data:"
   ]
  },
  {
   "cell_type": "code",
   "execution_count": 62,
   "metadata": {},
   "outputs": [
    {
     "data": {
      "text/html": [
       "<div>\n",
       "<style>\n",
       "    .dataframe thead tr:only-child th {\n",
       "        text-align: right;\n",
       "    }\n",
       "\n",
       "    .dataframe thead th {\n",
       "        text-align: left;\n",
       "    }\n",
       "\n",
       "    .dataframe tbody tr th {\n",
       "        vertical-align: top;\n",
       "    }\n",
       "</style>\n",
       "<table border=\"1\" class=\"dataframe\">\n",
       "  <thead>\n",
       "    <tr style=\"text-align: right;\">\n",
       "      <th></th>\n",
       "      <th># of missing entries</th>\n",
       "    </tr>\n",
       "  </thead>\n",
       "  <tbody>\n",
       "    <tr>\n",
       "      <th>Outcome Type</th>\n",
       "      <td>5</td>\n",
       "    </tr>\n",
       "    <tr>\n",
       "      <th>Outcome Subtype</th>\n",
       "      <td>39984</td>\n",
       "    </tr>\n",
       "    <tr>\n",
       "      <th>Sex upon Outcome</th>\n",
       "      <td>2</td>\n",
       "    </tr>\n",
       "    <tr>\n",
       "      <th>Breed</th>\n",
       "      <td>4344</td>\n",
       "    </tr>\n",
       "    <tr>\n",
       "      <th>Primary Color</th>\n",
       "      <td>4344</td>\n",
       "    </tr>\n",
       "    <tr>\n",
       "      <th>Secondary Color</th>\n",
       "      <td>35978</td>\n",
       "    </tr>\n",
       "  </tbody>\n",
       "</table>\n",
       "</div>"
      ],
      "text/plain": [
       "                  # of missing entries\n",
       "Outcome Type                         5\n",
       "Outcome Subtype                  39984\n",
       "Sex upon Outcome                     2\n",
       "Breed                             4344\n",
       "Primary Color                     4344\n",
       "Secondary Color                  35978"
      ]
     },
     "execution_count": 62,
     "metadata": {},
     "output_type": "execute_result"
    }
   ],
   "source": [
    "# Identify columns with any missing values\n",
    "NA_columns = data.columns[data.isnull().any()]\n",
    "\n",
    "# Count missing entries in each column\n",
    "NA_data_counts = data.isnull().sum()[NA_columns]\n",
    "\n",
    "# Display columns and counts of missing entries\n",
    "pd.DataFrame(data = NA_data_counts, columns = ['# of missing entries'])"
   ]
  },
  {
   "cell_type": "markdown",
   "metadata": {},
   "source": [
    "We can see that out of the 5 columns that contain missing entries, 'Outcome Subtype' and 'Secondary Color' have empty entries by necessity, since some outcome types do not have subclasses, and some animals do not have secondary colors. In addition, names may not be crucial to the other animal attributes, but it is crucial to keep records of animals with and without given names, since this fact may also influence the outcome type for that animal.\n",
    "\n",
    "What is left are a handful of entries without outcome type, which is critical information that we are interested in, and without sex information. Since we are currently working with a dataset of more than 76,000 entries, we can remove these entries without any significant impact on our data."
   ]
  },
  {
   "cell_type": "code",
   "execution_count": 63,
   "metadata": {},
   "outputs": [
    {
     "data": {
      "text/html": [
       "<div>\n",
       "<style>\n",
       "    .dataframe thead tr:only-child th {\n",
       "        text-align: right;\n",
       "    }\n",
       "\n",
       "    .dataframe thead th {\n",
       "        text-align: left;\n",
       "    }\n",
       "\n",
       "    .dataframe tbody tr th {\n",
       "        vertical-align: top;\n",
       "    }\n",
       "</style>\n",
       "<table border=\"1\" class=\"dataframe\">\n",
       "  <thead>\n",
       "    <tr style=\"text-align: right;\">\n",
       "      <th></th>\n",
       "      <th># of missing entries</th>\n",
       "    </tr>\n",
       "  </thead>\n",
       "  <tbody>\n",
       "    <tr>\n",
       "      <th>Outcome Subtype</th>\n",
       "      <td>39978</td>\n",
       "    </tr>\n",
       "    <tr>\n",
       "      <th>Breed</th>\n",
       "      <td>4344</td>\n",
       "    </tr>\n",
       "    <tr>\n",
       "      <th>Primary Color</th>\n",
       "      <td>4344</td>\n",
       "    </tr>\n",
       "    <tr>\n",
       "      <th>Secondary Color</th>\n",
       "      <td>35975</td>\n",
       "    </tr>\n",
       "  </tbody>\n",
       "</table>\n",
       "</div>"
      ],
      "text/plain": [
       "                 # of missing entries\n",
       "Outcome Subtype                 39978\n",
       "Breed                            4344\n",
       "Primary Color                    4344\n",
       "Secondary Color                 35975"
      ]
     },
     "execution_count": 63,
     "metadata": {},
     "output_type": "execute_result"
    }
   ],
   "source": [
    "# Remove entries from columns with missing data for either Outcome Type or Sex\n",
    "data = data.dropna(subset=['Outcome Type', 'Sex upon Outcome'])\n",
    "\n",
    "# Display columns and counts of missing entries\n",
    "NA_columns = data.columns[data.isnull().any()]\n",
    "NA_data_counts = data.isnull().sum()[NA_columns]\n",
    "pd.DataFrame(data = NA_data_counts, columns = ['# of missing entries'])"
   ]
  },
  {
   "cell_type": "markdown",
   "metadata": {},
   "source": [
    "### 4. Outliers"
   ]
  },
  {
   "cell_type": "markdown",
   "metadata": {},
   "source": [
    "Although many outliers were corrected with the previous formatting, there is one main column of interest here that I will explore: 'Outcome Subtype'."
   ]
  },
  {
   "cell_type": "markdown",
   "metadata": {},
   "source": [
    "Finally, we can also classify the marginal subtypes as 'Other' in order to reduce the number of subtypes we are dealing with:"
   ]
  },
  {
   "cell_type": "code",
   "execution_count": 64,
   "metadata": {},
   "outputs": [
    {
     "name": "stdout",
     "output_type": "stream",
     "text": [
      "Outcome Subtypes\n",
      " Partner                18669\n",
      "Foster                  5369\n",
      "SCRP                    3211\n",
      "Suffering               1960\n",
      "Snr                      542\n",
      "Aggressive               504\n",
      "Offsite                  360\n",
      "In Kennel                289\n",
      "In Foster                152\n",
      "Rabies Risk              144\n",
      "Behavior                 142\n",
      "Medical                  116\n",
      "At Vet                    54\n",
      "Court/Investigation       18\n",
      "Enroute                   18\n",
      "In Surgery                15\n",
      "Barn                       3\n",
      "Underage                   1\n",
      "Name: Outcome Subtype, dtype: int64\n"
     ]
    }
   ],
   "source": [
    "# Display number of occurences of outcome subtypes\n",
    "print('Outcome Subtypes\\n', data['Outcome Subtype'].value_counts())"
   ]
  },
  {
   "cell_type": "code",
   "execution_count": 65,
   "metadata": {},
   "outputs": [
    {
     "name": "stdout",
     "output_type": "stream",
     "text": [
      "Partner        18669\n",
      "Foster          5369\n",
      "SCRP            3211\n",
      "Suffering       1960\n",
      "Snr              542\n",
      "Aggressive       504\n",
      "Offsite          360\n",
      "In Kennel        289\n",
      "In Foster        152\n",
      "Rabies Risk      144\n",
      "Behavior         142\n",
      "Medical          116\n",
      "Other            109\n",
      "Name: Outcome Subtype, dtype: int64\n"
     ]
    }
   ],
   "source": [
    "# Create list with subtypes that have less than 100 occurrences each\n",
    "others = data['Outcome Subtype'].value_counts() < 100\n",
    "others = others[others == True].index.astype(str)\n",
    "\n",
    "# Convert Series back into string type temporarily for replacement\n",
    "data['Outcome Subtype'] = data['Outcome Subtype'].astype(str)\n",
    "\n",
    "# Initialize empty list and i for loop\n",
    "i = 0\n",
    "others_list = []\n",
    "\n",
    "# replace categories with less than 100 occurences each with 'Other' subtype\n",
    "for entry in data['Outcome Subtype'].isin(others):\n",
    "    if entry == True:\n",
    "        others_list.append('Other')\n",
    "    elif data.iloc[i, 5] == 'nan':\n",
    "        others_list.append(None)\n",
    "    else:\n",
    "        others_list.append(data.iloc[i, 5])\n",
    "    i += 1\n",
    "        \n",
    "others_list = pd.Categorical(others_list, ordered = False)\n",
    "\n",
    "# Merge replacements\n",
    "data['Outcome Subtype'] = others_list\n",
    "\n",
    "# Display occurrences of outcome subtypes after replacement\n",
    "print(data['Outcome Subtype'].value_counts())"
   ]
  },
  {
   "cell_type": "code",
   "execution_count": 67,
   "metadata": {
    "collapsed": true
   },
   "outputs": [],
   "source": [
    "# Convert columns to categorical entries\n",
    "data['Outcome Subtype'] = pd.Categorical(data['Outcome Subtype'], ordered=False)"
   ]
  },
  {
   "cell_type": "code",
   "execution_count": 68,
   "metadata": {},
   "outputs": [
    {
     "name": "stdout",
     "output_type": "stream",
     "text": [
      "<class 'pandas.core.frame.DataFrame'>\n",
      "Int64Index: 71545 entries, 0 to 76132\n",
      "Data columns (total 12 columns):\n",
      "Animal ID           71545 non-null object\n",
      "Name                71545 non-null object\n",
      "DateTime            71545 non-null datetime64[ns]\n",
      "Date of Birth       71545 non-null datetime64[ns]\n",
      "Outcome Type        71545 non-null category\n",
      "Outcome Subtype     31567 non-null category\n",
      "Animal Type         71545 non-null category\n",
      "Sex upon Outcome    71545 non-null category\n",
      "Age upon Outcome    71545 non-null timedelta64[ns]\n",
      "Breed               67201 non-null category\n",
      "Primary Color       67201 non-null category\n",
      "Secondary Color     35570 non-null category\n",
      "dtypes: category(7), datetime64[ns](2), object(2), timedelta64[ns](1)\n",
      "memory usage: 6.3+ MB\n"
     ]
    }
   ],
   "source": [
    "data.info()"
   ]
  },
  {
   "cell_type": "markdown",
   "metadata": {},
   "source": [
    "## Closing Remarks\n",
    "\n",
    "In this project, the Austin Animal Center dataset was explored and prepared for analysis. By converting columns into their appropriate formatting, removing duplicate information, and correcting missing values/outliers where possible, the data can yield more information in analysis. This includes the dataset taking less space in memory to work more quickly, as well as having a richer set of data which we can probe.\n",
    "\n",
    "### Thanks for Reading!"
   ]
  }
 ],
 "metadata": {
  "kernelspec": {
   "display_name": "Python 3",
   "language": "python",
   "name": "python3"
  },
  "language_info": {
   "codemirror_mode": {
    "name": "ipython",
    "version": 3
   },
   "file_extension": ".py",
   "mimetype": "text/x-python",
   "name": "python",
   "nbconvert_exporter": "python",
   "pygments_lexer": "ipython3",
   "version": "3.6.2"
  }
 },
 "nbformat": 4,
 "nbformat_minor": 2
}
