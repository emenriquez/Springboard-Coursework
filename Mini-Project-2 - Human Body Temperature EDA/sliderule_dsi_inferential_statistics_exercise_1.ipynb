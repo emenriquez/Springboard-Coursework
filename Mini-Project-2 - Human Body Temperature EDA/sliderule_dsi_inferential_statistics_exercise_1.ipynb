{
 "cells": [
  {
   "cell_type": "markdown",
   "metadata": {},
   "source": [
    "# What is the True Normal Human Body Temperature? \n",
    "\n",
    "#### Background\n",
    "\n",
    "The mean normal body temperature was held to be 37$^{\\circ}$C or 98.6$^{\\circ}$F for more than 120 years since it was first conceptualized and reported by Carl Wunderlich in a famous 1868 book. But, is this value statistically correct?"
   ]
  },
  {
   "cell_type": "markdown",
   "metadata": {},
   "source": [
    "<h3>Exercises</h3>\n",
    "\n",
    "<p>In this exercise, you will analyze a dataset of human body temperatures and employ the concepts of hypothesis testing, confidence intervals, and statistical significance.</p>\n",
    "\n",
    "<p>Answer the following questions <b>in this notebook below and submit to your Github account</b>.</p> \n",
    "\n",
    "<ol>\n",
    "<li>  Is the distribution of body temperatures normal? \n",
    "    <ul>\n",
    "    <li> Although this is not a requirement for CLT to hold (read CLT carefully), it gives us some peace of mind that the population may also be normally distributed if we assume that this sample is representative of the population.\n",
    "    </ul>\n",
    "<li>  Is the sample size large? Are the observations independent?\n",
    "    <ul>\n",
    "    <li> Remember that this is a condition for the CLT, and hence the statistical tests we are using, to apply.\n",
    "    </ul>\n",
    "<li>  Is the true population mean really 98.6 degrees F?\n",
    "    <ul>\n",
    "    <li> Would you use a one-sample or two-sample test? Why?\n",
    "    <li> In this situation, is it appropriate to use the $t$ or $z$ statistic? \n",
    "    <li> Now try using the other test. How is the result be different? Why?\n",
    "    </ul>\n",
    "<li>  Draw a small sample of size 10 from the data and repeat both tests. \n",
    "    <ul>\n",
    "    <li> Which one is the correct one to use? \n",
    "    <li> What do you notice? What does this tell you about the difference in application of the $t$ and $z$ statistic?\n",
    "    </ul>\n",
    "<li>  At what temperature should we consider someone's temperature to be \"abnormal\"?\n",
    "    <ul>\n",
    "    <li> Start by computing the margin of error and confidence interval.\n",
    "    </ul>\n",
    "<li>  Is there a significant difference between males and females in normal temperature?\n",
    "    <ul>\n",
    "    <li> What test did you use and why?\n",
    "    <li> Write a story with your conclusion in the context of the original problem.\n",
    "    </ul>\n",
    "</ol>\n",
    "\n",
    "You can include written notes in notebook cells using Markdown: \n",
    "   - In the control panel at the top, choose Cell > Cell Type > Markdown\n",
    "   - Markdown syntax: http://nestacms.com/docs/creating-content/markdown-cheat-sheet\n",
    "\n",
    "#### Resources\n",
    "\n",
    "+ Information and data sources: http://www.amstat.org/publications/jse/datasets/normtemp.txt, http://www.amstat.org/publications/jse/jse_data_archive.htm\n",
    "+ Markdown syntax: http://nestacms.com/docs/creating-content/markdown-cheat-sheet\n",
    "\n",
    "****"
   ]
  },
  {
   "cell_type": "code",
   "execution_count": 17,
   "metadata": {
    "collapsed": true
   },
   "outputs": [],
   "source": [
    "# Used for operations and manipulation of data\n",
    "import pandas as pd\n",
    "import numpy as np\n",
    "\n",
    "# Used for visualization of data\n",
    "import matplotlib.pyplot as plt\n",
    "import seaborn as sns\n",
    "\n",
    "# load the dataset\n",
    "df = pd.read_csv('data/human_body_temperature.csv')\n",
    "\n",
    "# set formatting for figures\n",
    "sns.set()"
   ]
  },
  {
   "cell_type": "markdown",
   "metadata": {},
   "source": [
    "Before starting any analysis, I will look at the general structure and format of the data:"
   ]
  },
  {
   "cell_type": "code",
   "execution_count": 18,
   "metadata": {},
   "outputs": [
    {
     "name": "stdout",
     "output_type": "stream",
     "text": [
      "<class 'pandas.core.frame.DataFrame'>\n",
      "RangeIndex: 130 entries, 0 to 129\n",
      "Data columns (total 3 columns):\n",
      "temperature    130 non-null float64\n",
      "gender         130 non-null object\n",
      "heart_rate     130 non-null float64\n",
      "dtypes: float64(2), object(1)\n",
      "memory usage: 3.1+ KB\n"
     ]
    }
   ],
   "source": [
    "df.info()"
   ]
  },
  {
   "cell_type": "code",
   "execution_count": 19,
   "metadata": {},
   "outputs": [
    {
     "data": {
      "text/html": [
       "<div>\n",
       "<style>\n",
       "    .dataframe thead tr:only-child th {\n",
       "        text-align: right;\n",
       "    }\n",
       "\n",
       "    .dataframe thead th {\n",
       "        text-align: left;\n",
       "    }\n",
       "\n",
       "    .dataframe tbody tr th {\n",
       "        vertical-align: top;\n",
       "    }\n",
       "</style>\n",
       "<table border=\"1\" class=\"dataframe\">\n",
       "  <thead>\n",
       "    <tr style=\"text-align: right;\">\n",
       "      <th></th>\n",
       "      <th>temperature</th>\n",
       "      <th>gender</th>\n",
       "      <th>heart_rate</th>\n",
       "    </tr>\n",
       "  </thead>\n",
       "  <tbody>\n",
       "    <tr>\n",
       "      <th>0</th>\n",
       "      <td>99.3</td>\n",
       "      <td>F</td>\n",
       "      <td>68.0</td>\n",
       "    </tr>\n",
       "    <tr>\n",
       "      <th>1</th>\n",
       "      <td>98.4</td>\n",
       "      <td>F</td>\n",
       "      <td>81.0</td>\n",
       "    </tr>\n",
       "    <tr>\n",
       "      <th>2</th>\n",
       "      <td>97.8</td>\n",
       "      <td>M</td>\n",
       "      <td>73.0</td>\n",
       "    </tr>\n",
       "    <tr>\n",
       "      <th>3</th>\n",
       "      <td>99.2</td>\n",
       "      <td>F</td>\n",
       "      <td>66.0</td>\n",
       "    </tr>\n",
       "    <tr>\n",
       "      <th>4</th>\n",
       "      <td>98.0</td>\n",
       "      <td>F</td>\n",
       "      <td>73.0</td>\n",
       "    </tr>\n",
       "  </tbody>\n",
       "</table>\n",
       "</div>"
      ],
      "text/plain": [
       "   temperature gender  heart_rate\n",
       "0         99.3      F        68.0\n",
       "1         98.4      F        81.0\n",
       "2         97.8      M        73.0\n",
       "3         99.2      F        66.0\n",
       "4         98.0      F        73.0"
      ]
     },
     "execution_count": 19,
     "metadata": {},
     "output_type": "execute_result"
    }
   ],
   "source": [
    "df.head()"
   ]
  },
  {
   "cell_type": "code",
   "execution_count": 50,
   "metadata": {},
   "outputs": [
    {
     "data": {
      "text/html": [
       "<div>\n",
       "<style>\n",
       "    .dataframe thead tr:only-child th {\n",
       "        text-align: right;\n",
       "    }\n",
       "\n",
       "    .dataframe thead th {\n",
       "        text-align: left;\n",
       "    }\n",
       "\n",
       "    .dataframe tbody tr th {\n",
       "        vertical-align: top;\n",
       "    }\n",
       "</style>\n",
       "<table border=\"1\" class=\"dataframe\">\n",
       "  <thead>\n",
       "    <tr style=\"text-align: right;\">\n",
       "      <th></th>\n",
       "      <th>temperature</th>\n",
       "      <th>heart_rate</th>\n",
       "    </tr>\n",
       "  </thead>\n",
       "  <tbody>\n",
       "    <tr>\n",
       "      <th>count</th>\n",
       "      <td>130.000000</td>\n",
       "      <td>130.000000</td>\n",
       "    </tr>\n",
       "    <tr>\n",
       "      <th>mean</th>\n",
       "      <td>98.249231</td>\n",
       "      <td>73.761538</td>\n",
       "    </tr>\n",
       "    <tr>\n",
       "      <th>std</th>\n",
       "      <td>0.733183</td>\n",
       "      <td>7.062077</td>\n",
       "    </tr>\n",
       "    <tr>\n",
       "      <th>min</th>\n",
       "      <td>96.300000</td>\n",
       "      <td>57.000000</td>\n",
       "    </tr>\n",
       "    <tr>\n",
       "      <th>25%</th>\n",
       "      <td>97.800000</td>\n",
       "      <td>69.000000</td>\n",
       "    </tr>\n",
       "    <tr>\n",
       "      <th>50%</th>\n",
       "      <td>98.300000</td>\n",
       "      <td>74.000000</td>\n",
       "    </tr>\n",
       "    <tr>\n",
       "      <th>75%</th>\n",
       "      <td>98.700000</td>\n",
       "      <td>79.000000</td>\n",
       "    </tr>\n",
       "    <tr>\n",
       "      <th>max</th>\n",
       "      <td>100.800000</td>\n",
       "      <td>89.000000</td>\n",
       "    </tr>\n",
       "  </tbody>\n",
       "</table>\n",
       "</div>"
      ],
      "text/plain": [
       "       temperature  heart_rate\n",
       "count   130.000000  130.000000\n",
       "mean     98.249231   73.761538\n",
       "std       0.733183    7.062077\n",
       "min      96.300000   57.000000\n",
       "25%      97.800000   69.000000\n",
       "50%      98.300000   74.000000\n",
       "75%      98.700000   79.000000\n",
       "max     100.800000   89.000000"
      ]
     },
     "execution_count": 50,
     "metadata": {},
     "output_type": "execute_result"
    }
   ],
   "source": [
    "df.describe()"
   ]
  },
  {
   "cell_type": "markdown",
   "metadata": {},
   "source": [
    "### 1. Is the distribution of body temperatures normal?"
   ]
  },
  {
   "cell_type": "code",
   "execution_count": 20,
   "metadata": {
    "collapsed": true
   },
   "outputs": [],
   "source": [
    "# define ECDF function\n",
    "def ecdf(data):\n",
    "    \"\"\"Compute ECDF for a one-dimensional array of measurements.\"\"\"\n",
    "\n",
    "    # Number of data points: n\n",
    "    n = len(data)\n",
    "\n",
    "    # x-data for the ECDF: x\n",
    "    x = np.sort(data)\n",
    "\n",
    "    # y-data for the ECDF: y\n",
    "    y = np.arange(1, n+1) / n\n",
    "\n",
    "    return x, y"
   ]
  },
  {
   "cell_type": "code",
   "execution_count": 73,
   "metadata": {},
   "outputs": [
    {
     "data": {
      "image/png": "[encoded data removed]",
      "text/plain": [
       "<matplotlib.figure.Figure at 0xc4513c8>"
      ]
     },
     "metadata": {},
     "output_type": "display_data"
    }
   ],
   "source": [
    "# set a random seed for code reproducibility\n",
    "np.random.seed(1)\n",
    "\n",
    "# Calculate mu and sigma for temperature data\n",
    "mu = np.mean(df.temperature)\n",
    "sigma = np.std(df.temperature)\n",
    "\n",
    "# Calculate the corresponding normal distribution of the temperature data\n",
    "normal_temp = np.random.normal(mu, sigma, size=len(df.temperature))\n",
    "\n",
    "# Generate ecdf for both calculated and actual values\n",
    "norm_x, norm_y = ecdf(normal_temp)\n",
    "real_x, real_y = ecdf(df.temperature)\n",
    "\n",
    "# Create plots to visualize distributions\n",
    "plt.scatter(norm_x, norm_y, color='blue', alpha = 0.5)\n",
    "plt.scatter(real_x, real_y, color='red', alpha = 0.5)\n",
    "\n",
    "plt.xlabel('Temperature (degrees F)')\n",
    "plt.ylabel('ECDF')\n",
    "\n",
    "plt.show()"
   ]
  },
  {
   "cell_type": "markdown",
   "metadata": {},
   "source": [
    "We can see from the figure above that the normal distribution ecdf and the ecdf for the actual data overlap quite well, so we can assume that our data has a distribution that is close to normal."
   ]
  },
  {
   "cell_type": "markdown",
   "metadata": {},
   "source": [
    "### 2. Is the sample size large? Are the observations independent?"
   ]
  },
  {
   "cell_type": "code",
   "execution_count": 26,
   "metadata": {},
   "outputs": [
    {
     "name": "stdout",
     "output_type": "stream",
     "text": [
      "Sample Size: 130\n",
      "Sample Median: 98.3\n",
      "95% Confidence interval: Between 96.7225 and 99.4775\n"
     ]
    }
   ],
   "source": [
    "# Check the corresponding confidence interval for our total sample size\n",
    "conf_int95 = np.percentile(df.temperature, [2.5, 97.5])\n",
    "\n",
    "# Display confidence interval and sample size\n",
    "print('Sample Size: {0}'.format(df.temperature.shape[0]))\n",
    "print('Sample Median: {0}'.format(np.median(df.temperature)))\n",
    "print('95% Confidence interval: Between {0} and {1}'.format(conf_int95[0], conf_int95[1]))"
   ]
  },
  {
   "cell_type": "markdown",
   "metadata": {},
   "source": [
    "Our sample size is greater than 30, which will allow us to use several statistical metrics. Our sample size is large enough to give us a 95% confidence interval spread of about 2.8 degrees."
   ]
  },
  {
   "cell_type": "code",
   "execution_count": 42,
   "metadata": {
    "scrolled": false
   },
   "outputs": [
    {
     "name": "stdout",
     "output_type": "stream",
     "text": [
      "# of duplicated entries: 3\n",
      "\n",
      "Duplicated Entries:\n",
      "      temperature gender  heart_rate\n",
      "75          98.8      M        78.0\n",
      "87          98.0      M        78.0\n",
      "127         98.2      F        73.0\n",
      "\n",
      "Duplicate Entry 1:\n",
      "      temperature gender  heart_rate\n",
      "54          98.2      F        73.0\n",
      "127         98.2      F        73.0\n",
      "\n",
      "Duplicate Entry 2:\n",
      "     temperature gender  heart_rate\n",
      "7          98.8      M        78.0\n",
      "75         98.8      M        78.0\n",
      "\n",
      "Duplicate Entry 3:\n",
      "     temperature gender  heart_rate\n",
      "72         98.0      M        78.0\n",
      "87         98.0      M        78.0\n"
     ]
    }
   ],
   "source": [
    "# Check independence of entries\n",
    "print('# of duplicated entries: {0}'.format(df.duplicated().sum()))\n",
    "print('\\nDuplicated Entries:\\n', df[df.duplicated()])\n",
    "print('\\nDuplicate Entry 1:\\n', df.loc[(df.temperature == 98.2) & (df.gender == 'F') & (df.heart_rate == 73.0)])\n",
    "print('\\nDuplicate Entry 2:\\n', df.loc[(df.temperature == 98.8) & (df.gender == 'M') & (df.heart_rate == 78.0)])\n",
    "print('\\nDuplicate Entry 3:\\n', df.loc[(df.temperature == 98.0) & (df.gender == 'M') & (df.heart_rate == 78.0)])"
   ]
  },
  {
   "cell_type": "markdown",
   "metadata": {},
   "source": [
    "By looking at the independence of the entries, we can see that our data is sufficiently independent. With only three entries containing one instance of a duplicate each, this can be coincidental due to the small number of features rather than repeated entries by error."
   ]
  },
  {
   "cell_type": "markdown",
   "metadata": {},
   "source": [
    "### 3. Is the true population mean really 98.6 degrees F?"
   ]
  },
  {
   "cell_type": "code",
   "execution_count": 76,
   "metadata": {},
   "outputs": [
    {
     "name": "stdout",
     "output_type": "stream",
     "text": [
      "Mean Temperature of the Sample in this Dataset: 98.25 degrees F\n",
      "Standard Deviation of the Sample in this Dataset: 0.73\n",
      "Zscore for population mean of 98.6 degrees F: 5.48\n"
     ]
    }
   ],
   "source": [
    "# Mean of the sample population\n",
    "print('Mean Temperature of the Sample in this Dataset: {0:0.2f} degrees F'.format(np.mean(df.temperature)))\n",
    "print('Standard Deviation of the Sample in this Dataset: {0:0.2f}'.format(np.std(df.temperature)))\n",
    "\n",
    "# Compute Z-statistic\n",
    "z_score = (98.6 - np.mean(df.temperature))/(np.std(df.temperature)/np.sqrt(df.shape[0]))\n",
    "print('Zscore for population mean of 98.6 degrees F: {0:0.2f}'.format(z_score))"
   ]
  },
  {
   "cell_type": "markdown",
   "metadata": {},
   "source": [
    "Since our sample size is greater than 30, it is more appropriate to use a one-sample Z statistic test for this test. The approximated Z score of 5.48 translates to an extremely low probability that the population mean is actually 98.6 degrees. The t value yields a similarly small p value (<< 0.05) and so successfully rejects the null hypothesis that the actual population mean temperature is 98.6 degrees F."
   ]
  },
  {
   "cell_type": "markdown",
   "metadata": {},
   "source": [
    "### 4. Draw a small sample of size 10 and repeat both tests."
   ]
  },
  {
   "cell_type": "code",
   "execution_count": 77,
   "metadata": {},
   "outputs": [
    {
     "name": "stdout",
     "output_type": "stream",
     "text": [
      "Mean Temperature of the Sample in this Dataset: 98.27 degrees F\n",
      "Standard Deviation of the Sample in this Dataset: 0.42\n",
      "t-score for population mean of 98.6 degrees F: 9.02\n"
     ]
    }
   ],
   "source": [
    "# Subset 10 random temperatures from our sample\n",
    "np.random.seed(1)\n",
    "subset_temps = np.random.choice(df.temperature, 10)\n",
    "\n",
    "# Mean of the sample population\n",
    "print('Mean Temperature of the Sample in this Dataset: {0:0.2f} degrees F'.format(np.mean(subset_temps)))\n",
    "print('Standard Deviation of the Sample in this Dataset: {0:0.2f}'.format(np.std(subset_temps)))\n",
    "\n",
    "# Compute Z-statistic\n",
    "t_score = (98.6 - np.mean(subset_temps))/(np.std(subset_temps)/np.sqrt(df.shape[0]))\n",
    "print('t-score for population mean of 98.6 degrees F: {0:0.2f}'.format(t_score))"
   ]
  },
  {
   "cell_type": "markdown",
   "metadata": {},
   "source": [
    "Since the subset sample size is now much less than 30, the z score is no longer suitable for the test. The p value can be approximated by the t statistic in this situation, although the high t score value for a sample size of 10 still suggests a p value beyond the threshold needed to reject the null hypothesis that the population mean temperature is actually 98.6 degrees. The probability from the z score, although not a valid approximation for this case, also successfully rejects the null hypothesis."
   ]
  },
  {
   "cell_type": "markdown",
   "metadata": {},
   "source": [
    "### 5. At what temperature should we consider someone's temperature to be abnormal?"
   ]
  },
  {
   "cell_type": "code",
   "execution_count": 86,
   "metadata": {},
   "outputs": [
    {
     "name": "stdout",
     "output_type": "stream",
     "text": [
      "count    130.000000\n",
      "mean      98.249231\n",
      "std        0.733183\n",
      "min       96.300000\n",
      "25%       97.800000\n",
      "50%       98.300000\n",
      "75%       98.700000\n",
      "max      100.800000\n",
      "Name: temperature, dtype: float64\n"
     ]
    },
    {
     "data": {
      "image/png": "[encoded data removed]",
      "text/plain": [
       "<matplotlib.figure.Figure at 0xc79fdd8>"
      ]
     },
     "metadata": {},
     "output_type": "display_data"
    },
    {
     "name": "stdout",
     "output_type": "stream",
     "text": [
      "\n",
      "Range of temperatures considered normal for this dataset: Between 96.45 and 100.05 degrees F\n"
     ]
    }
   ],
   "source": [
    "# Display quartiles for temperature data\n",
    "print(df.temperature.describe())\n",
    "\n",
    "# Draw a box plot to visualize outlier temperature values\n",
    "sns.boxplot(df.temperature)\n",
    "\n",
    "plt.title('Boxplot of Temperature Distribution')\n",
    "plt.xlabel('Temperature')\n",
    "\n",
    "plt.show()\n",
    "\n",
    "# Set a condition to identify outliers in the data\n",
    "temp_quartile_values = np.percentile(df.temperature, [25, 75])\n",
    "IQR = np.percentile(df.temperature, 75) - np.percentile(df.temperature, 25)\n",
    "lowT_limit = temp_quartile_values[0] - 1.5*IQR\n",
    "highT_limit = temp_quartile_values[1] + 1.5*IQR\n",
    "print('\\nRange of temperatures considered normal for this dataset: Between {0:0.2f} and {1:0.2f} degrees F'.format(lowT_limit,\n",
    "                                                                                                          highT_limit))"
   ]
  },
  {
   "cell_type": "markdown",
   "metadata": {},
   "source": [
    "We can consider a person's temperature to be abnormal if it would occur as an outlier in our dataset. The calculations above show that a person's temperature is abnormal if it is outside of the range between 96.45 and 100.05 degrees F."
   ]
  },
  {
   "cell_type": "markdown",
   "metadata": {},
   "source": [
    "### 6. Is there a significant difference in temperatures between males and females in normal temperature?"
   ]
  },
  {
   "cell_type": "code",
   "execution_count": 110,
   "metadata": {},
   "outputs": [
    {
     "name": "stdout",
     "output_type": "stream",
     "text": [
      "Summary Statistics for Male Temperature Data\n",
      " count    65.000000\n",
      "mean     98.104615\n",
      "std       0.698756\n",
      "min      96.300000\n",
      "25%      97.600000\n",
      "50%      98.100000\n",
      "75%      98.600000\n",
      "max      99.500000\n",
      "Name: temperature, dtype: float64\n",
      "\n",
      "Summary Statistics for Female Temperature Data\n",
      " count     65.000000\n",
      "mean      98.393846\n",
      "std        0.743488\n",
      "min       96.400000\n",
      "25%       98.000000\n",
      "50%       98.400000\n",
      "75%       98.800000\n",
      "max      100.800000\n",
      "Name: temperature, dtype: float64\n"
     ]
    },
    {
     "data": {
      "image/png": "[encoded data removed]",
      "text/plain": [
       "<matplotlib.figure.Figure at 0xc5ddcf8>"
      ]
     },
     "metadata": {},
     "output_type": "display_data"
    }
   ],
   "source": [
    "# Split the data into male and females\n",
    "male_temps = df.loc[df.gender == 'M', 'temperature']\n",
    "female_temps = df.loc[df.gender == 'F', 'temperature']\n",
    "\n",
    "# Display summary statistics for each gender\n",
    "print('Summary Statistics for Male Temperature Data\\n', male_temps.describe())\n",
    "print('\\nSummary Statistics for Female Temperature Data\\n', female_temps.describe())\n",
    "\n",
    "# Display a plot of both male and female temperature distributions\n",
    "bins = np.arange(96,101, 0.2)\n",
    "plt.hist(male_temps, normed=True, color='b', bins=bins, edgecolor='k', alpha=0.3)\n",
    "plt.hist(female_temps, normed=True, color='r', bins=bins, edgecolor='k', alpha=0.3)\n",
    "\n",
    "plt.title('Distribution of Temperature vs. Gender')\n",
    "plt.xlabel('Temperature')\n",
    "plt.ylabel('Frequency')\n",
    "plt.show()"
   ]
  },
  {
   "cell_type": "markdown",
   "metadata": {},
   "source": [
    "We can see from the statistics above that females tend to have a higher mean temperature than men by about 0.3 degrees F. The distributions for each remain fairly normal, though the distribution for females is shifted upwards. There is also a slightly larger variance in the temperatures recorded for females than for males."
   ]
  }
 ],
 "metadata": {
  "kernelspec": {
   "display_name": "Python 3",
   "language": "python",
   "name": "python3"
  },
  "language_info": {
   "codemirror_mode": {
    "name": "ipython",
    "version": 3
   },
   "file_extension": ".py",
   "mimetype": "text/x-python",
   "name": "python",
   "nbconvert_exporter": "python",
   "pygments_lexer": "ipython3",
   "version": "3.6.2"
  }
 },
 "nbformat": 4,
 "nbformat_minor": 1
}
